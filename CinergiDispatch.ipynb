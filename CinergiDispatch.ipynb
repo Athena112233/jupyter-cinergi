{
 "cells": [
  {
   "cell_type": "markdown",
   "metadata": {},
   "source": [
    "# Data Discovery Studio Jupyter Notebook Dispatcher\n",
    "\n",
    "## 1. Execute the cells below to get parameters from DDS and select a notebook for processing ###\n",
    "\n",
    "Example call with Document ID from DDS: CinergiDispatch.ipynb?documentId=61cc7f6afb5246d2be41811e94a1a8ea\n"
   ]
  },
  {
   "cell_type": "code",
   "execution_count": 2,
   "metadata": {},
   "outputs": [
    {
     "data": {
      "application/javascript": [
       "function getQueryStringValue (key)\n",
       "{  \n",
       "    return unescape(window.location.search.replace(new RegExp(\"^(?:.*[&\\\\?]\" + escape(key).replace(/[\\.\\+\\*]/g, \"\\\\$&\") + \"(?:\\\\=([^&]*))?)?.*$\", \"i\"), \"$1\"));\n",
       "}\n",
       "IPython.notebook.kernel.execute(\"documentID='\".concat(getQueryStringValue(\"documentId\")).concat(\"'\"));\n",
       "IPython.notebook.kernel.execute(\"user='\".concat(getQueryStringValue(\"user\")).concat(\"'\"));\n",
       "IPython.notebook.kernel.execute(\"full_notebook_url='\" + window.location + \"'\"); "
      ],
      "text/plain": [
       "<IPython.core.display.Javascript object>"
      ]
     },
     "metadata": {},
     "output_type": "display_data"
    }
   ],
   "source": [
    "%%javascript\n",
    "function getQueryStringValue (key)\n",
    "{  \n",
    "    return unescape(window.location.search.replace(new RegExp(\"^(?:.*[&\\\\?]\" + escape(key).replace(/[\\.\\+\\*]/g, \"\\\\$&\") + \"(?:\\\\=([^&]*))?)?.*$\", \"i\"), \"$1\"));\n",
    "}\n",
    "IPython.notebook.kernel.execute(\"documentID='\".concat(getQueryStringValue(\"documentId\")).concat(\"'\"));\n",
    "IPython.notebook.kernel.execute(\"user='\".concat(getQueryStringValue(\"user\")).concat(\"'\"));\n",
    "IPython.notebook.kernel.execute(\"full_notebook_url='\" + window.location + \"'\"); "
   ]
  },
  {
   "cell_type": "markdown",
   "metadata": {},
   "source": [
    "## 2. Print out parameters passed to Jupyter: ##"
   ]
  },
  {
   "cell_type": "code",
   "execution_count": 7,
   "metadata": {},
   "outputs": [
    {
     "name": "stdout",
     "output_type": "stream",
     "text": [
      "User:  \n",
      "DocumentID:  61cc7f6afb5246d2be41811e94a1a8ea\n",
      "Full notebook URL:  http://localhost:8888/notebooks/Documents/jupyter-cinergi/CinergiDispatch.ipynb?documentId=61cc7f6afb5246d2be41811e94a1a8ea\n"
     ]
    }
   ],
   "source": [
    "# Check if the parameters are correct\n",
    "from __future__ import print_function\n",
    "import ntpath\n",
    "from ipywidgets import interact, interactive, fixed, interact_manual\n",
    "import ipywidgets as widgets\n",
    "import webbrowser\n",
    "url_partitioned = full_notebook_url.partition('/CinergiDispatch')\n",
    "base_url = url_partitioned[0];\n",
    "\n",
    "print(\"User: \",user)\n",
    "print(\"DocumentID: \", documentID)\n",
    "# print(\"full notebook url partition\", url_partitioned)\n",
    "print(\"Full notebook URL: \", full_notebook_url)"
   ]
  },
  {
   "cell_type": "markdown",
   "metadata": {},
   "source": [
    "### 2a. Optional: try an experimental dispatcher ###"
   ]
  },
  {
   "cell_type": "code",
   "execution_count": 8,
   "metadata": {},
   "outputs": [
    {
     "name": "stdout",
     "output_type": "stream",
     "text": [
      "To try the new dispatcher, click here: \n",
      "http://localhost:8888/notebooks/Documents/jupyter-cinergi/DispatchTesting/ISOmetadataDispatcher.ipynb?documentID=61cc7f6afb5246d2be41811e94a1a8ea\n"
     ]
    }
   ],
   "source": [
    "print('To try the new dispatcher, click here: ')\n",
    "print(base_url + '/DispatchTesting/ISOmetadataDispatcher.ipynb?documentID=' + documentID)"
   ]
  },
  {
   "cell_type": "markdown",
   "metadata": {},
   "source": [
    "### 2b. Optional: load notebooks from a different github repository ###\n",
    "Note: it must be a public repository"
   ]
  },
  {
   "cell_type": "code",
   "execution_count": 1,
   "metadata": {},
   "outputs": [
    {
     "name": "stderr",
     "output_type": "stream",
     "text": [
      "Cloning into 'myclone'...\n"
     ]
    },
    {
     "ename": "NameError",
     "evalue": "name 'documentID' is not defined",
     "output_type": "error",
     "traceback": [
      "\u001b[1;31m---------------------------------------------------------------------------\u001b[0m",
      "\u001b[1;31mNameError\u001b[0m                                 Traceback (most recent call last)",
      "\u001b[1;32m<ipython-input-1-d36f9abf6642>\u001b[0m in \u001b[0;36m<module>\u001b[1;34m()\u001b[0m\n\u001b[0;32m      1\u001b[0m \u001b[0mget_ipython\u001b[0m\u001b[1;33m(\u001b[0m\u001b[1;33m)\u001b[0m\u001b[1;33m.\u001b[0m\u001b[0msystem\u001b[0m\u001b[1;33m(\u001b[0m\u001b[1;34m'git clone \"https://github.com/izaslavsky/jupyter-cinergi.git\" myclone'\u001b[0m\u001b[1;33m)\u001b[0m\u001b[1;33m\u001b[0m\u001b[0m\n\u001b[1;32m----> 2\u001b[1;33m \u001b[0murl1\u001b[0m \u001b[1;33m=\u001b[0m \u001b[1;33m(\u001b[0m\u001b[1;34m'{base_url}/CinergiDispatch.ipynb?'\u001b[0m\u001b[1;33m+\u001b[0m\u001b[1;34m'documentId='\u001b[0m\u001b[1;33m+\u001b[0m\u001b[0mdocumentID\u001b[0m\u001b[1;33m+\u001b[0m\u001b[1;34m'&'\u001b[0m\u001b[1;33m+\u001b[0m\u001b[1;34m'user='\u001b[0m\u001b[1;33m+\u001b[0m\u001b[0muser\u001b[0m\u001b[1;33m)\u001b[0m\u001b[1;33m.\u001b[0m\u001b[0mformat\u001b[0m\u001b[1;33m(\u001b[0m\u001b[0mbase_url\u001b[0m\u001b[1;33m=\u001b[0m\u001b[0mbase_url\u001b[0m \u001b[1;33m+\u001b[0m \u001b[1;34m\"/myclone\"\u001b[0m\u001b[1;33m)\u001b[0m\u001b[1;33m\u001b[0m\u001b[0m\n\u001b[0m\u001b[0;32m      3\u001b[0m \u001b[0mprint\u001b[0m\u001b[1;33m(\u001b[0m\u001b[1;34m'Click the URL to open the new dispatcher : '\u001b[0m\u001b[1;33m,\u001b[0m \u001b[0murl1\u001b[0m\u001b[1;33m)\u001b[0m\u001b[1;33m\u001b[0m\u001b[0m\n",
      "\u001b[1;31mNameError\u001b[0m: name 'documentID' is not defined"
     ]
    }
   ],
   "source": [
    "!git clone \"https://github.com/izaslavsky/jupyter-cinergi.git\" myclone\n",
    "url1 = ('{base_url}/CinergiDispatch.ipynb?'+'documentId='+documentID+'&'+'user='+user).format(base_url=base_url + \"/myclone\")\n",
    "print('Click the URL to open the new dispatcher : ', url1)\n"
   ]
  },
  {
   "cell_type": "markdown",
   "metadata": {},
   "source": [
    "## 3. Select an operation to run##"
   ]
  },
  {
   "cell_type": "code",
   "execution_count": 12,
   "metadata": {
    "scrolled": true
   },
   "outputs": [
    {
     "data": {
      "application/vnd.jupyter.widget-view+json": {
       "model_id": "0898daf789a247538a2e3d60dbdf2b7c",
       "version_major": 2,
       "version_minor": 0
      },
      "text/plain": [
       "A Jupyter Widget"
      ]
     },
     "metadata": {},
     "output_type": "display_data"
    },
    {
     "name": "stdout",
     "output_type": "stream",
     "text": [
      "Select an operation, and then run the next cell to open its notebook \n"
     ]
    }
   ],
   "source": [
    "from collections import OrderedDict\n",
    "\n",
    "nb_menu = OrderedDict()\n",
    "nb_menu['1. NDBC Explore'] = 'cinergi/ndbc-explore.ipynb'\n",
    "nb_menu['2. NWIS Explore'] = 'cinergi/NWIS-explore.ipynb'\n",
    "nb_menu['3. Add to OSF Project'] = 'cinergi/Cinergi_OSF.ipynb'\n",
    "\n",
    "def f(notebooks_menu):\n",
    "    return notebooks_menu\n",
    "# out = interact(f, notebooks_menu=nb_menu);\n",
    "out = interact(f, notebooks_menu=nb_menu.keys());\n",
    "\n",
    "print('Select an operation, and then run the next cell to open its notebook ')\n"
   ]
  },
  {
   "cell_type": "markdown",
   "metadata": {},
   "source": [
    "## 4. Open the URL of the selected notebook ##"
   ]
  },
  {
   "cell_type": "code",
   "execution_count": 13,
   "metadata": {},
   "outputs": [
    {
     "name": "stdout",
     "output_type": "stream",
     "text": [
      "CLICK TO OPEN THE URL:  http://localhost:8888/notebooks/Documents/jupyter-cinergi/operations/cinergi/ndbc-explore.ipynb?documentId=61cc7f6afb5246d2be41811e94a1a8ea&user=\n"
     ]
    }
   ],
   "source": [
    "chosen_nb_name = nb_menu[out.widget.result]\n",
    "url1 = ('{base_url}/operations/{nb_name}?'+'documentId='+documentID+'&'+'user='+user).format(base_url=base_url, nb_name=chosen_nb_name)\n",
    "\n",
    "#webbrowser.open(url1)\n",
    "webbrowser.open_new(url1)\n",
    "print(\"CLICK TO OPEN THE URL: \", url1)\n"
   ]
  },
  {
   "cell_type": "code",
   "execution_count": null,
   "metadata": {
    "collapsed": true
   },
   "outputs": [],
   "source": []
  }
 ],
 "metadata": {
  "kernelspec": {
   "display_name": "Python 3",
   "language": "python",
   "name": "python3"
  },
  "language_info": {
   "codemirror_mode": {
    "name": "ipython",
    "version": 3
   },
   "file_extension": ".py",
   "mimetype": "text/x-python",
   "name": "python",
   "nbconvert_exporter": "python",
   "pygments_lexer": "ipython3",
   "version": "3.6.3"
  }
 },
 "nbformat": 4,
 "nbformat_minor": 2
}
