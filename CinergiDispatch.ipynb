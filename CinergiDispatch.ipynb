{
 "cells": [
  {
   "cell_type": "markdown",
   "metadata": {},
   "source": [
    "# Data Discovery Studio Jupyter Notebook Dispatcher\n",
    "\n",
    "### 1. Execute the cells below to get parameters from DDS and select a notebook for processing ###\n"
   ]
  },
  {
   "cell_type": "markdown",
   "metadata": {},
   "source": [
    "Please add some explanation of what this javascript does.  What is the syntax for the  calling URL?"
   ]
  },
  {
   "cell_type": "code",
   "execution_count": 149,
   "metadata": {},
   "outputs": [
    {
     "data": {
      "application/javascript": [
       "function getQueryStringValue (key)\n",
       "{  \n",
       "    return unescape(window.location.search.replace(new RegExp(\"^(?:.*[&\\\\?]\" + escape(key).replace(/[\\.\\+\\*]/g, \"\\\\$&\") + \"(?:\\\\=([^&]*))?)?.*$\", \"i\"), \"$1\"));\n",
       "}\n",
       "IPython.notebook.kernel.execute(\"documentID='\".concat(getQueryStringValue(\"documentId\")).concat(\"'\"));\n",
       "IPython.notebook.kernel.execute(\"user='\".concat(getQueryStringValue(\"user\")).concat(\"'\"));\n",
       "IPython.notebook.kernel.execute(\"full_notebook_url='\" + window.location + \"'\"); \n"
      ],
      "text/plain": [
       "<IPython.core.display.Javascript object>"
      ]
     },
     "metadata": {},
     "output_type": "display_data"
    }
   ],
   "source": [
    "%%javascript\n",
    "function getQueryStringValue (key)\n",
    "{  \n",
    "    return unescape(window.location.search.replace(new RegExp(\"^(?:.*[&\\\\?]\" + escape(key).replace(/[\\.\\+\\*]/g, \"\\\\$&\") + \"(?:\\\\=([^&]*))?)?.*$\", \"i\"), \"$1\"));\n",
    "}\n",
    "IPython.notebook.kernel.execute(\"documentID='\".concat(getQueryStringValue(\"documentId\")).concat(\"'\"));\n",
    "IPython.notebook.kernel.execute(\"user='\".concat(getQueryStringValue(\"user\")).concat(\"'\"));\n",
    "IPython.notebook.kernel.execute(\"full_notebook_url='\" + window.location + \"'\"); \n",
    "\n"
   ]
  },
  {
   "cell_type": "markdown",
   "metadata": {},
   "source": [
    "## 2. Print out parameters passed to Jupyter: ##"
   ]
  },
  {
   "cell_type": "code",
   "execution_count": 150,
   "metadata": {},
   "outputs": [
    {
     "name": "stdout",
     "output_type": "stream",
     "text": [
      "User:  \n",
      "DocumentID:  099a7f848d59403fad105fd1daa787bf\n",
      "full notebook url partition ('http://suave-jupyterhub.com/user/zeppelin-v/notebooks', '/CinergiDispatch', '.ipynb?documentId=099a7f848d59403fad105fd1daa787bf')\n",
      "full notebook url http://suave-jupyterhub.com/user/zeppelin-v/notebooks/CinergiDispatch.ipynb?documentId=099a7f848d59403fad105fd1daa787bf\n"
     ]
    }
   ],
   "source": [
    "# Check if the parameters are correct\n",
    "import ntpath\n",
    "from __future__ import print_function\n",
    "from ipywidgets import interact, interactive, fixed, interact_manual\n",
    "import ipywidgets as widgets\n",
    "import webbrowser\n",
    "url_partitioned = full_notebook_url.partition('/CinergiDispatch')\n",
    "base_url = url_partitioned[0];\n",
    "\n",
    "print(\"User: \",user)\n",
    "print(\"DocumentID: \", documentID)\n",
    "print(\"full notebook url partition\", url_partitioned)\n",
    "print(\"full notebook url\", full_notebook_url)"
   ]
  },
  {
   "cell_type": "code",
   "execution_count": null,
   "metadata": {
    "collapsed": true
   },
   "outputs": [],
   "source": [
    "print('To try the new dispatcher, click here: ')\n",
    "print(base_url + '/DispatchTesting/ISOmetadataDispatcher.ipynb?documentID=' + DocumentID)"
   ]
  },
  {
   "cell_type": "markdown",
   "metadata": {},
   "source": [
    "## Select a notebook and open its URL##"
   ]
  },
  {
   "cell_type": "code",
   "execution_count": 152,
   "metadata": {
    "scrolled": true
   },
   "outputs": [
    {
     "data": {
      "application/vnd.jupyter.widget-view+json": {
       "model_id": "5197eb4be34a442e8ae36950b1866d3c",
       "version_major": 2,
       "version_minor": 0
      },
      "text/plain": [
       "interactive(children=(Dropdown(description='notebooks_menu', options=('1. ndbc-explore', '4. NWIS-explore', '3…"
      ]
     },
     "metadata": {},
     "output_type": "display_data"
    },
    {
     "name": "stdout",
     "output_type": "stream",
     "text": [
      "interact out:  <function f at 0x7f382c036d90>\n"
     ]
    }
   ],
   "source": [
    "nb_menu = {\n",
    "    '1. ndbc-explore': 'cinergi/ndbc-explore.ipynb',\n",
    "    '2. ndbc-explore_v3': 'cinergi/ndbc-explore_v3.ipynb',\n",
    "    '3. ndbc-explore_v2': 'cinergi/ndbc-explore_v2.ipynb',\n",
    "    '4. NWIS-explore': 'cinergi/NWIS-explore.ipynb',\n",
    "}\n",
    "def f(notebooks_menu):\n",
    "    return notebooks_menu\n",
    "# out = interact(f, notebooks_menu=nb_menu);\n",
    "out = interact(f, notebooks_menu=nb_menu.keys());\n",
    "\n",
    "print(\"interact out: \", out)"
   ]
  },
  {
   "cell_type": "code",
   "execution_count": 153,
   "metadata": {},
   "outputs": [
    {
     "name": "stdout",
     "output_type": "stream",
     "text": [
      "http://suave-jupyterhub.com/user/zeppelin-v/notebooks/operations/cinergi/ndbc-explore.ipynb?docID=099a7f848d59403fad105fd1daa787bf&user=\n"
     ]
    }
   ],
   "source": [
    "chosen_nb_name = nb_menu[out.widget.result]\n",
    "url1 = ('{base_url}/operations/{nb_name}?'+'docID='+documentID+'&'+'user='+user).format(base_url=base_url, nb_name=chosen_nb_name)\n",
    "\n",
    "#webbrowser.open(url1)\n",
    "webbrowser.open_new(url1)\n",
    "print(url1)\n",
    "\n",
    "#  CLICK TO OPEN THE URL BELOW"
   ]
  },
  {
   "cell_type": "code",
   "execution_count": null,
   "metadata": {
    "collapsed": true
   },
   "outputs": [],
   "source": []
  },
  {
   "cell_type": "code",
   "execution_count": null,
   "metadata": {
    "collapsed": true
   },
   "outputs": [],
   "source": []
  }
 ],
 "metadata": {
  "kernelspec": {
   "display_name": "Python 3",
   "language": "python",
   "name": "python3"
  },
  "language_info": {
   "codemirror_mode": {
    "name": "ipython",
    "version": 3
   },
   "file_extension": ".py",
   "mimetype": "text/x-python",
   "name": "python",
   "nbconvert_exporter": "python",
   "pygments_lexer": "ipython3",
   "version": "3.6.5"
  }
 },
 "nbformat": 4,
 "nbformat_minor": 2
}
