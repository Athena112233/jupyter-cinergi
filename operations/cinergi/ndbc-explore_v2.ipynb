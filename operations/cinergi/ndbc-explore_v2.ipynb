{
 "cells": [
  {
   "cell_type": "code",
   "execution_count": 22,
   "metadata": {},
   "outputs": [],
   "source": [
    "import pandas as pd\n",
    "import numpy as np\n",
    "import datetime as dt\n",
    "import matplotlib.pyplot as plt\n",
    "import matplotlib.patches as mpatches\n",
    "import matplotlib.dates as mdates\n",
    "import urllib.request, json\n",
    "import helpers\n",
    "from datetime import datetime, date, time\n",
    "from ipywidgets import widgets  \n",
    "from IPython import get_ipython\n",
    "from IPython.display import display\n",
    "from matplotlib import pylab\n",
    "from pylab import *\n",
    "from IPython.display import clear_output\n",
    "\n",
    "\n",
    "\n",
    "#Set URL of notebook to http://localhost:8888/notebooks/github_repos/Mok1-Sea-Data/Ouida.ipynb?docID=65bbd72fc0b44da390f3a2007600d6be\n",
    "\n"
   ]
  },
  {
   "cell_type": "code",
   "execution_count": 23,
   "metadata": {},
   "outputs": [
    {
     "data": {
      "application/javascript": [
       "function getQueryStringValue (key){  \n",
       "    return unescape(window.location.search.replace(new RegExp(\"^(?:.*[&\\\\?]\" + escape(key).replace(/[\\.\\+\\*]/g, \"\\\\$&\") + \"(?:\\\\=([^&]*))?)?.*$\", \"i\"), \"$1\"));\n",
       "}\n",
       "\n",
       "IPython.notebook.kernel.execute(\"docID='\".concat(getQueryStringValue(\"docID\")).concat(\"'\"));"
      ],
      "text/plain": [
       "<IPython.core.display.Javascript object>"
      ]
     },
     "metadata": {},
     "output_type": "display_data"
    }
   ],
   "source": [
    "%%javascript\n",
    "function getQueryStringValue (key){  \n",
    "    return unescape(window.location.search.replace(new RegExp(\"^(?:.*[&\\\\?]\" + escape(key).replace(/[\\.\\+\\*]/g, \"\\\\$&\") + \"(?:\\\\=([^&]*))?)?.*$\", \"i\"), \"$1\"));\n",
    "}\n",
    "\n",
    "IPython.notebook.kernel.execute(\"docID='\".concat(getQueryStringValue(\"docID\")).concat(\"'\"));"
   ]
  },
  {
   "cell_type": "code",
   "execution_count": 25,
   "metadata": {
    "scrolled": false
   },
   "outputs": [
    {
     "data": {
      "text/plain": [
       "\"2014 's data (number of variables in each column)\""
      ]
     },
     "metadata": {},
     "output_type": "display_data"
    },
    {
     "data": {
      "text/html": [
       "<style  type=\"text/css\" >\n",
       "</style>  \n",
       "<table id=\"T_07c0cff4_5fa2_11e8_a8b9_fa163ecfd129\" > \n",
       "<thead>    <tr> \n",
       "        <th class=\"blank level0\" ></th> \n",
       "        <th class=\"col_heading level0 col0\" >#YY (#yr)</th> \n",
       "        <th class=\"col_heading level0 col1\" >MM (mo)</th> \n",
       "        <th class=\"col_heading level0 col2\" >DD (dy)</th> \n",
       "        <th class=\"col_heading level0 col3\" >hh (hr)</th> \n",
       "        <th class=\"col_heading level0 col4\" >mm (mn)</th> \n",
       "        <th class=\"col_heading level0 col5\" >WDIR (degT)</th> \n",
       "        <th class=\"col_heading level0 col6\" >WSPD (m/s)</th> \n",
       "        <th class=\"col_heading level0 col7\" >GST (m/s)</th> \n",
       "        <th class=\"col_heading level0 col8\" >WVHT (m)</th> \n",
       "        <th class=\"col_heading level0 col9\" >DPD (sec)</th> \n",
       "        <th class=\"col_heading level0 col10\" >APD (sec)</th> \n",
       "        <th class=\"col_heading level0 col11\" >MWD (degT)</th> \n",
       "        <th class=\"col_heading level0 col12\" >PRES (hPa)</th> \n",
       "        <th class=\"col_heading level0 col13\" >ATMP (degC)</th> \n",
       "        <th class=\"col_heading level0 col14\" >WTMP (degC)</th> \n",
       "        <th class=\"col_heading level0 col15\" >DEWP (degC)</th> \n",
       "        <th class=\"col_heading level0 col16\" >VIS (mi)</th> \n",
       "        <th class=\"col_heading level0 col17\" >TIDE (ft)</th> \n",
       "        <th class=\"col_heading level0 col18\" >date_time</th> \n",
       "    </tr></thead> \n",
       "<tbody>    <tr> \n",
       "        <th id=\"T_07c0cff4_5fa2_11e8_a8b9_fa163ecfd129level0_row0\" class=\"row_heading level0 row0\" >0</th> \n",
       "        <td id=\"T_07c0cff4_5fa2_11e8_a8b9_fa163ecfd129row0_col0\" class=\"data row0 col0\" >86872</td> \n",
       "        <td id=\"T_07c0cff4_5fa2_11e8_a8b9_fa163ecfd129row0_col1\" class=\"data row0 col1\" >86872</td> \n",
       "        <td id=\"T_07c0cff4_5fa2_11e8_a8b9_fa163ecfd129row0_col2\" class=\"data row0 col2\" >86872</td> \n",
       "        <td id=\"T_07c0cff4_5fa2_11e8_a8b9_fa163ecfd129row0_col3\" class=\"data row0 col3\" >86872</td> \n",
       "        <td id=\"T_07c0cff4_5fa2_11e8_a8b9_fa163ecfd129row0_col4\" class=\"data row0 col4\" >86872</td> \n",
       "        <td id=\"T_07c0cff4_5fa2_11e8_a8b9_fa163ecfd129row0_col5\" class=\"data row0 col5\" >73049</td> \n",
       "        <td id=\"T_07c0cff4_5fa2_11e8_a8b9_fa163ecfd129row0_col6\" class=\"data row0 col6\" >73830</td> \n",
       "        <td id=\"T_07c0cff4_5fa2_11e8_a8b9_fa163ecfd129row0_col7\" class=\"data row0 col7\" >73826</td> \n",
       "        <td id=\"T_07c0cff4_5fa2_11e8_a8b9_fa163ecfd129row0_col8\" class=\"data row0 col8\" >0</td> \n",
       "        <td id=\"T_07c0cff4_5fa2_11e8_a8b9_fa163ecfd129row0_col9\" class=\"data row0 col9\" >0</td> \n",
       "        <td id=\"T_07c0cff4_5fa2_11e8_a8b9_fa163ecfd129row0_col10\" class=\"data row0 col10\" >0</td> \n",
       "        <td id=\"T_07c0cff4_5fa2_11e8_a8b9_fa163ecfd129row0_col11\" class=\"data row0 col11\" >0</td> \n",
       "        <td id=\"T_07c0cff4_5fa2_11e8_a8b9_fa163ecfd129row0_col12\" class=\"data row0 col12\" >84461</td> \n",
       "        <td id=\"T_07c0cff4_5fa2_11e8_a8b9_fa163ecfd129row0_col13\" class=\"data row0 col13\" >72965</td> \n",
       "        <td id=\"T_07c0cff4_5fa2_11e8_a8b9_fa163ecfd129row0_col14\" class=\"data row0 col14\" >84399</td> \n",
       "        <td id=\"T_07c0cff4_5fa2_11e8_a8b9_fa163ecfd129row0_col15\" class=\"data row0 col15\" >0</td> \n",
       "        <td id=\"T_07c0cff4_5fa2_11e8_a8b9_fa163ecfd129row0_col16\" class=\"data row0 col16\" >0</td> \n",
       "        <td id=\"T_07c0cff4_5fa2_11e8_a8b9_fa163ecfd129row0_col17\" class=\"data row0 col17\" >0</td> \n",
       "        <td id=\"T_07c0cff4_5fa2_11e8_a8b9_fa163ecfd129row0_col18\" class=\"data row0 col18\" >86872</td> \n",
       "    </tr></tbody> \n",
       "</table> "
      ],
      "text/plain": [
       "<pandas.io.formats.style.Styler at 0x7fbd6ed63a90>"
      ]
     },
     "metadata": {},
     "output_type": "display_data"
    }
   ],
   "source": [
    "\n",
    "#construct url from variable\n",
    "cinergi_url = \"http://cinergi.sdsc.edu/geoportal/rest/metadata/item/\" + docID\n",
    "data = helpers.create_data(cinergi_url)\n",
    "\n",
    "# Create Key Values for graph.\n",
    "graphKeyVals = []\n",
    "\n",
    "#Run all operations on Data\n",
    "for i in range(len(data)):\n",
    "    data[i].fillna('')\n",
    "    data[i] = helpers.simplify_column_names(data[i])\n",
    "    data[i] = helpers.createDateTime(data[i])\n",
    "    graphKeyVals.append( data[i]['date_time'][0].year)\n",
    "    data[i]['date_time'] = data[i]['date_time'].apply(lambda x: x.replace(year= 2014))\n",
    "    \n",
    "#Create dropdown Buttons and generate table\n",
    "dropdown_options = helpers.create_dropdowns(data)"
   ]
  },
  {
   "cell_type": "code",
   "execution_count": 26,
   "metadata": {},
   "outputs": [
    {
     "data": {
      "application/vnd.jupyter.widget-view+json": {
       "model_id": "839575584b544f8fa1593efdf8810dd7",
       "version_major": 2,
       "version_minor": 0
      },
      "text/plain": [
       "Dropdown(description='Number:', options=('WTMP (degC)', 'GST (m/s)', 'ATMP (degC)', 'PRES (hPa)', 'WSPD (m/s)'…"
      ]
     },
     "metadata": {},
     "output_type": "display_data"
    }
   ],
   "source": [
    "# Example plot of the image based on values of WTMP (Can be changed to other variables)\n",
    "\n",
    "#Create widget with dropdown options from list created above\n",
    "w = widgets.Dropdown(\n",
    "    options=dropdown_options,\n",
    "    description='Number:',\n",
    "    disabled=False,\n",
    ")\n",
    "\n",
    "#Describe what happens when the button changes its value\n",
    "def on_change(change):\n",
    "    if change['type'] == 'change' and change['name'] == 'value':\n",
    "        clear_output()\n",
    "        %pylab inline\n",
    "        pylab.rcParams['figure.figsize'] = (25, 15)\n",
    "        helpers.plotTimeSeriesData(data,change['new'],graphKeyVals)\n",
    "        \n",
    "w.observe(on_change)\n",
    "display(w)"
   ]
  },
  {
   "cell_type": "code",
   "execution_count": null,
   "metadata": {},
   "outputs": [],
   "source": []
  },
  {
   "cell_type": "code",
   "execution_count": null,
   "metadata": {},
   "outputs": [],
   "source": []
  },
  {
   "cell_type": "code",
   "execution_count": null,
   "metadata": {},
   "outputs": [],
   "source": []
  },
  {
   "cell_type": "code",
   "execution_count": null,
   "metadata": {},
   "outputs": [],
   "source": []
  },
  {
   "cell_type": "code",
   "execution_count": null,
   "metadata": {},
   "outputs": [],
   "source": []
  },
  {
   "cell_type": "code",
   "execution_count": null,
   "metadata": {},
   "outputs": [],
   "source": []
  }
 ],
 "metadata": {
  "kernelspec": {
   "display_name": "Python 3",
   "language": "python",
   "name": "python3"
  },
  "language_info": {
   "codemirror_mode": {
    "name": "ipython",
    "version": 3
   },
   "file_extension": ".py",
   "mimetype": "text/x-python",
   "name": "python",
   "nbconvert_exporter": "python",
   "pygments_lexer": "ipython3",
   "version": "3.5.2"
  }
 },
 "nbformat": 4,
 "nbformat_minor": 2
}
