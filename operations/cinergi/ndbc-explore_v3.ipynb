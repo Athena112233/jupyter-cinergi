{
 "cells": [
  {
   "cell_type": "code",
   "execution_count": 77,
   "metadata": {},
   "outputs": [],
   "source": [
    "import pandas as pd\n",
    "import numpy as np\n",
    "import datetime as dt\n",
    "import matplotlib.pyplot as plt\n",
    "import matplotlib.patches as mpatches\n",
    "import matplotlib.dates as mdates\n",
    "import urllib.request, json\n",
    "import helpers\n",
    "from datetime import datetime, date, time\n",
    "from ipywidgets import widgets  \n",
    "from IPython import get_ipython\n",
    "from IPython.display import display\n",
    "from matplotlib import pylab\n",
    "from pylab import *\n",
    "from IPython.display import clear_output\n",
    "\n",
    "\n",
    "\n",
    "#Set URL of notebook to http://localhost:8888/notebooks/github_repos/Mok1-Sea-Data/Ouida.ipynb?docID=65bbd72fc0b44da390f3a2007600d6be\n",
    "\n"
   ]
  },
  {
   "cell_type": "code",
   "execution_count": 78,
   "metadata": {},
   "outputs": [
    {
     "data": {
      "application/javascript": [
       "function getQueryStringValue (key){  \n",
       "    return unescape(window.location.search.replace(new RegExp(\"^(?:.*[&\\\\?]\" + escape(key).replace(/[\\.\\+\\*]/g, \"\\\\$&\") + \"(?:\\\\=([^&]*))?)?.*$\", \"i\"), \"$1\"));\n",
       "}\n",
       "\n",
       "IPython.notebook.kernel.execute(\"docID='\".concat(getQueryStringValue(\"docID\")).concat(\"'\"));"
      ],
      "text/plain": [
       "<IPython.core.display.Javascript object>"
      ]
     },
     "metadata": {},
     "output_type": "display_data"
    }
   ],
   "source": [
    "%%javascript\n",
    "function getQueryStringValue (key){  \n",
    "    return unescape(window.location.search.replace(new RegExp(\"^(?:.*[&\\\\?]\" + escape(key).replace(/[\\.\\+\\*]/g, \"\\\\$&\") + \"(?:\\\\=([^&]*))?)?.*$\", \"i\"), \"$1\"));\n",
    "}\n",
    "\n",
    "IPython.notebook.kernel.execute(\"docID='\".concat(getQueryStringValue(\"docID\")).concat(\"'\"));"
   ]
  },
  {
   "cell_type": "code",
   "execution_count": 79,
   "metadata": {},
   "outputs": [
    {
     "name": "stdout",
     "output_type": "stream",
     "text": [
      "dict_keys(['113. http://www.ndbc.noaa.gov/view_text_file.php?filename=venf1h2016.txt.gz&dir=data/historical/stdmet/', '0. http://www.ndbc.noaa.gov/station_page.php?station=31004', '110. http://www.ndbc.noaa.gov/data/historical/stdmet/venf1h2014.txt.gz', '68. http://www.ndbc.noaa.gov/data/historical/stdmet/venf1h1993.txt.gz', '123. http://www.ndbc.noaa.gov/view_text_file.php?filename=venf1l2006.txt.gz&dir=data/historical/wlevel/', '65. http://www.ndbc.noaa.gov/view_text_file.php?filename=venf1h1992.txt.gz&dir=data/historical/stdmet/', '13. http://www.ndbc.noaa.gov/view_text_file.php?filename=venf1c1998.txt.gz&dir=data/historical/cwind/', '115. http://www.ndbc.noaa.gov/view_text_file.php?filename=venf1h2017.txt.gz&dir=data/historical/stdmet/', '116. http://www.ndbc.noaa.gov/data/historical/stdmet/venf1h2017.txt.gz', '7. http://www.ndbc.noaa.gov/view_text_file.php?filename=venf1c1993.txt.gz&dir=data/historical/cwind/', '88. http://www.ndbc.noaa.gov/data/historical/stdmet/venf1h2003.txt.gz', '107. http://www.ndbc.noaa.gov/view_text_file.php?filename=venf1h2013.txt.gz&dir=data/historical/stdmet/', '26. http://www.ndbc.noaa.gov/data/historical/cwind/venf1c2004.txt.gz', '57. http://www.ndbc.noaa.gov/view_text_file.php?filename=venf1h1988.txt.gz&dir=data/historical/stdmet/', '1. http://www.ndbc.noaa.gov/view_text_file.php?filename=venf1c1990.txt.gz&dir=data/historical/cwind/', '127. http://www.ndbc.noaa.gov/view_text_file.php?filename=venf1l2008.txt.gz&dir=data/historical/wlevel/', '10. http://www.ndbc.noaa.gov/data/historical/cwind/venf1c1996.txt.gz', '109. http://www.ndbc.noaa.gov/view_text_file.php?filename=venf1h2014.txt.gz&dir=data/historical/stdmet/', '59. http://www.ndbc.noaa.gov/view_text_file.php?filename=venf1h1989.txt.gz&dir=data/historical/stdmet/', '85. http://www.ndbc.noaa.gov/view_text_file.php?filename=venf1h2002.txt.gz&dir=data/historical/stdmet/', '39. http://www.ndbc.noaa.gov/view_text_file.php?filename=venf1c2011.txt.gz&dir=data/historical/cwind/', '22. http://www.ndbc.noaa.gov/data/historical/cwind/venf1c2002.txt.gz', '48. http://www.ndbc.noaa.gov/data/historical/cwind/venf1c2015.txt.gz', '3. http://www.ndbc.noaa.gov/view_text_file.php?filename=venf1c1991.txt.gz&dir=data/historical/cwind/', '74. http://www.ndbc.noaa.gov/data/historical/stdmet/venf1h1996.txt.gz', '20. http://www.ndbc.noaa.gov/data/historical/cwind/venf1c2001.txt.gz', '44. http://www.ndbc.noaa.gov/data/historical/cwind/venf1c2013.txt.gz', '14. http://www.ndbc.noaa.gov/data/historical/cwind/venf1c1998.txt.gz', '91. http://www.ndbc.noaa.gov/view_text_file.php?filename=venf1h2005.txt.gz&dir=data/historical/stdmet/', '18. http://www.ndbc.noaa.gov/data/historical/cwind/venf1c2000.txt.gz', '118. http://www.ndbc.noaa.gov/data/historical/wlevel/venf1l2002.txt.gz', '53. http://www.ndbc.noaa.gov/view_text_file.php?filename=venf1h1986.txt.gz&dir=data/historical/stdmet/', '31. http://www.ndbc.noaa.gov/view_text_file.php?filename=venf1c2007.txt.gz&dir=data/historical/cwind/', '72. http://www.ndbc.noaa.gov/data/historical/stdmet/venf1h1995.txt.gz', '36. http://www.ndbc.noaa.gov/data/historical/cwind/venf1c2009.txt.gz', '126. http://www.ndbc.noaa.gov/data/historical/wlevel/venf1l2007.txt.gz', '6. http://www.ndbc.noaa.gov/data/historical/cwind/venf1c1992.txt.gz', '38. http://www.ndbc.noaa.gov/data/historical/cwind/venf1c2010.txt.gz', '75. http://www.ndbc.noaa.gov/view_text_file.php?filename=venf1h1997.txt.gz&dir=data/historical/stdmet/', '76. http://www.ndbc.noaa.gov/data/historical/stdmet/venf1h1997.txt.gz', '98. http://www.ndbc.noaa.gov/data/historical/stdmet/venf1h2008.txt.gz', '106. http://www.ndbc.noaa.gov/data/historical/stdmet/venf1h2012.txt.gz', '21. http://www.ndbc.noaa.gov/view_text_file.php?filename=venf1c2002.txt.gz&dir=data/historical/cwind/', '45. http://www.ndbc.noaa.gov/view_text_file.php?filename=venf1c2014.txt.gz&dir=data/historical/cwind/', '58. http://www.ndbc.noaa.gov/data/historical/stdmet/venf1h1988.txt.gz', '77. http://www.ndbc.noaa.gov/view_text_file.php?filename=venf1h1998.txt.gz&dir=data/historical/stdmet/', '30. http://www.ndbc.noaa.gov/data/historical/cwind/venf1c2006.txt.gz', '27. http://www.ndbc.noaa.gov/view_text_file.php?filename=venf1c2005.txt.gz&dir=data/historical/cwind/', '41. http://www.ndbc.noaa.gov/view_text_file.php?filename=venf1c2012.txt.gz&dir=data/historical/cwind/', '29. http://www.ndbc.noaa.gov/view_text_file.php?filename=venf1c2006.txt.gz&dir=data/historical/cwind/', '111. http://www.ndbc.noaa.gov/view_text_file.php?filename=venf1h2015.txt.gz&dir=data/historical/stdmet/', '46. http://www.ndbc.noaa.gov/data/historical/cwind/venf1c2014.txt.gz', '114. http://www.ndbc.noaa.gov/data/historical/stdmet/venf1h2016.txt.gz', '66. http://www.ndbc.noaa.gov/data/historical/stdmet/venf1h1992.txt.gz', '50. http://www.ndbc.noaa.gov/data/historical/cwind/venf1c2016.txt.gz', '61. http://www.ndbc.noaa.gov/view_text_file.php?filename=venf1h1990.txt.gz&dir=data/historical/stdmet/', '70. http://www.ndbc.noaa.gov/data/historical/stdmet/venf1h1994.txt.gz', '84. http://www.ndbc.noaa.gov/data/historical/stdmet/venf1h2001.txt.gz', '42. http://www.ndbc.noaa.gov/data/historical/cwind/venf1c2012.txt.gz', '64. http://www.ndbc.noaa.gov/data/historical/stdmet/venf1h1991.txt.gz', '54. http://www.ndbc.noaa.gov/data/historical/stdmet/venf1h1986.txt.gz', '117. http://www.ndbc.noaa.gov/view_text_file.php?filename=venf1l2002.txt.gz&dir=data/historical/wlevel/', '51. http://www.ndbc.noaa.gov/view_text_file.php?filename=venf1c2017.txt.gz&dir=data/historical/cwind/', '9. http://www.ndbc.noaa.gov/view_text_file.php?filename=venf1c1996.txt.gz&dir=data/historical/cwind/', '125. http://www.ndbc.noaa.gov/view_text_file.php?filename=venf1l2007.txt.gz&dir=data/historical/wlevel/', '49. http://www.ndbc.noaa.gov/view_text_file.php?filename=venf1c2016.txt.gz&dir=data/historical/cwind/', '121. http://www.ndbc.noaa.gov/view_text_file.php?filename=venf1l2004.txt.gz&dir=data/historical/wlevel/', '102. http://www.ndbc.noaa.gov/data/historical/stdmet/venf1h2010.txt.gz', '79. http://www.ndbc.noaa.gov/view_text_file.php?filename=venf1h1999.txt.gz&dir=data/historical/stdmet/', '90. http://www.ndbc.noaa.gov/data/historical/stdmet/venf1h2004.txt.gz', '32. http://www.ndbc.noaa.gov/data/historical/cwind/venf1c2007.txt.gz', '100. http://www.ndbc.noaa.gov/data/historical/stdmet/venf1h2009.txt.gz', '80. http://www.ndbc.noaa.gov/data/historical/stdmet/venf1h1999.txt.gz', '37. http://www.ndbc.noaa.gov/view_text_file.php?filename=venf1c2010.txt.gz&dir=data/historical/cwind/', '16. http://www.ndbc.noaa.gov/data/historical/cwind/venf1c1999.txt.gz', '63. http://www.ndbc.noaa.gov/view_text_file.php?filename=venf1h1991.txt.gz&dir=data/historical/stdmet/', '52. http://www.ndbc.noaa.gov/data/historical/cwind/venf1c2017.txt.gz', '35. http://www.ndbc.noaa.gov/view_text_file.php?filename=venf1c2009.txt.gz&dir=data/historical/cwind/', '24. http://www.ndbc.noaa.gov/data/historical/cwind/venf1c2003.txt.gz', '82. http://www.ndbc.noaa.gov/data/historical/stdmet/venf1h2000.txt.gz', '95. http://www.ndbc.noaa.gov/view_text_file.php?filename=venf1h2007.txt.gz&dir=data/historical/stdmet/', '112. http://www.ndbc.noaa.gov/data/historical/stdmet/venf1h2015.txt.gz', '69. http://www.ndbc.noaa.gov/view_text_file.php?filename=venf1h1994.txt.gz&dir=data/historical/stdmet/', '47. http://www.ndbc.noaa.gov/view_text_file.php?filename=venf1c2015.txt.gz&dir=data/historical/cwind/', '67. http://www.ndbc.noaa.gov/view_text_file.php?filename=venf1h1993.txt.gz&dir=data/historical/stdmet/', '92. http://www.ndbc.noaa.gov/data/historical/stdmet/venf1h2005.txt.gz', '108. http://www.ndbc.noaa.gov/data/historical/stdmet/venf1h2013.txt.gz', '25. http://www.ndbc.noaa.gov/view_text_file.php?filename=venf1c2004.txt.gz&dir=data/historical/cwind/', '33. http://www.ndbc.noaa.gov/view_text_file.php?filename=venf1c2008.txt.gz&dir=data/historical/cwind/', '103. http://www.ndbc.noaa.gov/view_text_file.php?filename=venf1h2011.txt.gz&dir=data/historical/stdmet/', '19. http://www.ndbc.noaa.gov/view_text_file.php?filename=venf1c2001.txt.gz&dir=data/historical/cwind/', '105. http://www.ndbc.noaa.gov/view_text_file.php?filename=venf1h2012.txt.gz&dir=data/historical/stdmet/', '23. http://www.ndbc.noaa.gov/view_text_file.php?filename=venf1c2003.txt.gz&dir=data/historical/cwind/', '83. http://www.ndbc.noaa.gov/view_text_file.php?filename=venf1h2001.txt.gz&dir=data/historical/stdmet/', '81. http://www.ndbc.noaa.gov/view_text_file.php?filename=venf1h2000.txt.gz&dir=data/historical/stdmet/', '120. http://www.ndbc.noaa.gov/data/historical/wlevel/venf1l2003.txt.gz', '43. http://www.ndbc.noaa.gov/view_text_file.php?filename=venf1c2013.txt.gz&dir=data/historical/cwind/', '122. http://www.ndbc.noaa.gov/data/historical/wlevel/venf1l2004.txt.gz', '62. http://www.ndbc.noaa.gov/data/historical/stdmet/venf1h1990.txt.gz', '17. http://www.ndbc.noaa.gov/view_text_file.php?filename=venf1c2000.txt.gz&dir=data/historical/cwind/', '34. http://www.ndbc.noaa.gov/data/historical/cwind/venf1c2008.txt.gz', '128. http://www.ndbc.noaa.gov/data/historical/wlevel/venf1l2008.txt.gz', '94. http://www.ndbc.noaa.gov/data/historical/stdmet/venf1h2006.txt.gz', '55. http://www.ndbc.noaa.gov/view_text_file.php?filename=venf1h1987.txt.gz&dir=data/historical/stdmet/', '73. http://www.ndbc.noaa.gov/view_text_file.php?filename=venf1h1996.txt.gz&dir=data/historical/stdmet/', '89. http://www.ndbc.noaa.gov/view_text_file.php?filename=venf1h2004.txt.gz&dir=data/historical/stdmet/', '11. http://www.ndbc.noaa.gov/view_text_file.php?filename=venf1c1997.txt.gz&dir=data/historical/cwind/', '97. http://www.ndbc.noaa.gov/view_text_file.php?filename=venf1h2008.txt.gz&dir=data/historical/stdmet/', '104. http://www.ndbc.noaa.gov/data/historical/stdmet/venf1h2011.txt.gz', '71. http://www.ndbc.noaa.gov/view_text_file.php?filename=venf1h1995.txt.gz&dir=data/historical/stdmet/', '2. http://www.ndbc.noaa.gov/data/historical/cwind/venf1c1990.txt.gz', '78. http://www.ndbc.noaa.gov/data/historical/stdmet/venf1h1998.txt.gz', '15. http://www.ndbc.noaa.gov/view_text_file.php?filename=venf1c1999.txt.gz&dir=data/historical/cwind/', '8. http://www.ndbc.noaa.gov/data/historical/cwind/venf1c1993.txt.gz', '87. http://www.ndbc.noaa.gov/view_text_file.php?filename=venf1h2003.txt.gz&dir=data/historical/stdmet/', '56. http://www.ndbc.noaa.gov/data/historical/stdmet/venf1h1987.txt.gz', '96. http://www.ndbc.noaa.gov/data/historical/stdmet/venf1h2007.txt.gz', '4. http://www.ndbc.noaa.gov/data/historical/cwind/venf1c1991.txt.gz', '124. http://www.ndbc.noaa.gov/data/historical/wlevel/venf1l2006.txt.gz', '99. http://www.ndbc.noaa.gov/view_text_file.php?filename=venf1h2009.txt.gz&dir=data/historical/stdmet/', '119. http://www.ndbc.noaa.gov/view_text_file.php?filename=venf1l2003.txt.gz&dir=data/historical/wlevel/', '40. http://www.ndbc.noaa.gov/data/historical/cwind/venf1c2011.txt.gz', '5. http://www.ndbc.noaa.gov/view_text_file.php?filename=venf1c1992.txt.gz&dir=data/historical/cwind/', '86. http://www.ndbc.noaa.gov/data/historical/stdmet/venf1h2002.txt.gz', '60. http://www.ndbc.noaa.gov/data/historical/stdmet/venf1h1989.txt.gz', '12. http://www.ndbc.noaa.gov/data/historical/cwind/venf1c1997.txt.gz', '101. http://www.ndbc.noaa.gov/view_text_file.php?filename=venf1h2010.txt.gz&dir=data/historical/stdmet/', '28. http://www.ndbc.noaa.gov/data/historical/cwind/venf1c2005.txt.gz', '93. http://www.ndbc.noaa.gov/view_text_file.php?filename=venf1h2006.txt.gz&dir=data/historical/stdmet/'])\n",
      "dict_values(['http://www.ndbc.noaa.gov/view_text_file.php?filename=venf1h2016.txt.gz&dir=data/historical/stdmet/', 'http://www.ndbc.noaa.gov/station_page.php?station=31004', 'http://www.ndbc.noaa.gov/data/historical/stdmet/venf1h2014.txt.gz', 'http://www.ndbc.noaa.gov/data/historical/stdmet/venf1h1993.txt.gz', 'http://www.ndbc.noaa.gov/view_text_file.php?filename=venf1l2006.txt.gz&dir=data/historical/wlevel/', 'http://www.ndbc.noaa.gov/view_text_file.php?filename=venf1h1992.txt.gz&dir=data/historical/stdmet/', 'http://www.ndbc.noaa.gov/view_text_file.php?filename=venf1c1998.txt.gz&dir=data/historical/cwind/', 'http://www.ndbc.noaa.gov/view_text_file.php?filename=venf1h2017.txt.gz&dir=data/historical/stdmet/', 'http://www.ndbc.noaa.gov/data/historical/stdmet/venf1h2017.txt.gz', 'http://www.ndbc.noaa.gov/view_text_file.php?filename=venf1c1993.txt.gz&dir=data/historical/cwind/', 'http://www.ndbc.noaa.gov/data/historical/stdmet/venf1h2003.txt.gz', 'http://www.ndbc.noaa.gov/view_text_file.php?filename=venf1h2013.txt.gz&dir=data/historical/stdmet/', 'http://www.ndbc.noaa.gov/data/historical/cwind/venf1c2004.txt.gz', 'http://www.ndbc.noaa.gov/view_text_file.php?filename=venf1h1988.txt.gz&dir=data/historical/stdmet/', 'http://www.ndbc.noaa.gov/view_text_file.php?filename=venf1c1990.txt.gz&dir=data/historical/cwind/', 'http://www.ndbc.noaa.gov/view_text_file.php?filename=venf1l2008.txt.gz&dir=data/historical/wlevel/', 'http://www.ndbc.noaa.gov/data/historical/cwind/venf1c1996.txt.gz', 'http://www.ndbc.noaa.gov/view_text_file.php?filename=venf1h2014.txt.gz&dir=data/historical/stdmet/', 'http://www.ndbc.noaa.gov/view_text_file.php?filename=venf1h1989.txt.gz&dir=data/historical/stdmet/', 'http://www.ndbc.noaa.gov/view_text_file.php?filename=venf1h2002.txt.gz&dir=data/historical/stdmet/', 'http://www.ndbc.noaa.gov/view_text_file.php?filename=venf1c2011.txt.gz&dir=data/historical/cwind/', 'http://www.ndbc.noaa.gov/data/historical/cwind/venf1c2002.txt.gz', 'http://www.ndbc.noaa.gov/data/historical/cwind/venf1c2015.txt.gz', 'http://www.ndbc.noaa.gov/view_text_file.php?filename=venf1c1991.txt.gz&dir=data/historical/cwind/', 'http://www.ndbc.noaa.gov/data/historical/stdmet/venf1h1996.txt.gz', 'http://www.ndbc.noaa.gov/data/historical/cwind/venf1c2001.txt.gz', 'http://www.ndbc.noaa.gov/data/historical/cwind/venf1c2013.txt.gz', 'http://www.ndbc.noaa.gov/data/historical/cwind/venf1c1998.txt.gz', 'http://www.ndbc.noaa.gov/view_text_file.php?filename=venf1h2005.txt.gz&dir=data/historical/stdmet/', 'http://www.ndbc.noaa.gov/data/historical/cwind/venf1c2000.txt.gz', 'http://www.ndbc.noaa.gov/data/historical/wlevel/venf1l2002.txt.gz', 'http://www.ndbc.noaa.gov/view_text_file.php?filename=venf1h1986.txt.gz&dir=data/historical/stdmet/', 'http://www.ndbc.noaa.gov/view_text_file.php?filename=venf1c2007.txt.gz&dir=data/historical/cwind/', 'http://www.ndbc.noaa.gov/data/historical/stdmet/venf1h1995.txt.gz', 'http://www.ndbc.noaa.gov/data/historical/cwind/venf1c2009.txt.gz', 'http://www.ndbc.noaa.gov/data/historical/wlevel/venf1l2007.txt.gz', 'http://www.ndbc.noaa.gov/data/historical/cwind/venf1c1992.txt.gz', 'http://www.ndbc.noaa.gov/data/historical/cwind/venf1c2010.txt.gz', 'http://www.ndbc.noaa.gov/view_text_file.php?filename=venf1h1997.txt.gz&dir=data/historical/stdmet/', 'http://www.ndbc.noaa.gov/data/historical/stdmet/venf1h1997.txt.gz', 'http://www.ndbc.noaa.gov/data/historical/stdmet/venf1h2008.txt.gz', 'http://www.ndbc.noaa.gov/data/historical/stdmet/venf1h2012.txt.gz', 'http://www.ndbc.noaa.gov/view_text_file.php?filename=venf1c2002.txt.gz&dir=data/historical/cwind/', 'http://www.ndbc.noaa.gov/view_text_file.php?filename=venf1c2014.txt.gz&dir=data/historical/cwind/', 'http://www.ndbc.noaa.gov/data/historical/stdmet/venf1h1988.txt.gz', 'http://www.ndbc.noaa.gov/view_text_file.php?filename=venf1h1998.txt.gz&dir=data/historical/stdmet/', 'http://www.ndbc.noaa.gov/data/historical/cwind/venf1c2006.txt.gz', 'http://www.ndbc.noaa.gov/view_text_file.php?filename=venf1c2005.txt.gz&dir=data/historical/cwind/', 'http://www.ndbc.noaa.gov/view_text_file.php?filename=venf1c2012.txt.gz&dir=data/historical/cwind/', 'http://www.ndbc.noaa.gov/view_text_file.php?filename=venf1c2006.txt.gz&dir=data/historical/cwind/', 'http://www.ndbc.noaa.gov/view_text_file.php?filename=venf1h2015.txt.gz&dir=data/historical/stdmet/', 'http://www.ndbc.noaa.gov/data/historical/cwind/venf1c2014.txt.gz', 'http://www.ndbc.noaa.gov/data/historical/stdmet/venf1h2016.txt.gz', 'http://www.ndbc.noaa.gov/data/historical/stdmet/venf1h1992.txt.gz', 'http://www.ndbc.noaa.gov/data/historical/cwind/venf1c2016.txt.gz', 'http://www.ndbc.noaa.gov/view_text_file.php?filename=venf1h1990.txt.gz&dir=data/historical/stdmet/', 'http://www.ndbc.noaa.gov/data/historical/stdmet/venf1h1994.txt.gz', 'http://www.ndbc.noaa.gov/data/historical/stdmet/venf1h2001.txt.gz', 'http://www.ndbc.noaa.gov/data/historical/cwind/venf1c2012.txt.gz', 'http://www.ndbc.noaa.gov/data/historical/stdmet/venf1h1991.txt.gz', 'http://www.ndbc.noaa.gov/data/historical/stdmet/venf1h1986.txt.gz', 'http://www.ndbc.noaa.gov/view_text_file.php?filename=venf1l2002.txt.gz&dir=data/historical/wlevel/', 'http://www.ndbc.noaa.gov/view_text_file.php?filename=venf1c2017.txt.gz&dir=data/historical/cwind/', 'http://www.ndbc.noaa.gov/view_text_file.php?filename=venf1c1996.txt.gz&dir=data/historical/cwind/', 'http://www.ndbc.noaa.gov/view_text_file.php?filename=venf1l2007.txt.gz&dir=data/historical/wlevel/', 'http://www.ndbc.noaa.gov/view_text_file.php?filename=venf1c2016.txt.gz&dir=data/historical/cwind/', 'http://www.ndbc.noaa.gov/view_text_file.php?filename=venf1l2004.txt.gz&dir=data/historical/wlevel/', 'http://www.ndbc.noaa.gov/data/historical/stdmet/venf1h2010.txt.gz', 'http://www.ndbc.noaa.gov/view_text_file.php?filename=venf1h1999.txt.gz&dir=data/historical/stdmet/', 'http://www.ndbc.noaa.gov/data/historical/stdmet/venf1h2004.txt.gz', 'http://www.ndbc.noaa.gov/data/historical/cwind/venf1c2007.txt.gz', 'http://www.ndbc.noaa.gov/data/historical/stdmet/venf1h2009.txt.gz', 'http://www.ndbc.noaa.gov/data/historical/stdmet/venf1h1999.txt.gz', 'http://www.ndbc.noaa.gov/view_text_file.php?filename=venf1c2010.txt.gz&dir=data/historical/cwind/', 'http://www.ndbc.noaa.gov/data/historical/cwind/venf1c1999.txt.gz', 'http://www.ndbc.noaa.gov/view_text_file.php?filename=venf1h1991.txt.gz&dir=data/historical/stdmet/', 'http://www.ndbc.noaa.gov/data/historical/cwind/venf1c2017.txt.gz', 'http://www.ndbc.noaa.gov/view_text_file.php?filename=venf1c2009.txt.gz&dir=data/historical/cwind/', 'http://www.ndbc.noaa.gov/data/historical/cwind/venf1c2003.txt.gz', 'http://www.ndbc.noaa.gov/data/historical/stdmet/venf1h2000.txt.gz', 'http://www.ndbc.noaa.gov/view_text_file.php?filename=venf1h2007.txt.gz&dir=data/historical/stdmet/', 'http://www.ndbc.noaa.gov/data/historical/stdmet/venf1h2015.txt.gz', 'http://www.ndbc.noaa.gov/view_text_file.php?filename=venf1h1994.txt.gz&dir=data/historical/stdmet/', 'http://www.ndbc.noaa.gov/view_text_file.php?filename=venf1c2015.txt.gz&dir=data/historical/cwind/', 'http://www.ndbc.noaa.gov/view_text_file.php?filename=venf1h1993.txt.gz&dir=data/historical/stdmet/', 'http://www.ndbc.noaa.gov/data/historical/stdmet/venf1h2005.txt.gz', 'http://www.ndbc.noaa.gov/data/historical/stdmet/venf1h2013.txt.gz', 'http://www.ndbc.noaa.gov/view_text_file.php?filename=venf1c2004.txt.gz&dir=data/historical/cwind/', 'http://www.ndbc.noaa.gov/view_text_file.php?filename=venf1c2008.txt.gz&dir=data/historical/cwind/', 'http://www.ndbc.noaa.gov/view_text_file.php?filename=venf1h2011.txt.gz&dir=data/historical/stdmet/', 'http://www.ndbc.noaa.gov/view_text_file.php?filename=venf1c2001.txt.gz&dir=data/historical/cwind/', 'http://www.ndbc.noaa.gov/view_text_file.php?filename=venf1h2012.txt.gz&dir=data/historical/stdmet/', 'http://www.ndbc.noaa.gov/view_text_file.php?filename=venf1c2003.txt.gz&dir=data/historical/cwind/', 'http://www.ndbc.noaa.gov/view_text_file.php?filename=venf1h2001.txt.gz&dir=data/historical/stdmet/', 'http://www.ndbc.noaa.gov/view_text_file.php?filename=venf1h2000.txt.gz&dir=data/historical/stdmet/', 'http://www.ndbc.noaa.gov/data/historical/wlevel/venf1l2003.txt.gz', 'http://www.ndbc.noaa.gov/view_text_file.php?filename=venf1c2013.txt.gz&dir=data/historical/cwind/', 'http://www.ndbc.noaa.gov/data/historical/wlevel/venf1l2004.txt.gz', 'http://www.ndbc.noaa.gov/data/historical/stdmet/venf1h1990.txt.gz', 'http://www.ndbc.noaa.gov/view_text_file.php?filename=venf1c2000.txt.gz&dir=data/historical/cwind/', 'http://www.ndbc.noaa.gov/data/historical/cwind/venf1c2008.txt.gz', 'http://www.ndbc.noaa.gov/data/historical/wlevel/venf1l2008.txt.gz', 'http://www.ndbc.noaa.gov/data/historical/stdmet/venf1h2006.txt.gz', 'http://www.ndbc.noaa.gov/view_text_file.php?filename=venf1h1987.txt.gz&dir=data/historical/stdmet/', 'http://www.ndbc.noaa.gov/view_text_file.php?filename=venf1h1996.txt.gz&dir=data/historical/stdmet/', 'http://www.ndbc.noaa.gov/view_text_file.php?filename=venf1h2004.txt.gz&dir=data/historical/stdmet/', 'http://www.ndbc.noaa.gov/view_text_file.php?filename=venf1c1997.txt.gz&dir=data/historical/cwind/', 'http://www.ndbc.noaa.gov/view_text_file.php?filename=venf1h2008.txt.gz&dir=data/historical/stdmet/', 'http://www.ndbc.noaa.gov/data/historical/stdmet/venf1h2011.txt.gz', 'http://www.ndbc.noaa.gov/view_text_file.php?filename=venf1h1995.txt.gz&dir=data/historical/stdmet/', 'http://www.ndbc.noaa.gov/data/historical/cwind/venf1c1990.txt.gz', 'http://www.ndbc.noaa.gov/data/historical/stdmet/venf1h1998.txt.gz', 'http://www.ndbc.noaa.gov/view_text_file.php?filename=venf1c1999.txt.gz&dir=data/historical/cwind/', 'http://www.ndbc.noaa.gov/data/historical/cwind/venf1c1993.txt.gz', 'http://www.ndbc.noaa.gov/view_text_file.php?filename=venf1h2003.txt.gz&dir=data/historical/stdmet/', 'http://www.ndbc.noaa.gov/data/historical/stdmet/venf1h1987.txt.gz', 'http://www.ndbc.noaa.gov/data/historical/stdmet/venf1h2007.txt.gz', 'http://www.ndbc.noaa.gov/data/historical/cwind/venf1c1991.txt.gz', 'http://www.ndbc.noaa.gov/data/historical/wlevel/venf1l2006.txt.gz', 'http://www.ndbc.noaa.gov/view_text_file.php?filename=venf1h2009.txt.gz&dir=data/historical/stdmet/', 'http://www.ndbc.noaa.gov/view_text_file.php?filename=venf1l2003.txt.gz&dir=data/historical/wlevel/', 'http://www.ndbc.noaa.gov/data/historical/cwind/venf1c2011.txt.gz', 'http://www.ndbc.noaa.gov/view_text_file.php?filename=venf1c1992.txt.gz&dir=data/historical/cwind/', 'http://www.ndbc.noaa.gov/data/historical/stdmet/venf1h2002.txt.gz', 'http://www.ndbc.noaa.gov/data/historical/stdmet/venf1h1989.txt.gz', 'http://www.ndbc.noaa.gov/data/historical/cwind/venf1c1997.txt.gz', 'http://www.ndbc.noaa.gov/view_text_file.php?filename=venf1h2010.txt.gz&dir=data/historical/stdmet/', 'http://www.ndbc.noaa.gov/data/historical/cwind/venf1c2005.txt.gz', 'http://www.ndbc.noaa.gov/view_text_file.php?filename=venf1h2006.txt.gz&dir=data/historical/stdmet/'])\n"
     ]
    }
   ],
   "source": [
    "from __future__ import print_function\n",
    "from ipywidgets import interact, interactive, fixed, interact_manual\n",
    "import ipywidgets as widgets\n",
    "\n",
    "#construct url from variable\n",
    "cinergi_url = \"http://cinergi.sdsc.edu/geoportal/rest/metadata/item/\" + docID\n",
    "\n",
    "#Create dropdown Buttons and generate table\n",
    "data_dropdown_options = helpers.create_dropdown_data (cinergi_url)\n",
    "print (data_dropdown_options.keys())\n",
    "print (data_dropdown_options.values())"
   ]
  },
  {
   "cell_type": "code",
   "execution_count": 76,
   "metadata": {},
   "outputs": [
    {
     "data": {
      "application/vnd.jupyter.widget-view+json": {
       "model_id": "3329392046a047eba94ef8a279ad8d2b",
       "version_major": 2,
       "version_minor": 0
      },
      "text/plain": [
       "interactive(children=(Dropdown(description='notebooks_menu', options=('113. http://www.ndbc.noaa.gov/view_text…"
      ]
     },
     "metadata": {},
     "output_type": "display_data"
    }
   ],
   "source": [
    "#Create widget with dropdown options from list created above\n",
    "def f(notebooks_menu):\n",
    "    return notebooks_menu\n",
    "# out = interact(f, notebooks_menu=nb_menu);\n",
    "out = interact(f, notebooks_menu=data_dropdown_options.keys());\n",
    "\n",
    "\n",
    "    "
   ]
  },
  {
   "cell_type": "code",
   "execution_count": 64,
   "metadata": {},
   "outputs": [
    {
     "name": "stdout",
     "output_type": "stream",
     "text": [
      "113. http://www.ndbc.noaa.gov/view_text_file.php?filename=venf1h2016.txt.gz&dir=data/historical/stdmet/\n",
      "http://www.ndbc.noaa.gov/view_text_file.php?filename=venf1h2016.txt.gz&dir=data/historical/stdmet/\n",
      " read file: http://www.ndbc.noaa.gov/view_text_file.php?filename=venf1h2016.txt.gz&dir=data/historical/stdmet/\n"
     ]
    },
    {
     "ename": "ValueError",
     "evalue": "day is out of range for month",
     "output_type": "error",
     "traceback": [
      "\u001b[0;31m---------------------------------------------------------------------------\u001b[0m",
      "\u001b[0;31mValueError\u001b[0m                                Traceback (most recent call last)",
      "\u001b[0;32m<ipython-input-64-86e5b193be91>\u001b[0m in \u001b[0;36m<module>\u001b[0;34m()\u001b[0m\n\u001b[1;32m     14\u001b[0m     \u001b[0mdata\u001b[0m\u001b[0;34m[\u001b[0m\u001b[0mi\u001b[0m\u001b[0;34m]\u001b[0m \u001b[0;34m=\u001b[0m \u001b[0mhelpers\u001b[0m\u001b[0;34m.\u001b[0m\u001b[0mcreateDateTime\u001b[0m\u001b[0;34m(\u001b[0m\u001b[0mdata\u001b[0m\u001b[0;34m[\u001b[0m\u001b[0mi\u001b[0m\u001b[0;34m]\u001b[0m\u001b[0;34m)\u001b[0m\u001b[0;34m\u001b[0m\u001b[0m\n\u001b[1;32m     15\u001b[0m     \u001b[0mgraphKeyVals\u001b[0m\u001b[0;34m.\u001b[0m\u001b[0mappend\u001b[0m\u001b[0;34m(\u001b[0m \u001b[0mdata\u001b[0m\u001b[0;34m[\u001b[0m\u001b[0mi\u001b[0m\u001b[0;34m]\u001b[0m\u001b[0;34m[\u001b[0m\u001b[0;34m'date_time'\u001b[0m\u001b[0;34m]\u001b[0m\u001b[0;34m[\u001b[0m\u001b[0;36m0\u001b[0m\u001b[0;34m]\u001b[0m\u001b[0;34m.\u001b[0m\u001b[0myear\u001b[0m\u001b[0;34m)\u001b[0m\u001b[0;34m\u001b[0m\u001b[0m\n\u001b[0;32m---> 16\u001b[0;31m     \u001b[0mdata\u001b[0m\u001b[0;34m[\u001b[0m\u001b[0mi\u001b[0m\u001b[0;34m]\u001b[0m\u001b[0;34m[\u001b[0m\u001b[0;34m'date_time'\u001b[0m\u001b[0;34m]\u001b[0m \u001b[0;34m=\u001b[0m \u001b[0mdata\u001b[0m\u001b[0;34m[\u001b[0m\u001b[0mi\u001b[0m\u001b[0;34m]\u001b[0m\u001b[0;34m[\u001b[0m\u001b[0;34m'date_time'\u001b[0m\u001b[0;34m]\u001b[0m\u001b[0;34m.\u001b[0m\u001b[0mapply\u001b[0m\u001b[0;34m(\u001b[0m\u001b[0;32mlambda\u001b[0m \u001b[0mx\u001b[0m\u001b[0;34m:\u001b[0m \u001b[0mx\u001b[0m\u001b[0;34m.\u001b[0m\u001b[0mreplace\u001b[0m\u001b[0;34m(\u001b[0m\u001b[0myear\u001b[0m\u001b[0;34m=\u001b[0m \u001b[0;36m2014\u001b[0m\u001b[0;34m)\u001b[0m\u001b[0;34m)\u001b[0m\u001b[0;34m\u001b[0m\u001b[0m\n\u001b[0m\u001b[1;32m     17\u001b[0m \u001b[0;34m\u001b[0m\u001b[0m\n\u001b[1;32m     18\u001b[0m \u001b[0;31m#Create dropdown Buttons and generate table\u001b[0m\u001b[0;34m\u001b[0m\u001b[0;34m\u001b[0m\u001b[0m\n",
      "\u001b[0;32m/usr/local/lib/python3.5/dist-packages/pandas/core/series.py\u001b[0m in \u001b[0;36mapply\u001b[0;34m(self, func, convert_dtype, args, **kwds)\u001b[0m\n\u001b[1;32m   2549\u001b[0m             \u001b[0;32melse\u001b[0m\u001b[0;34m:\u001b[0m\u001b[0;34m\u001b[0m\u001b[0m\n\u001b[1;32m   2550\u001b[0m                 \u001b[0mvalues\u001b[0m \u001b[0;34m=\u001b[0m \u001b[0mself\u001b[0m\u001b[0;34m.\u001b[0m\u001b[0masobject\u001b[0m\u001b[0;34m\u001b[0m\u001b[0m\n\u001b[0;32m-> 2551\u001b[0;31m                 \u001b[0mmapped\u001b[0m \u001b[0;34m=\u001b[0m \u001b[0mlib\u001b[0m\u001b[0;34m.\u001b[0m\u001b[0mmap_infer\u001b[0m\u001b[0;34m(\u001b[0m\u001b[0mvalues\u001b[0m\u001b[0;34m,\u001b[0m \u001b[0mf\u001b[0m\u001b[0;34m,\u001b[0m \u001b[0mconvert\u001b[0m\u001b[0;34m=\u001b[0m\u001b[0mconvert_dtype\u001b[0m\u001b[0;34m)\u001b[0m\u001b[0;34m\u001b[0m\u001b[0m\n\u001b[0m\u001b[1;32m   2552\u001b[0m \u001b[0;34m\u001b[0m\u001b[0m\n\u001b[1;32m   2553\u001b[0m         \u001b[0;32mif\u001b[0m \u001b[0mlen\u001b[0m\u001b[0;34m(\u001b[0m\u001b[0mmapped\u001b[0m\u001b[0;34m)\u001b[0m \u001b[0;32mand\u001b[0m \u001b[0misinstance\u001b[0m\u001b[0;34m(\u001b[0m\u001b[0mmapped\u001b[0m\u001b[0;34m[\u001b[0m\u001b[0;36m0\u001b[0m\u001b[0;34m]\u001b[0m\u001b[0;34m,\u001b[0m \u001b[0mSeries\u001b[0m\u001b[0;34m)\u001b[0m\u001b[0;34m:\u001b[0m\u001b[0;34m\u001b[0m\u001b[0m\n",
      "\u001b[0;32mpandas/_libs/src/inference.pyx\u001b[0m in \u001b[0;36mpandas._libs.lib.map_infer\u001b[0;34m()\u001b[0m\n",
      "\u001b[0;32m<ipython-input-64-86e5b193be91>\u001b[0m in \u001b[0;36m<lambda>\u001b[0;34m(x)\u001b[0m\n\u001b[1;32m     14\u001b[0m     \u001b[0mdata\u001b[0m\u001b[0;34m[\u001b[0m\u001b[0mi\u001b[0m\u001b[0;34m]\u001b[0m \u001b[0;34m=\u001b[0m \u001b[0mhelpers\u001b[0m\u001b[0;34m.\u001b[0m\u001b[0mcreateDateTime\u001b[0m\u001b[0;34m(\u001b[0m\u001b[0mdata\u001b[0m\u001b[0;34m[\u001b[0m\u001b[0mi\u001b[0m\u001b[0;34m]\u001b[0m\u001b[0;34m)\u001b[0m\u001b[0;34m\u001b[0m\u001b[0m\n\u001b[1;32m     15\u001b[0m     \u001b[0mgraphKeyVals\u001b[0m\u001b[0;34m.\u001b[0m\u001b[0mappend\u001b[0m\u001b[0;34m(\u001b[0m \u001b[0mdata\u001b[0m\u001b[0;34m[\u001b[0m\u001b[0mi\u001b[0m\u001b[0;34m]\u001b[0m\u001b[0;34m[\u001b[0m\u001b[0;34m'date_time'\u001b[0m\u001b[0;34m]\u001b[0m\u001b[0;34m[\u001b[0m\u001b[0;36m0\u001b[0m\u001b[0;34m]\u001b[0m\u001b[0;34m.\u001b[0m\u001b[0myear\u001b[0m\u001b[0;34m)\u001b[0m\u001b[0;34m\u001b[0m\u001b[0m\n\u001b[0;32m---> 16\u001b[0;31m     \u001b[0mdata\u001b[0m\u001b[0;34m[\u001b[0m\u001b[0mi\u001b[0m\u001b[0;34m]\u001b[0m\u001b[0;34m[\u001b[0m\u001b[0;34m'date_time'\u001b[0m\u001b[0;34m]\u001b[0m \u001b[0;34m=\u001b[0m \u001b[0mdata\u001b[0m\u001b[0;34m[\u001b[0m\u001b[0mi\u001b[0m\u001b[0;34m]\u001b[0m\u001b[0;34m[\u001b[0m\u001b[0;34m'date_time'\u001b[0m\u001b[0;34m]\u001b[0m\u001b[0;34m.\u001b[0m\u001b[0mapply\u001b[0m\u001b[0;34m(\u001b[0m\u001b[0;32mlambda\u001b[0m \u001b[0mx\u001b[0m\u001b[0;34m:\u001b[0m \u001b[0mx\u001b[0m\u001b[0;34m.\u001b[0m\u001b[0mreplace\u001b[0m\u001b[0;34m(\u001b[0m\u001b[0myear\u001b[0m\u001b[0;34m=\u001b[0m \u001b[0;36m2014\u001b[0m\u001b[0;34m)\u001b[0m\u001b[0;34m)\u001b[0m\u001b[0;34m\u001b[0m\u001b[0m\n\u001b[0m\u001b[1;32m     17\u001b[0m \u001b[0;34m\u001b[0m\u001b[0m\n\u001b[1;32m     18\u001b[0m \u001b[0;31m#Create dropdown Buttons and generate table\u001b[0m\u001b[0;34m\u001b[0m\u001b[0;34m\u001b[0m\u001b[0m\n",
      "\u001b[0;32mpandas/_libs/tslib.pyx\u001b[0m in \u001b[0;36mpandas._libs.tslib.Timestamp.replace\u001b[0;34m()\u001b[0m\n",
      "\u001b[0;31mValueError\u001b[0m: day is out of range for month"
     ]
    }
   ],
   "source": [
    "print (out.widget.result)\n",
    "chosen_url = data_dropdown_options[out.widget.result]\n",
    "print (chosen_url)\n",
    "\n",
    "data = helpers.create_data_from_urls([chosen_url])\n",
    "\n",
    "# Create Key Values for graph.\n",
    "graphKeyVals = []\n",
    "\n",
    "#Run all operations on Data\n",
    "for i in range(len(data)):\n",
    "    data[i].fillna('')\n",
    "    data[i] = helpers.simplify_column_names(data[i])\n",
    "    data[i] = helpers.createDateTime(data[i])\n",
    "    graphKeyVals.append( data[i]['date_time'][0].year)\n",
    "    data[i]['date_time'] = data[i]['date_time'].apply(lambda x: x.replace(year= 2014))\n",
    "    \n",
    "#Create dropdown Buttons and generate table\n",
    "dropdown_options = helpers.create_dropdowns(data)"
   ]
  },
  {
   "cell_type": "code",
   "execution_count": null,
   "metadata": {},
   "outputs": [],
   "source": [
    "# Example plot of the image based on values of WTMP (Can be changed to other variables)\n",
    "\n",
    "#Create widget with dropdown options from list created above\n",
    "w = widgets.Dropdown(\n",
    "    options=dropdown_options,\n",
    "    description='Number:',\n",
    "    disabled=False,\n",
    ")\n",
    "\n",
    "#Describe what happens when the button changes its value\n",
    "def on_change(change):\n",
    "    if change['type'] == 'change' and change['name'] == 'value':\n",
    "        clear_output()\n",
    "        %pylab inline\n",
    "        pylab.rcParams['figure.figsize'] = (25, 15)\n",
    "        helpers.plotTimeSeriesData(data,change['new'],graphKeyVals)\n",
    "        \n",
    "w.observe(on_change)\n",
    "display(w)"
   ]
  },
  {
   "cell_type": "code",
   "execution_count": null,
   "metadata": {},
   "outputs": [],
   "source": []
  },
  {
   "cell_type": "code",
   "execution_count": null,
   "metadata": {},
   "outputs": [],
   "source": []
  },
  {
   "cell_type": "code",
   "execution_count": null,
   "metadata": {},
   "outputs": [],
   "source": []
  },
  {
   "cell_type": "code",
   "execution_count": null,
   "metadata": {},
   "outputs": [],
   "source": []
  },
  {
   "cell_type": "code",
   "execution_count": null,
   "metadata": {},
   "outputs": [],
   "source": []
  },
  {
   "cell_type": "code",
   "execution_count": null,
   "metadata": {},
   "outputs": [],
   "source": []
  }
 ],
 "metadata": {
  "kernelspec": {
   "display_name": "Python 3",
   "language": "python",
   "name": "python3"
  },
  "language_info": {
   "codemirror_mode": {
    "name": "ipython",
    "version": 3
   },
   "file_extension": ".py",
   "mimetype": "text/x-python",
   "name": "python",
   "nbconvert_exporter": "python",
   "pygments_lexer": "ipython3",
   "version": "3.5.2"
  }
 },
 "nbformat": 4,
 "nbformat_minor": 2
}
