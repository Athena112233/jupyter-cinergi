{
 "cells": [
  {
   "cell_type": "markdown",
   "metadata": {},
   "source": [
    "# Extract Distribution information from ISO 19139 metadata\n",
    "\n",
    "S.M. Richard 2018-08-03\n",
    "\n",
    "This notebook is opened with a documentID used to pull an ISO XML record from the CINERGI catalog;\n",
    "The record is parsed to extract distribution information and generate a dispatchList object\n",
    "\n",
    "The plan is for the dispatch list object to get passed to a dispatcher (and maybe stored with the metadata record for use by other dispatchers. The dispatcher would accesses a mapping resource that associates endpoint applications and application profiles in the dispatchList.\n",
    "\n",
    "Currently the dispatch list is a JSON array of objects. e.g. : ``` {\"profile\":\"nwis_rdb\", \"url\":theURL, \"label\":thename } ```\n",
    "\n",
    "###  profile\n",
    "\n",
    "(ideally) should be a registered URI that characterizes the protocol and interchange formats that are used to access a service.  Current demo vocabulary includes:\n",
    "* nwis_rdb -- service implements http access that serves NWIS text documents following the rdb format; TBD: think about differentiating various NWIS services. \n",
    "  * uv -- current data \n",
    "  * gwlevels -- groundwater levels\n",
    "  * peak -- peak stream flow at gage\n",
    "  * inventory -- site information. No time series information, but useful for location information\n",
    "  * measurements -- streamflow data for site; https://help.waterdata.usgs.gov/output-formats#streamflow_measurement_data. data files do not include the variable names in header\n",
    "* wfsclient -- service that implements OGC WFS simple feature profile on http. should work with any version of WFS (1.0.0, 1.1.0, 2.0). TBD: specializations based on feature types offered; handle complex features\n",
    "* webbrowser -- service implements http and can display html documents. TBD -- extend to include any kind of document that standard web browser can display (.tif, .jpg,....)\n",
    "\n",
    "### url\n",
    "The URL that is expected under the profile for a client to access a specific resource\n",
    "\n",
    "### label\n",
    "A text string to display in user interfaces to label links to access the application with the selected data."
   ]
  },
  {
   "cell_type": "code",
   "execution_count": null,
   "metadata": {
    "collapsed": true
   },
   "outputs": [],
   "source": [
    "# package dependency imports\n",
    "\n",
    "import requests\n",
    "from lxml import etree  #supposed to be better than xml.etree\n",
    "\n",
    "\n",
    "#import xmltodict\n",
    "#import json\n",
    "#from io import StringIO,BytesIO"
   ]
  },
  {
   "cell_type": "code",
   "execution_count": null,
   "metadata": {
    "collapsed": true
   },
   "outputs": [],
   "source": [
    "%%javascript\n",
    "function getQueryStringValue (key)\n",
    "{  \n",
    "    return unescape(window.location.search.replace(new RegExp(\"^(?:.*[&\\\\?]\" + escape(key).replace(/[\\.\\+\\*]/g, \"\\\\$&\") + \"(?:\\\\=([^&]*))?)?.*$\", \"i\"), \"$1\"));\n",
    "}\n",
    "IPython.notebook.kernel.execute(\"documentID='\".concat(getQueryStringValue(\"documentId\")).concat(\"'\"));\n",
    "IPython.notebook.kernel.execute(\"user='\".concat(getQueryStringValue(\"user\")).concat(\"'\"));\n",
    "IPython.notebook.kernel.execute(\"full_notebook_url='\" + window.location + \"'\"); "
   ]
  },
  {
   "cell_type": "code",
   "execution_count": null,
   "metadata": {
    "collapsed": true
   },
   "outputs": [],
   "source": [
    "def testurl(theurl):\n",
    "    #try HEAD first in case the response document is big\n",
    "    r = requests.head(theurl)\n",
    "    if (r.status_code != requests.codes.ok):\n",
    "        #check GET in case is an incomplete http implementation\n",
    "        r = requests.get(theurl)\n",
    "        if (r.status_code == requests.codes.ok):\n",
    "            return True\n",
    "        else:\n",
    "            return False\n",
    "    else:\n",
    "        return True\n"
   ]
  },
  {
   "cell_type": "code",
   "execution_count": null,
   "metadata": {
    "collapsed": true
   },
   "outputs": [],
   "source": [
    "# use hardwired values for testing\n",
    "\n",
    "\n",
    "catalogURL = \"http://cinergi.sdsc.edu/geoportal/\"\n",
    "if (len(documentID)==0):\n",
    "    #documentID=\"e3619c5df2644204b67f51f48525a0b1\"\n",
    "    documentID=\"4db8156abb6d4119aa5c35aa39514b42\""
   ]
  },
  {
   "cell_type": "code",
   "execution_count": null,
   "metadata": {
    "collapsed": true
   },
   "outputs": [],
   "source": [
    "url_partitioned = full_notebook_url.partition('ISOmetadata-ExtractDistributions.ipynb')\n",
    "base_url = url_partitioned[0];\n",
    "\n",
    "print(\"User: \",user)\n",
    "print(\"DocumentID: \", documentID)\n",
    "print(\"full notebook url partition\", url_partitioned)\n",
    "print(\"full notebook url\", full_notebook_url)"
   ]
  },
  {
   "cell_type": "code",
   "execution_count": null,
   "metadata": {
    "collapsed": true
   },
   "outputs": [],
   "source": [
    "\n",
    "\n",
    "#get the url to retrieve xml record from catalog\n",
    "metadataURLx=catalogURL + 'rest/metadata/item/' + documentID + '/xml'\n",
    "\n",
    "print (\"metadata URL: \", metadataURLx)\n",
    "\n",
    "#get the xml record\n",
    "the_page = requests.get(metadataURLx)\n"
   ]
  },
  {
   "cell_type": "code",
   "execution_count": null,
   "metadata": {
    "collapsed": true
   },
   "outputs": [],
   "source": [
    "# use this to generate JSON representation of the metadata record\n",
    "#the_isojson = json.loads(json.dumps(xmltodict.parse(the_page.text)))\n",
    "\n",
    "#print(the_isojson.keys())\n",
    "#print(the_isojson[\"gmi:MI_Metadata\"])"
   ]
  },
  {
   "cell_type": "code",
   "execution_count": null,
   "metadata": {
    "collapsed": true
   },
   "outputs": [],
   "source": [
    "#set up namespace map for ISO metadata\n",
    "NSMAP = {\"gmi\":\"http://www.isotc211.org/2005/gmi\" ,\n",
    "    \"gco\":\"http://www.isotc211.org/2005/gco\" ,\n",
    "    \"gmd\":\"http://www.isotc211.org/2005/gmd\" ,\n",
    "    \"gml\":\"http://www.opengis.net/gml\" ,\n",
    "    \"gmx\":\"http://www.isotc211.org/2005/gmx\" ,\n",
    "    \"gts\":\"http://www.isotc211.org/2005/gts\" ,\n",
    "    \"srv\":\"http://www.isotc211.org/2005/srv\" ,\n",
    "    \"xlink\":\"http://www.w3.org/1999/xlink\"}"
   ]
  },
  {
   "cell_type": "code",
   "execution_count": null,
   "metadata": {
    "collapsed": true
   },
   "outputs": [],
   "source": [
    "#root = etree.fromstring(the_page.text)\n",
    "\n",
    "#tree is an element tree\n",
    "tree = etree.parse(metadataURLx)\n",
    "#root = etree.tostring(tree.getroot())\n",
    "root = tree.getroot()\n",
    "docinfo = tree.docinfo\n",
    "print(docinfo.xml_version)\n",
    "print(tree.findall(\"//gmd:MD_DigitalTransferOptions\",namespaces=NSMAP))\n",
    "\n"
   ]
  },
  {
   "cell_type": "code",
   "execution_count": null,
   "metadata": {
    "collapsed": true
   },
   "outputs": [],
   "source": [
    "#iterate through digital transfer options and set up dispatch object\n",
    "# dispatch list is a list of 'options' consisting of \n",
    "# {an application profile (string, from EC resource registry) that the disptcher will use to identify target notebooks, \n",
    "#   the URL for the information resource input to the target for that profile}\n",
    "# e.g. dispatchlist = [{\"profile\":\"profile1\",\"url\":\"url1\"}, {\"profile\":\"profile2\",\"url\":\"url2\"}]\n",
    "\n",
    "dispatchlist = []\n",
    "\n",
    "for  elt in tree.getiterator(\"{http://www.isotc211.org/2005/gmd}MD_DigitalTransferOptions\"):\n",
    "    # only want OnlineResources that are in distribution//MD_DigitalTransferOptions\n",
    "    #  TBD-- figure out what to do with CI_OnlineResource inside SV_OperationMetadata\n",
    "    #print elt.text\n",
    "#iterate through CI_OnlineResource elements\n",
    "    for onlineres in elt.getiterator(\"{http://www.isotc211.org/2005/gmd}CI_OnlineResource\"):\n",
    "        if (onlineres.find(\"gmd:linkage/gmd:URL\",namespaces=NSMAP) is not None):\n",
    "            theURL=onlineres.find(\"gmd:linkage/gmd:URL\",namespaces=NSMAP).text\n",
    "        else:\n",
    "            continue #don't bother if there's no URL!\n",
    "        \n",
    "        if (onlineres.find(\"gmd:name/gco:CharacterString\",namespaces=NSMAP) is not None):\n",
    "            thename=onlineres.find(\"gmd:name/gco:CharacterString\",namespaces=NSMAP).text\n",
    "        else:\n",
    "            thename=''\n",
    "        \n",
    "        if (onlineres.find(\"gmd:description/gco:CharacterString\",namespaces=NSMAP) is not None):\n",
    "            thedescription=onlineres.find(\"gmd:description/gco:CharacterString\",namespaces=NSMAP).text\n",
    "        else:\n",
    "            thedescription=''\n",
    "            \n",
    "        if (onlineres.find(\"gmd:protocol/gco:CharacterString\",namespaces=NSMAP) is not None):\n",
    "            theprotocol=onlineres.find(\"gmd:protocol/gco:CharacterString\",namespaces=NSMAP).text\n",
    "        else:\n",
    "            theprotocol=''\n",
    "        \n",
    "        if (onlineres.find(\"gmd:applicationProfile/gco:CharacterString\",namespaces=NSMAP) is not None):\n",
    "            theappprofile=onlineres.find(\"gmd:applicationProfile/gco:CharacterString\",namespaces=NSMAP).text\n",
    "        else:\n",
    "            theappprofile=''\n",
    "            \n",
    "        if (onlineres.find(\"gmd:function/gmd:CI_OnLineFunctionCode\",namespaces=NSMAP) is not None):\n",
    "            thefunctioncode=onlineres.find(\"gmd:function/gmd:CI_OnLineFunctionCode\",namespaces=NSMAP).get(\"codeListValue\")\n",
    "        else:\n",
    "            thefunctioncode=''\n",
    "            \n",
    "        if (onlineres.find(\"gmd:function/gmd:CI_OnLineFunctionCode\",namespaces=NSMAP) is not None):    \n",
    "            thefunctiontext=onlineres.find(\"gmd:function/gmd:CI_OnLineFunctionCode\",namespaces=NSMAP).text\n",
    "        else:\n",
    "            thefunctiontext=''\n",
    "            \n",
    "        print(theURL,thename,thedescription,theprotocol,theappprofile,thefunctioncode,thefunctiontext)\n",
    "        \n",
    "        # series of tests to determine what application profiles are applicable for this online resource\n",
    "        #check for OGC WFS Web feature service\n",
    "        if (theprotocol.lower().find('wfs')>-1 or\n",
    "           theURL.lower().find('service=wfs')>-1):       \n",
    "            # append to dispatchlist\n",
    "            # wfs disptacher gets the base URL for the service\n",
    "            #check if service is responding\n",
    "            tryurl=theURL.split('?')[0] + '?service=wfs&request=getCapabilities'\n",
    "            if testurl(tryurl):\n",
    "                dispatchlist.append({\"profile\":\"wfsclient\",\"url\":theURL.split('?')[0]})\n",
    "            \n",
    "        #check for OGC WMS; open in QGIS, ArcGIS, or OpenLayers web client\n",
    "        if (theprotocol.lower().find('wms')>-1 or\n",
    "           (theURL.lower().find('service=wms')>-1 and theURL.lower().find('request=kml')==-1) ):\n",
    "            #kml test is because of GeoServer handling of kml response for wms\n",
    "            # append to dispatchlist\n",
    "            # wms disptacher gets the base URL for the service\n",
    "            tryurl=theURL.split('?')[0] + '?service=wms&request=getCapabilities'\n",
    "            if testurl(tryurl):\n",
    "                dispatchlist.append({\"profile\":\"wmsclient\",\"url\":theURL.split('?')[0]})\n",
    "            \n",
    "        # KML client-- open in GoogleEarth or ?OpenLayers? kml client\n",
    "        if (thedescription.lower().find('kml download')>-1 or\n",
    "           (theURL.lower().find('request=kml')>-1 and theURL.lower().find('mode=download')>-1) or\n",
    "           theURL.lower().find('.kml')>-1 or theURL.lower().find('.kmz')>-1):\n",
    "            #kml test for GeoServer handling of kml response for wms\n",
    "            # append to dispatchlist\n",
    "            # wfs disptacher gets the base URL for the service\n",
    "            if testurl(theURL):\n",
    "                dispatchlist.append({\"profile\":\"kmlclient\",\"url\":theURL})\n",
    "            \n",
    "        # other http URL-- check if the URL works\n",
    "        if ((theURL.lower().find('.html')>-1 ) \n",
    "            or  (theprotocol.lower().find('http')>-1)):\n",
    "            #kml test for GeoServer handling of kml response for wms\n",
    "            # append to dispatchlist\n",
    "            # wfs disptacher gets the base URL for the service\n",
    "            if testurl(theURL):\n",
    "                r = requests.get(theURL)\n",
    "                if (r.headers['Content-Type'].find('html')>-1):\n",
    "                    dispatchlist.append({\"profile\":\"webbrowser\",\"url\":theURL,\n",
    "                                       \"label\":thename })\n",
    "                    \n",
    "        # nwis rdb data\n",
    "        if ((theURL.lower().find('/nwis/qwdata')>-1 )\n",
    "            or (theURL.lower().find('/nwis/gwlevels')>-1 )\n",
    "            or (theURL.lower().find('/nwis/uv')>-1 )\n",
    "            or (theURL.lower().find('/nwis/peak')>-1 )\n",
    "            or (theURL.lower().find('/nwis/measurements')>-1)):\n",
    "            #kml test for GeoServer handling of kml response for wms\n",
    "            # append to dispatchlist\n",
    "            # wfs disptacher gets the base URL for the service\n",
    "            if testurl(theURL):\n",
    "                dispatchlist.append({\"profile\":\"nwis_rdb\",\"url\":theURL,\n",
    "                                       \"label\":thename })\n",
    "            \n",
    "print(dispatchlist)"
   ]
  },
  {
   "cell_type": "markdown",
   "metadata": {},
   "source": [
    "Call the dispatcher with the dispatchlist\n",
    "The dispatcher will need to access registry with mapping from application profile values to endpoints that will 'open' the url associated with that profile in the dispatch option.\n",
    "\n",
    "In the long run, the dispatcher should be a separate component accessed via URL; start with it hard wired here.\n",
    "\n"
   ]
  },
  {
   "cell_type": "code",
   "execution_count": null,
   "metadata": {
    "collapsed": true
   },
   "outputs": [],
   "source": [
    "#Simple dispatcher\n",
    "for option in dispatchlist:\n",
    "    if (option['profile']=='wfsclient'):\n",
    "        #offer links for apps that consume generic WFS\n",
    "        #print('got wfs')\n",
    "        wfsurl=base_url+ 'WFSprocessor.ipynb?endpoint='+option['url']\n",
    "        print('To inspect the Dataset contents via OGC Web Feature Service interface, click here: %s' % wfsurl)\n",
    "    if (option['profile']=='webbrowser'):\n",
    "        #offer links for apps that consume generic WFS\n",
    "        print('To display %s in browser, click here: %s' % (option['label'],option['url']))\n",
    "    if (option['profile']=='nwis_rdb'):\n",
    "        #offer links for apps that consume generic WFS\n",
    "        nwisgdburl=base_url+ 'NWIS-explore2.ipynb?dataurl='+option['url']\n",
    "        print('To inspect data for %s, click here: %s' % (option['label'],nwisgdburl))\n",
    "        "
   ]
  },
  {
   "cell_type": "code",
   "execution_count": null,
   "metadata": {
    "collapsed": true
   },
   "outputs": [],
   "source": []
  }
 ],
 "metadata": {
  "kernelspec": {
   "display_name": "py36",
   "language": "python",
   "name": "py36"
  },
  "language_info": {
   "codemirror_mode": {
    "name": "ipython",
    "version": 2
   },
   "file_extension": ".py",
   "mimetype": "text/x-python",
   "name": "python",
   "nbconvert_exporter": "python",
   "pygments_lexer": "ipython2",
   "version": "2.7.13"
  }
 },
 "nbformat": 4,
 "nbformat_minor": 2
}
