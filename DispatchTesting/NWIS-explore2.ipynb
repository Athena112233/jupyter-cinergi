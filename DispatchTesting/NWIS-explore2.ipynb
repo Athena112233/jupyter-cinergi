{
 "cells": [
  {
   "cell_type": "markdown",
   "metadata": {},
   "source": [
    "# Data explorer for NWIS datat\n",
    "NWIS is the National Water Information System, with data on surface and groundwater in the USA.\n",
    "This notebook uses data delivered in a sort of standardized tab-delimited text format 'rdb'.  \n",
    "Documentation for the format is at \n",
    "https://waterdata.usgs.gov/nwis/?tab_delimited_format_info  \n",
    "and   \n",
    "https://pubs.usgs.gov/of/2003/ofr03123/6.4rdb_format.pdf  \n",
    "updates: https://help.waterdata.usgs.gov/news/June-10-2016  \n",
    "\n",
    "Actual data (see the example URLs included below in one of the cells) shows some variability in conformance to the spec, and also probably reflect evolution of the spec over time.\n",
    "\n",
    "Important pattern is header in the text file with lines beginning with '#' character; \n",
    "\n",
    "* Header:  \n",
    "The header section contains zero or more lines with information such as disclaimers, sites, parameter and location names. \n",
    "The header comment lines start with a sharp sign (#) followed by (one or more...) space character followed by any text desired.\n",
    "\n",
    "* Column-name row:  \n",
    "The header is followed by exactly one tab-delimited column-name row. The fields in the tab-delimited column-name row contain the names of each column.\n",
    "\n",
    "* Column definition row:  \n",
    "This is followed by exactly one column-definition row.  The fields in the tab-delimited column-definition row contain the data definitions and optional column documentation for each column.\n",
    "\n",
    "* Data section:  \n",
    "Then is the data section consisting of any number of rows of tab-delimited data fields. Data rows must have exactly the same number of tab-delimited columns as both the column-name and column-definition rows. Null data values are allowed. \n",
    "\n",
    "NWIS data urls are like https://nwis.waterdata.usgs.gov/{state}/nwis/{dataseries}?site_no={siteIDstring}\n",
    "the {state} part of the host name is optional, can be left out when site_no is provided; it uses standard two character state-name abbreviations (e.g. md, ca, nv...)\n",
    "{dataseries} is a string identifying NWIS data categories. I haven't found a definitive list, but these are the ones I've figured out:\n",
    "    * uv -- current data \n",
    "    * gwlevels -- groundwater levels\n",
    "    * peak -- peak stream flow at gage\n",
    "    * inventory -- site information\n",
    "    * measurements -- streamflow data for site; https://help.waterdata.usgs.gov/output-formats#streamflow_measurement_data. data files do not include the variable names in header\n",
    "    \n",
    "This notebook takes an NWIS site_no as the URL parameter, and determines what data are available for the site from \n"
   ]
  },
  {
   "cell_type": "code",
   "execution_count": 1,
   "metadata": {
    "collapsed": true
   },
   "outputs": [],
   "source": [
    "#imports\n",
    "import pandas as pd\n",
    "import numpy as np\n",
    "import datetime as dt\n",
    "import matplotlib.pyplot as plt\n",
    "import matplotlib.patches as mpatches\n",
    "import matplotlib.dates as mdates\n",
    "import urllib.request\n",
    "import json\n",
    "#import urllib\n",
    "import helpers\n",
    "import sys\n",
    "from datetime import datetime, date, time\n",
    "from ipywidgets import widgets  \n",
    "from IPython import get_ipython\n",
    "from IPython.display import display\n",
    "from matplotlib import pylab\n",
    "from pylab import *\n",
    "from IPython.display import clear_output\n",
    "import warnings"
   ]
  },
  {
   "cell_type": "markdown",
   "metadata": {},
   "source": [
    "# Utility functions"
   ]
  },
  {
   "cell_type": "code",
   "execution_count": 2,
   "metadata": {
    "collapsed": true
   },
   "outputs": [],
   "source": [
    "def is_number(s):\n",
    "    try:\n",
    "        float(s)\n",
    "        return True\n",
    "    except ValueError:\n",
    "        return False"
   ]
  },
  {
   "cell_type": "code",
   "execution_count": 3,
   "metadata": {
    "collapsed": true
   },
   "outputs": [],
   "source": [
    "def getmetavalue(rdbdata, label,skipVal=-1):\n",
    "    '''\n",
    "    function to look for a text string in a text string\n",
    "    input is a list of text string; \n",
    "    searches each string for string containing the 'label' string\n",
    "    returns the following text, with '- ' and leading/trailing spaces removed\n",
    "    .\n",
    "    '''\n",
    "    inlabel=''\n",
    "    #first have to handle column names that are parameter numbers\n",
    "    if label.split('_')[0].isnumeric():\n",
    "        inlabel=label\n",
    "        label = label.split('_')[0]\n",
    "\n",
    "    \n",
    "    rowcount=0\n",
    "#    for line in rdbdata:\n",
    "#        rowcount=rowcount+1\n",
    "#    print('file lines: ' + str(rowcount))\n",
    "#    return('nothing')\n",
    "#    print('getmetadatavalue for ' + label)\n",
    "    for line in rdbdata:\n",
    "        strline = str(line)\n",
    "        #print('line:' + strline)\n",
    "        if (label in strline):\n",
    "            out= strline.split(label)[1]\n",
    "            out = out.strip()\n",
    "            if (strline[1:2]=='- '):\n",
    "                out = strline.split('- ')[1]\n",
    "            if (len(inlabel) == 0):\n",
    "                return(out)\n",
    "            else:\n",
    "                if (inlabel[-3:]=='_cd'):\n",
    "                    return(out+' code')\n",
    "                else:\n",
    "                    return(out)\n",
    "        rowcount=rowcount+1\n",
    "        if (skipVal > 0 and rowcount>skipVal): \n",
    "            return('Field not documemented')\n",
    "    return('Field not documemented')\n",
    "\n"
   ]
  },
  {
   "cell_type": "markdown",
   "metadata": {},
   "source": [
    "# Prepare Data:"
   ]
  },
  {
   "cell_type": "code",
   "execution_count": 6,
   "metadata": {},
   "outputs": [
    {
     "data": {
      "application/javascript": [
       "function getQueryStringValue (key){  \n",
       "    return unescape(window.location.search.replace(new RegExp(\"^(?:.*[&\\\\?]\" + escape(key).replace(/[\\.\\+\\*]/g, \"\\\\$&\") + \"(?:\\\\=([^&]*))?)?.*$\", \"i\"), \"$1\"));\n",
       "}\n",
       "IPython.notebook.kernel.execute(\"dataurl='\".concat(getQueryStringValue(\"dataurl\")).concat(\"'\"));\n",
       "\n",
       "IPython.notebook.kernel.execute(\"site_no='\".concat(getQueryStringValue(\"site_no\")).concat(\"'\"));\n",
       "//get the URL parameters and pass to python"
      ],
      "text/plain": [
       "<IPython.core.display.Javascript object>"
      ]
     },
     "metadata": {},
     "output_type": "display_data"
    }
   ],
   "source": [
    "%%javascript\n",
    "function getQueryStringValue (key){  \n",
    "    return unescape(window.location.search.replace(new RegExp(\"^(?:.*[&\\\\?]\" + escape(key).replace(/[\\.\\+\\*]/g, \"\\\\$&\") + \"(?:\\\\=([^&]*))?)?.*$\", \"i\"), \"$1\"));\n",
    "}\n",
    "IPython.notebook.kernel.execute(\"dataurl='\".concat(getQueryStringValue(\"dataurl\")).concat(\"'\"));\n",
    "\n",
    "IPython.notebook.kernel.execute(\"site_no='\".concat(getQueryStringValue(\"site_no\")).concat(\"'\"));\n",
    "//get the URL parameters and pass to python"
   ]
  },
  {
   "cell_type": "code",
   "execution_count": 7,
   "metadata": {},
   "outputs": [
    {
     "name": "stdout",
     "output_type": "stream",
     "text": [
      "No URL paramteter\n"
     ]
    }
   ],
   "source": [
    "# Some example URLS included here for various NWIS data\n",
    "\n",
    "if (len(dataurl)==0):\n",
    "    print('No URL paramteter')\n",
    "    # for testing without URL parameter\n",
    "    \n",
    "    # Water Quality Samples for the Nation\n",
    "    dataurl = 'https://nwis.waterdata.usgs.gov/usa/nwis/qwdata/?site_no=07373420&format=rdb'\n",
    "    #dataurl = 'https://nwis.waterdata.usgs.gov/usa/nwis/qwdata/?site_no=07373420&pm_cd_compare=Greater%20than&format=rdb'\n",
    "    site_no='07373420'\n",
    "    \n",
    "    # groundwater levels\n",
    "    #dataurl = 'http://nwis.waterdata.usgs.gov/pa/nwis/gwlevels?site_no=400650075514001&agency_cd=USGS&format=rdb'\n",
    "    # note this gets same result (no '/pa' in URL):\n",
    "    #dataurl = 'https://nwis.waterdata.usgs.gov/nwis/gwlevels?site_no=400650075514001&agency_cd=USGS&format=rdb'\n",
    "    #site_no='400650075514001'\n",
    "    \n",
    "    # current conditions\n",
    "    #dataurl = 'https://waterdata.usgs.gov/nwis/uv/?site_no=06191000&format=rdb'\n",
    "    #site_no='06191000'\n",
    "    \n",
    "    #peak stream flow service\n",
    "    #dataurl = 'https://nwis.waterdata.usgs.gov/nwis/peak/?site_no=01063310&agency_cd=USGS&format=rdb'\n",
    "    #site_no='01063310'\n",
    "    \n",
    "    #site information:\n",
    "    #dataurl = 'https://waterdata.usgs.gov/nwis/inventory/?site_no=06022500&format=rdb'\n",
    "    #site_no='06022500'\n",
    "    \n",
    "\n",
    "    # site measurements, rdb expanded, works in most cases but doesn't always add more columns:\n",
    "    #dataurl = 'https://waterdata.usgs.gov/nwis/measurements?site_no=08158810&format=rdb_expanded'\n",
    "    #site_no='08158810'\n",
    "    \n",
    "\n",
    "else:\n",
    "    dataurl= dataurl + '&agency_cd=USGS&format=rdb'"
   ]
  },
  {
   "cell_type": "code",
   "execution_count": 8,
   "metadata": {},
   "outputs": [
    {
     "name": "stdout",
     "output_type": "stream",
     "text": [
      "https://nwis.waterdata.usgs.gov/usa/nwis/qwdata/?site_no=07373420&format=rdb\n",
      "Downloading the dataset. Please wait...\n",
      "Rows to skip: 1408\n",
      "Ready\n"
     ]
    },
    {
     "name": "stderr",
     "output_type": "stream",
     "text": [
      "E:\\EPrograms\\Anaconda\\envs\\py36\\lib\\site-packages\\IPython\\core\\interactiveshell.py:2785: DtypeWarning: Columns (1,4,5,10,11,12,14,18,20) have mixed types. Specify dtype option on import or set low_memory=False.\n",
      "  interactivity=interactivity, compiler=compiler, result=result)\n"
     ]
    }
   ],
   "source": [
    "# Get the data\n",
    "\n",
    "print(dataurl)\n",
    "print('Downloading the dataset. Please wait...')\n",
    "\n",
    "data = urllib.request.urlopen(dataurl) # it's a file like object and works just like a file\n",
    "# counter for the number of comment lines at the top of the file\n",
    "skipVal = 0\n",
    "datalist=[]\n",
    "for line in data:\n",
    "    strline = str(line)\n",
    "    strline = strline.replace(\"\\\\r\",'')\n",
    "    strline = strline.replace(\"\\\\n\",'')\n",
    "    strline = strline.replace(\"\\'\",'')\n",
    "    #print('line:' + strline)\n",
    "    if '#' in strline:\n",
    "        if (strline.find(site_no)>-1):\n",
    "            site_label=(strline.split('# ')[1].strip())\n",
    "            #remove extra internal spaces\n",
    "            site_label = \" \".join(site_label.split())\n",
    "        #print(strline.split('#')[1].strip())\n",
    "        if (len(strline.split('#')[1].strip()) > 0): \n",
    "            out = strline.split('#')[1].strip()\n",
    "            out = \" \".join(out.split())\n",
    "            #print('output to datalist: ' + out)\n",
    "            datalist.append(out)\n",
    "    else:\n",
    "        break\n",
    "    skipVal = skipVal + 1\n",
    "print('Rows to skip: ' + str(skipVal))\n",
    "global df\n",
    "df = pd.read_csv(dataurl, sep='\\t',skiprows=range(0, skipVal),encoding='utf-8')\n",
    "\n",
    "#first row is formatting information, save for later\n",
    "formats = df.head(1)\n",
    "#print('formats: ' + str(formats))\n",
    "#print(str(formats['agency_cd'][0]))\n",
    "#drop the formatting information row\n",
    "df = df.drop(df.index[0])\n",
    "#print(df.info)\n",
    "print('Ready')"
   ]
  },
  {
   "cell_type": "code",
   "execution_count": 9,
   "metadata": {},
   "outputs": [
    {
     "data": {
      "text/plain": [
       "agency_cd                     object\n",
       "site_no                       object\n",
       "sample_dt                     object\n",
       "sample_tm                     object\n",
       "sample_end_dt                 object\n",
       "sample_end_tm                 object\n",
       "sample_start_time_datum_cd    object\n",
       "tm_datum_rlbty_cd             object\n",
       "coll_ent_cd                   object\n",
       "medium_cd                     object\n",
       "tu_id                         object\n",
       "body_part_id                  object\n",
       "parm_cd                       object\n",
       "remark_cd                     object\n",
       "result_va                     object\n",
       "val_qual_tx                   object\n",
       "meth_cd                       object\n",
       "dqi_cd                        object\n",
       "rpt_lev_va                    object\n",
       "rpt_lev_cd                    object\n",
       "lab_std_va                    object\n",
       "anl_ent_cd                    object\n",
       "dtype: object"
      ]
     },
     "execution_count": 9,
     "metadata": {},
     "output_type": "execute_result"
    }
   ],
   "source": [
    "df.dtypes"
   ]
  },
  {
   "cell_type": "code",
   "execution_count": 10,
   "metadata": {},
   "outputs": [
    {
     "name": "stdout",
     "output_type": "stream",
     "text": [
      "agency_cd {'desc': '- Agency Code', 'format': '5s', 'type': 'code'}\n",
      "site_no {'desc': '- USGS site number', 'format': '15s', 'type': 'pinteger'}\n",
      "sample_dt {'desc': '- Begin date', 'format': '10d', 'type': 'date'}\n",
      "sample_tm {'desc': '- Begin time', 'format': '5d', 'type': 'date'}\n",
      "sample_end_dt {'desc': '- End date', 'format': '10d', 'type': 'date'}\n",
      "sample_end_tm {'desc': '- End time', 'format': '5d', 'type': 'date'}\n",
      "sample_start_time_datum_cd {'desc': '- Time datum', 'format': '3s', 'type': 'code'}\n",
      "tm_datum_rlbty_cd {'desc': '- Time datum reliability code', 'format': '1s', 'type': 'code'}\n",
      "coll_ent_cd {'desc': '- Agency Collecting Sample Code', 'format': '8s', 'type': 'code'}\n",
      "medium_cd {'desc': '- Sample Medium Code', 'format': '3s', 'type': 'code'}\n",
      "tu_id {'desc': '- Taxonomic unit code', 'format': '11s', 'type': 'nan'}\n",
      "body_part_id {'desc': '- Body part code', 'format': '11s', 'type': 'nan'}\n",
      "parm_cd {'desc': '- Parameter code', 'format': '5s', 'type': 'code'}\n",
      "remark_cd {'desc': '- Remark code', 'format': '1s', 'type': 'code'}\n",
      "result_va {'desc': '- Parameter value', 'format': '12s', 'type': 'float'}\n",
      "val_qual_tx {'desc': '- Result value qualifier code', 'format': '5s', 'type': 'string'}\n",
      "meth_cd {'desc': '- Method code', 'format': '5s', 'type': 'code'}\n",
      "dqi_cd {'desc': '- Data-quality indicator code', 'format': '1s', 'type': 'code'}\n",
      "rpt_lev_va {'desc': '- Reporting level', 'format': '12s', 'type': 'float'}\n",
      "rpt_lev_cd {'desc': '- Reporting level type', 'format': '6s', 'type': 'code'}\n",
      "lab_std_va {'desc': '- Lab standard deviation', 'format': '11s', 'type': 'nan'}\n",
      "anl_ent_cd {'desc': '- Analyzing entity code', 'format': '8s', 'type': 'code'}\n"
     ]
    }
   ],
   "source": [
    "# some data introspection\n",
    "\n",
    "fielddescriptions={}\n",
    "\n",
    "for col in df.columns:\n",
    "    mdstring = getmetavalue(datalist, str(col))\n",
    "    datatype='nan'\n",
    "    #print('field: ' + str(col) + '. '+ mdstring + '. Format: ' + str(formats[col][0]) )\n",
    "    if (col[-3:]=='_cd'):\n",
    "        datatype='code'\n",
    "    elif (str(formats[col][0])[-1:]=='s'):\n",
    "        for item in df[col].tolist():\n",
    "            #print(str(item)+' type ' + str(type(item)))\n",
    "            if str(item).isnumeric():\n",
    "                #print('isnumeric')\n",
    "                datatype='pinteger'\n",
    "            elif (str(item)!='nan' and is_number(str(item))):\n",
    "                #print('float')\n",
    "                datatype='float'\n",
    "            elif (str(item)!='nan'):\n",
    "                #print('string')\n",
    "                datatype='string'\n",
    "                \n",
    "    elif (str(formats[col][0])[-1:]=='d'):\n",
    "        datatype='date'\n",
    "    elif (str(formats[col][0])[-1:]=='n'):\n",
    "        datatype='float'\n",
    "    else:\n",
    "        datatype='string'\n",
    "    \n",
    "    fielddescriptions[col] = {'desc':mdstring, \n",
    "                              'format':str(formats[col][0]),\n",
    "                             'type':datatype}    \n",
    "    print(col, fielddescriptions[col])"
   ]
  },
  {
   "cell_type": "markdown",
   "metadata": {},
   "source": [
    "# Graph time series:"
   ]
  },
  {
   "cell_type": "code",
   "execution_count": 11,
   "metadata": {},
   "outputs": [
    {
     "name": "stdout",
     "output_type": "stream",
     "text": [
      "sample_dt\n",
      "sample_end_dt\n"
     ]
    },
    {
     "data": {
      "text/plain": [
       "'Number of values in each column'"
      ]
     },
     "metadata": {},
     "output_type": "display_data"
    },
    {
     "data": {
      "text/html": [
       "<style  type=\"text/css\" >\n",
       "</style>  \n",
       "<table id=\"T_e6ec7886_93b4_11e8_8ece_28f10e13c900\" > \n",
       "<thead>    <tr> \n",
       "        <th class=\"blank level0\" ></th> \n",
       "        <th class=\"col_heading level0 col0\" >agency_cd</th> \n",
       "        <th class=\"col_heading level0 col1\" >site_no</th> \n",
       "        <th class=\"col_heading level0 col2\" >sample_dt</th> \n",
       "        <th class=\"col_heading level0 col3\" >sample_tm</th> \n",
       "        <th class=\"col_heading level0 col4\" >sample_end_dt</th> \n",
       "        <th class=\"col_heading level0 col5\" >sample_end_tm</th> \n",
       "        <th class=\"col_heading level0 col6\" >sample_start_time_datum_cd</th> \n",
       "        <th class=\"col_heading level0 col7\" >tm_datum_rlbty_cd</th> \n",
       "        <th class=\"col_heading level0 col8\" >coll_ent_cd</th> \n",
       "        <th class=\"col_heading level0 col9\" >medium_cd</th> \n",
       "        <th class=\"col_heading level0 col10\" >tu_id</th> \n",
       "        <th class=\"col_heading level0 col11\" >body_part_id</th> \n",
       "        <th class=\"col_heading level0 col12\" >parm_cd</th> \n",
       "        <th class=\"col_heading level0 col13\" >remark_cd</th> \n",
       "        <th class=\"col_heading level0 col14\" >result_va</th> \n",
       "        <th class=\"col_heading level0 col15\" >val_qual_tx</th> \n",
       "        <th class=\"col_heading level0 col16\" >meth_cd</th> \n",
       "        <th class=\"col_heading level0 col17\" >dqi_cd</th> \n",
       "        <th class=\"col_heading level0 col18\" >rpt_lev_va</th> \n",
       "        <th class=\"col_heading level0 col19\" >rpt_lev_cd</th> \n",
       "        <th class=\"col_heading level0 col20\" >lab_std_va</th> \n",
       "        <th class=\"col_heading level0 col21\" >anl_ent_cd</th> \n",
       "    </tr></thead> \n",
       "<tbody>    <tr> \n",
       "        <th id=\"T_e6ec7886_93b4_11e8_8ece_28f10e13c900level0_row0\" class=\"row_heading level0 row0\" >0</th> \n",
       "        <td id=\"T_e6ec7886_93b4_11e8_8ece_28f10e13c900row0_col0\" class=\"data row0 col0\" >114894</td> \n",
       "        <td id=\"T_e6ec7886_93b4_11e8_8ece_28f10e13c900row0_col1\" class=\"data row0 col1\" >114894</td> \n",
       "        <td id=\"T_e6ec7886_93b4_11e8_8ece_28f10e13c900row0_col2\" class=\"data row0 col2\" >114894</td> \n",
       "        <td id=\"T_e6ec7886_93b4_11e8_8ece_28f10e13c900row0_col3\" class=\"data row0 col3\" >104345</td> \n",
       "        <td id=\"T_e6ec7886_93b4_11e8_8ece_28f10e13c900row0_col4\" class=\"data row0 col4\" >10463</td> \n",
       "        <td id=\"T_e6ec7886_93b4_11e8_8ece_28f10e13c900row0_col5\" class=\"data row0 col5\" >0</td> \n",
       "        <td id=\"T_e6ec7886_93b4_11e8_8ece_28f10e13c900row0_col6\" class=\"data row0 col6\" >114894</td> \n",
       "        <td id=\"T_e6ec7886_93b4_11e8_8ece_28f10e13c900row0_col7\" class=\"data row0 col7\" >114894</td> \n",
       "        <td id=\"T_e6ec7886_93b4_11e8_8ece_28f10e13c900row0_col8\" class=\"data row0 col8\" >71930</td> \n",
       "        <td id=\"T_e6ec7886_93b4_11e8_8ece_28f10e13c900row0_col9\" class=\"data row0 col9\" >114894</td> \n",
       "        <td id=\"T_e6ec7886_93b4_11e8_8ece_28f10e13c900row0_col10\" class=\"data row0 col10\" >0</td> \n",
       "        <td id=\"T_e6ec7886_93b4_11e8_8ece_28f10e13c900row0_col11\" class=\"data row0 col11\" >0</td> \n",
       "        <td id=\"T_e6ec7886_93b4_11e8_8ece_28f10e13c900row0_col12\" class=\"data row0 col12\" >114893</td> \n",
       "        <td id=\"T_e6ec7886_93b4_11e8_8ece_28f10e13c900row0_col13\" class=\"data row0 col13\" >44797</td> \n",
       "        <td id=\"T_e6ec7886_93b4_11e8_8ece_28f10e13c900row0_col14\" class=\"data row0 col14\" >113084</td> \n",
       "        <td id=\"T_e6ec7886_93b4_11e8_8ece_28f10e13c900row0_col15\" class=\"data row0 col15\" >8639</td> \n",
       "        <td id=\"T_e6ec7886_93b4_11e8_8ece_28f10e13c900row0_col16\" class=\"data row0 col16\" >72329</td> \n",
       "        <td id=\"T_e6ec7886_93b4_11e8_8ece_28f10e13c900row0_col17\" class=\"data row0 col17\" >114893</td> \n",
       "        <td id=\"T_e6ec7886_93b4_11e8_8ece_28f10e13c900row0_col18\" class=\"data row0 col18\" >40624</td> \n",
       "        <td id=\"T_e6ec7886_93b4_11e8_8ece_28f10e13c900row0_col19\" class=\"data row0 col19\" >40624</td> \n",
       "        <td id=\"T_e6ec7886_93b4_11e8_8ece_28f10e13c900row0_col20\" class=\"data row0 col20\" >0</td> \n",
       "        <td id=\"T_e6ec7886_93b4_11e8_8ece_28f10e13c900row0_col21\" class=\"data row0 col21\" >41165</td> \n",
       "    </tr></tbody> \n",
       "</table> "
      ],
      "text/plain": [
       "<pandas.io.formats.style.Styler at 0x1d950e6e5f8>"
      ]
     },
     "metadata": {},
     "output_type": "display_data"
    }
   ],
   "source": [
    "df.iloc[0]\n",
    "#pd.DataFrame(df.count()).transpose().style\n",
    "\n",
    "#reformat strings to dates  TBD: look for column names ending in '_dt' and work on those\n",
    "datefields=[\"Choose Field\"]\n",
    "for col in df.columns:\n",
    "    if (col[-3:] == '_dt'):\n",
    "        print(col)\n",
    "        df[col] =  pd.to_datetime(df[col], format='%Y-%m-%d', errors='ignore')\n",
    "        datefields.append(col)\n",
    "\n",
    "display(\"Number of values in each column\",pd.DataFrame(df.count()).transpose().style)\n"
   ]
  },
  {
   "cell_type": "code",
   "execution_count": 12,
   "metadata": {},
   "outputs": [
    {
     "name": "stdout",
     "output_type": "stream",
     "text": [
      "['Choose Field', 'sample_dt', 'sample_end_dt']\n"
     ]
    },
    {
     "data": {
      "application/vnd.jupyter.widget-view+json": {
       "model_id": "11f040d8ae1d442ea99c4ece2909ff84",
       "version_major": 2,
       "version_minor": 0
      },
      "text/plain": [
       "Dropdown(description='Date field for X axis:', options=('Choose Field', 'sample_dt', 'sample_end_dt'), value='…"
      ]
     },
     "metadata": {},
     "output_type": "display_data"
    },
    {
     "name": "stdout",
     "output_type": "stream",
     "text": [
      "change: sample_dt\n"
     ]
    }
   ],
   "source": [
    "#datefields = np.insert(datefields,0,\"Choose Field\")\n",
    "print(datefields)\n",
    "# pick the time axis variable, use the date fields\n",
    "#select x axis\n",
    "pickx = widgets.Dropdown(\n",
    "    options=datefields,\n",
    "    description='Date field for X axis:',\n",
    "    disabled=False,\n",
    "    value = 'Choose Field'\n",
    ")\n",
    "\n",
    "xaxisfield=''\n",
    "\n",
    "#Describe what happens when the button changes its value\n",
    "def on_change_x(change):\n",
    "    global xaxisfield\n",
    "    if change['type'] == 'change' and change['name'] == 'value':\n",
    "        print('change: ' + str(change['new']))\n",
    "        xaxisfield=change['new']\n",
    "    return\n",
    "    \n",
    "pickx.observe(on_change_x)\n",
    "display(pickx) "
   ]
  },
  {
   "cell_type": "code",
   "execution_count": 13,
   "metadata": {
    "scrolled": true
   },
   "outputs": [
    {
     "data": {
      "application/vnd.jupyter.widget-view+json": {
       "model_id": "c72e1d30766a4ca3b64caaf484dd1c53",
       "version_major": 2,
       "version_minor": 0
      },
      "text/plain": [
       "Dropdown(description='Numeric field:', options=('Choose Variable:', 'site_no| - USGS site number', 'rpt_lev_va…"
      ]
     },
     "metadata": {},
     "output_type": "display_data"
    },
    {
     "name": "stdout",
     "output_type": "stream",
     "text": [
      "yaxis2: \n",
      "yaxis: 00405\n"
     ]
    }
   ],
   "source": [
    "# set up variable options for Y\n",
    "\n",
    "numfields=[\"Choose Variable:\"]  # this will be the prompt in the drop down box\n",
    "for col in df.columns:\n",
    "    if (fielddescriptions[col]['type'] == 'float' \n",
    "      or fielddescriptions[col]['type'] == 'pinteger'):\n",
    "      numfields.append(col+'| '+fielddescriptions[col]['desc']) \n",
    "    # CHECK if there is a parameters field, for soft-typed result values\n",
    "if ('parm_cd' in df.columns.values and 'result_va' in df.columns.values):\n",
    "    for aparam in df['parm_cd'].unique():\n",
    "        try:\n",
    "            mdstring = getmetavalue(datalist, str(aparam))\n",
    "            numfields.append(str(aparam) + '| ' + mdstring)\n",
    "        except:\n",
    "            print('did not find name for parameter ' + str(aparam))\n",
    "    numfields.remove('result_va| '+fielddescriptions['result_va']['desc'])\n",
    "        \n",
    "#print(numfields)\n",
    "#column_values = df.columns.values\n",
    "#print(df.columns.values)\n",
    "\n",
    "\n",
    "#handler if have parameter values as key-value pairs\n",
    "#for index,value in enumerate(column_values):\n",
    "    #print ('index: %s, value %s' % (index, value))\n",
    "    #print('col: ' + value + ' Values:' + column_values[index])\n",
    "    #column_values[index] = \"%s %s\"%(column_values[index], df['parm_nm'][df['parm_cd'] == value[1:]])\n",
    "#column_values = np.insert(column_values,0,'Choose Variable')\n",
    "#column_values\n",
    "\n",
    "#select x axis\n",
    "picky = widgets.Dropdown(\n",
    "    options=numfields,\n",
    "    description='Numeric field:',\n",
    "    disabled=False,\n",
    "    value = 'Choose Variable:'\n",
    ")\n",
    "\n",
    "yaxisfield=''\n",
    "\n",
    "#Describe what happens when the button changes its value\n",
    "def on_change_y(change):\n",
    "    global yaxisfield\n",
    "    if change['type'] == 'change' and change['name'] == 'value':\n",
    "        #print('change: ' + str(change['new']))\n",
    "        yaxisfield=change['new'].split('|')[0]\n",
    "        print('yaxis: %s' % yaxisfield)\n",
    "    return\n",
    "        \n",
    "picky.observe(on_change_y)\n",
    "display(picky)\n",
    "\n",
    "print('yaxis2: %s' % yaxisfield)"
   ]
  },
  {
   "cell_type": "code",
   "execution_count": 19,
   "metadata": {},
   "outputs": [
    {
     "data": {
      "application/vnd.jupyter.widget-view+json": {
       "model_id": "9658c025fbb442b383aa0e01d4fe49a4",
       "version_major": 2,
       "version_minor": 0
      },
      "text/plain": [
       "Button(description='Plot graph', style=ButtonStyle())"
      ]
     },
     "metadata": {},
     "output_type": "display_data"
    },
    {
     "name": "stdout",
     "output_type": "stream",
     "text": [
      "Button clicked.\n",
      "x: sample_dt, y:00405\n",
      "y axis selector: 00405\n",
      "8        4.4\n",
      "30       2.6\n",
      "52       4.3\n",
      "74       2.4\n",
      "96       1.8\n",
      "118      2.3\n",
      "140      1.7\n",
      "162      2.7\n",
      "182      3.2\n",
      "202      3.6\n",
      "222      2.0\n",
      "244      1.3\n",
      "265      3.1\n",
      "287      2.7\n",
      "309      2.5\n",
      "331      2.3\n",
      "353      4.2\n",
      "373      4.6\n",
      "395      4.4\n",
      "417      2.4\n",
      "439      5.4\n",
      "461      4.0\n",
      "483      4.2\n",
      "505      4.9\n",
      "527      6.3\n",
      "549      3.3\n",
      "571      2.8\n",
      "593      3.1\n",
      "615      1.9\n",
      "637      2.3\n",
      "        ... \n",
      "28837     62\n",
      "28948     22\n",
      "29063     13\n",
      "29170    9.2\n",
      "29313     15\n",
      "29425    6.5\n",
      "29552     16\n",
      "29655    6.9\n",
      "29792    7.2\n",
      "29892     19\n",
      "30117     12\n",
      "30247     16\n",
      "30354    2.8\n",
      "30472    5.1\n",
      "30587    2.1\n",
      "30750    2.9\n",
      "30846    2.5\n",
      "31025    2.5\n",
      "31354    2.4\n",
      "31476    6.4\n",
      "31585    3.5\n",
      "31737    3.2\n",
      "31849    2.5\n",
      "32008    2.4\n",
      "32102    2.7\n",
      "32224    5.0\n",
      "32325    2.2\n",
      "32459    3.7\n",
      "32559    7.3\n",
      "32688    3.9\n",
      "Name: result_va, Length: 654, dtype: object\n",
      "The column contains a Non-Integer Value! Nothing Can be Displayed!\n"
     ]
    },
    {
     "data": {
      "image/png": "[encoded data removed]",
      "text/plain": [
       "<Figure size 432x288 with 1 Axes>"
      ]
     },
     "metadata": {},
     "output_type": "display_data"
    }
   ],
   "source": [
    "#Describe what happens when the button changes its value\n",
    "button = widgets.Button(description=\"Plot graph\")\n",
    "display(button)\n",
    "\n",
    "\n",
    "\n",
    "def on_button_clicked(b):\n",
    "    print(\"Button clicked.\")\n",
    "    #populate y values\n",
    "    print('x: %s, y:%s' % (xaxisfield, yaxisfield))\n",
    "    if (xaxisfield == '' \n",
    "        or xaxisfield == 'Choose Field'\n",
    "        or yaxisfield == ''\n",
    "        or yaxisfield == 'Choose Variable:'):\n",
    "        print('Select x and y axis variables before clicking the plot graph button')\n",
    "        return\n",
    "    \n",
    "    if (yaxisfield in df.columns):\n",
    "        ydata=df[yaxisfield]\n",
    "    else:\n",
    "        print('y axis selector: '+ yaxisfield)\n",
    "        ydata=df.loc[df['parm_cd'] == yaxisfield]['result_va']\n",
    "        \n",
    "    print( ydata)\n",
    "    try:\n",
    "        df.sort_values(xaxisfield, ascending=True)\n",
    "        plt.plot(df[xaxisfield], ydata)\n",
    "        xlabel('Time(years)')\n",
    "        title(getmetavalue(datalist, str(yaxisfield)))\n",
    "    except ValueError:\n",
    "        print('The column contains a Non-Integer Value! Nothing Can be Displayed!')\n",
    "    \n",
    "    return\n",
    "    \n",
    "    #print('change: ' + str(change))\n",
    "    #if change['type'] == 'change' and change['name'] == 'value':\n",
    "    #    try:\n",
    "    #        df.sort_values('sample_dt', ascending=True)\n",
    "    #        plt.plot(df['sample_dt'], df[change['new']])\n",
    "    #        xlabel('Time(years)')\n",
    "    #        title(change['new'])\n",
    "    #    except ValueError:\n",
    "    #        print('The column contains a Non-Integer Value! Nothing Can be Displayed!')\n",
    "\n",
    "    \n",
    "button.on_click(on_button_clicked)"
   ]
  },
  {
   "cell_type": "code",
   "execution_count": null,
   "metadata": {
    "collapsed": true
   },
   "outputs": [],
   "source": [
    "#from tqdm import tqdm\n",
    "#for i in tqdm(range(10000)):"
   ]
  },
  {
   "cell_type": "code",
   "execution_count": null,
   "metadata": {
    "collapsed": true
   },
   "outputs": [],
   "source": []
  },
  {
   "cell_type": "code",
   "execution_count": null,
   "metadata": {
    "collapsed": true
   },
   "outputs": [],
   "source": []
  },
  {
   "cell_type": "code",
   "execution_count": null,
   "metadata": {
    "collapsed": true
   },
   "outputs": [],
   "source": []
  }
 ],
 "metadata": {
  "kernelspec": {
   "display_name": "Python 3",
   "language": "python",
   "name": "python3"
  },
  "language_info": {
   "codemirror_mode": {
    "name": "ipython",
    "version": 3
   },
   "file_extension": ".py",
   "mimetype": "text/x-python",
   "name": "python",
   "nbconvert_exporter": "python",
   "pygments_lexer": "ipython3",
   "version": "3.6.5"
  }
 },
 "nbformat": 4,
 "nbformat_minor": 2
}
