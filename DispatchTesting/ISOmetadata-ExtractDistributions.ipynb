{
 "cells": [
  {
   "cell_type": "markdown",
   "metadata": {},
   "source": [
    "# Extract Distribution information from ISO 19139 metadata\n",
    "\n",
    "This notebook is opened with a documentID used to pull an ISO XML record from the CINERGI catalog;\n",
    "The record is parsed to extract distribution information and generate a dispatchList object\n",
    "\n",
    "The dispatch list object gets passed to a dispatcher that accesses mapping between endpoint applications and application profiles in the dispatchList.\n"
   ]
  },
  {
   "cell_type": "code",
   "execution_count": 1,
   "metadata": {},
   "outputs": [
    {
     "data": {
      "application/javascript": [
       "function getQueryStringValue (key)\n",
       "{  \n",
       "    return unescape(window.location.search.replace(new RegExp(\"^(?:.*[&\\\\?]\" + escape(key).replace(/[\\.\\+\\*]/g, \"\\\\$&\") + \"(?:\\\\=([^&]*))?)?.*$\", \"i\"), \"$1\"));\n",
       "}\n",
       "IPython.notebook.kernel.execute(\"documentID='\".concat(getQueryStringValue(\"documentId\")).concat(\"'\"));\n",
       "IPython.notebook.kernel.execute(\"user='\".concat(getQueryStringValue(\"user\")).concat(\"'\"));\n",
       "IPython.notebook.kernel.execute(\"full_notebook_url='\" + window.location + \"'\"); "
      ],
      "text/plain": [
       "<IPython.core.display.Javascript object>"
      ]
     },
     "metadata": {},
     "output_type": "display_data"
    }
   ],
   "source": [
    "%%javascript\n",
    "function getQueryStringValue (key)\n",
    "{  \n",
    "    return unescape(window.location.search.replace(new RegExp(\"^(?:.*[&\\\\?]\" + escape(key).replace(/[\\.\\+\\*]/g, \"\\\\$&\") + \"(?:\\\\=([^&]*))?)?.*$\", \"i\"), \"$1\"));\n",
    "}\n",
    "IPython.notebook.kernel.execute(\"documentID='\".concat(getQueryStringValue(\"documentId\")).concat(\"'\"));\n",
    "IPython.notebook.kernel.execute(\"user='\".concat(getQueryStringValue(\"user\")).concat(\"'\"));\n",
    "IPython.notebook.kernel.execute(\"full_notebook_url='\" + window.location + \"'\"); "
   ]
  },
  {
   "cell_type": "code",
   "execution_count": 2,
   "metadata": {
    "collapsed": true
   },
   "outputs": [],
   "source": [
    "def testurl(theurl):\n",
    "    #try HEAD first in case the response document is big\n",
    "    r = requests.head(theurl)\n",
    "    if (r.status_code != requests.codes.ok):\n",
    "        #check GET in case is an incomplete http implementation\n",
    "        r = requests.get(theurl)\n",
    "        if (r.status_code == requests.codes.ok):\n",
    "            return True\n",
    "        else:\n",
    "            return False\n",
    "    else:\n",
    "        return True\n"
   ]
  },
  {
   "cell_type": "code",
   "execution_count": 3,
   "metadata": {
    "collapsed": true
   },
   "outputs": [],
   "source": [
    "# use hardwired values for testing\n",
    "\n",
    "\n",
    "catalogURL = \"http://cinergi.sdsc.edu/geoportal/\"\n",
    "if (len(documentID)==0):\n",
    "    #documentID=\"e3619c5df2644204b67f51f48525a0b1\"\n",
    "    documentID=\"4db8156abb6d4119aa5c35aa39514b42\""
   ]
  },
  {
   "cell_type": "code",
   "execution_count": 4,
   "metadata": {},
   "outputs": [
    {
     "name": "stdout",
     "output_type": "stream",
     "text": [
      "('User: ', '')\n",
      "('DocumentID: ', '8b311ede6cd440c08f253f4226eccd16')\n",
      "('full notebook url partition', ('http://localhost:8889/notebooks/DispatchTesting/', 'ISOmetadata-ExtractDistributions.ipynb', '?documentID=8b311ede6cd440c08f253f4226eccd16'))\n",
      "('full notebook url', 'http://localhost:8889/notebooks/DispatchTesting/ISOmetadata-ExtractDistributions.ipynb?documentID=8b311ede6cd440c08f253f4226eccd16')\n"
     ]
    }
   ],
   "source": [
    "url_partitioned = full_notebook_url.partition('ISOmetadata-ExtractDistributions.ipynb')\n",
    "base_url = url_partitioned[0];\n",
    "\n",
    "print(\"User: \",user)\n",
    "print(\"DocumentID: \", documentID)\n",
    "print(\"full notebook url partition\", url_partitioned)\n",
    "print(\"full notebook url\", full_notebook_url)"
   ]
  },
  {
   "cell_type": "code",
   "execution_count": 5,
   "metadata": {},
   "outputs": [
    {
     "name": "stdout",
     "output_type": "stream",
     "text": [
      "('metadata URL: ', 'http://cinergi.sdsc.edu/geoportal/rest/metadata/item/8b311ede6cd440c08f253f4226eccd16/xml')\n"
     ]
    }
   ],
   "source": [
    "\n",
    "#import xmltodict\n",
    "import requests\n",
    "import json\n",
    "from lxml import etree  #supposed to be better than xml.etree\n",
    "from io import StringIO,BytesIO\n",
    "\n",
    "#get the url to retrieve xml record from catalog\n",
    "metadataURLx=catalogURL + 'rest/metadata/item/' + documentID + '/xml'\n",
    "\n",
    "print (\"metadata URL: \", metadataURLx)\n",
    "\n",
    "#get the xml record\n",
    "the_page = requests.get(metadataURLx)\n"
   ]
  },
  {
   "cell_type": "code",
   "execution_count": 6,
   "metadata": {
    "collapsed": true
   },
   "outputs": [],
   "source": [
    "# use this to generate JSON representation of the metadata record\n",
    "#the_isojson = json.loads(json.dumps(xmltodict.parse(the_page.text)))\n",
    "\n",
    "#print(the_isojson.keys())\n",
    "#print(the_isojson[\"gmi:MI_Metadata\"])"
   ]
  },
  {
   "cell_type": "code",
   "execution_count": 7,
   "metadata": {
    "collapsed": true
   },
   "outputs": [],
   "source": [
    "#set up namespace map for ISO metadata\n",
    "NSMAP = {\"gmi\":\"http://www.isotc211.org/2005/gmi\" ,\n",
    "    \"gco\":\"http://www.isotc211.org/2005/gco\" ,\n",
    "    \"gmd\":\"http://www.isotc211.org/2005/gmd\" ,\n",
    "    \"gml\":\"http://www.opengis.net/gml\" ,\n",
    "    \"gmx\":\"http://www.isotc211.org/2005/gmx\" ,\n",
    "    \"gts\":\"http://www.isotc211.org/2005/gts\" ,\n",
    "    \"srv\":\"http://www.isotc211.org/2005/srv\" ,\n",
    "    \"xlink\":\"http://www.w3.org/1999/xlink\"}"
   ]
  },
  {
   "cell_type": "code",
   "execution_count": 8,
   "metadata": {},
   "outputs": [
    {
     "name": "stdout",
     "output_type": "stream",
     "text": [
      "1.0\n",
      "[<Element {http://www.isotc211.org/2005/gmd}MD_DigitalTransferOptions at 0x6be6608>]\n"
     ]
    }
   ],
   "source": [
    "#root = etree.fromstring(the_page.text)\n",
    "\n",
    "#tree is an element tree\n",
    "tree = etree.parse(metadataURLx)\n",
    "#root = etree.tostring(tree.getroot())\n",
    "root = tree.getroot()\n",
    "docinfo = tree.docinfo\n",
    "print(docinfo.xml_version)\n",
    "print(tree.findall(\"//gmd:MD_DigitalTransferOptions\",namespaces=NSMAP))\n",
    "\n"
   ]
  },
  {
   "cell_type": "code",
   "execution_count": 14,
   "metadata": {},
   "outputs": [
    {
     "name": "stdout",
     "output_type": "stream",
     "text": [
      "('http://criticalzone.org/national/data/dataset/2516/', 'Chester County, PA - Groundwater Depth - USGS (1951-2015)', 'CZO Dataset (aggregate)', '', '', 'information', 'information')\n",
      "('http://nwis.waterdata.usgs.gov/pa/nwis/gwlevels?site_no=400650075514001&amp;agency_cd=USGS&amp;format=rdb', 'CH 2, Honey Brook, Chester County, PA - Groundwater Depth 1951-current', 'CZO Dataset Component', '', '', 'download', 'download')\n",
      "('http://nwis.waterdata.usgs.gov/pa/nwis/gwlevels?site_no=395450075485401&amp;agency_cd=USGS&amp;format=rdb', 'CH 10, West Marlborough, Chester County, PA - Groundwater Depth 1951-current', 'CZO Dataset Component', '', '', 'download', 'download')\n",
      "('http://nwis.waterdata.usgs.gov/pa/nwis/gwlevels?site_no=395717075392301&amp;agency_cd=USGS&amp;format=rdb', 'CH 12, West Bradford, Chester County, PA - Groundwater Depth 1951-current', 'CZO Dataset Component', '', '', 'download', 'download')\n",
      "('http://nwis.waterdata.usgs.gov/pa/nwis/gwlevels?site_no=394846075444901&amp;agency_cd=USGS&amp;format=rdb', 'CH 38, New Garden, Chester County, PA - Groundwater Depth 1974-current', 'CZO Dataset Component', '', '', 'download', 'download')\n",
      "('http://nwis.waterdata.usgs.gov/pa/nwis/gwlevels?site_no=400400075314401&amp;agency_cd=USGS&amp;format=rdb', 'CH 89, East Whiteland, Chester County, PA - Groundwater Depth 1986-current', 'CZO Dataset Component', '', '', 'download', 'download')\n",
      "('http://nwis.waterdata.usgs.gov/pa/nwis/gwlevels?site_no=400453075255601&amp;agency_cd=USGS&amp;format=rdb', 'CH 210, Tredyffrin, Chester County, PA - Groundwater Depth 1978-current', 'CZO Dataset Component', '', '', 'download', 'download')\n",
      "('http://nwis.waterdata.usgs.gov/pa/nwis/gwlevels?site_no=394457075581601&amp;agency_cd=USGS&amp;format=rdb', 'CH 254, East Nottingham, Chester County, PA - Groundwater Depth 1987-current', 'CZO Dataset Component', '', '', 'download', 'download')\n",
      "('http://nwis.waterdata.usgs.gov/pa/nwis/gwlevels?site_no=395701075561601&amp;agency_cd=USGS&amp;format=rdb', 'CH 1201, West Sadsbury, Chester County, PA - Groundwater Depth 1973-current', 'CZO Dataset Component', '', '', 'download', 'download')\n",
      "('http://nwis.waterdata.usgs.gov/pa/nwis/gwlevels?site_no=400645075411501&amp;agency_cd=USGS&amp;format=rdb', 'CH 1247, West Vincent, Chester County, PA - Groundwater Depth 1973-current', 'CZO Dataset Component', '', '', 'download', 'download')\n",
      "('http://nwis.waterdata.usgs.gov/pa/nwis/gwlevels?site_no=395540075332601&amp;agency_cd=USGS&amp;format=rdb', 'CH 1387, Thornbury, Chester County, PA - Groundwater Depth 1974-current', 'CZO Dataset Component', '', '', 'download', 'download')\n",
      "('http://nwis.waterdata.usgs.gov/pa/nwis/gwlevels?site_no=400956075391501&amp;agency_cd=USGS&amp;format=rdb', 'CH 1571, East Vincent, Chester County, PA - Groundwater Depth 1974-current', 'CZO Dataset Component', '', '', 'download', 'download')\n",
      "('http://nwis.waterdata.usgs.gov/pa/nwis/gwlevels?site_no=394757075432101&amp;agency_cd=USGS&amp;format=rdb', 'CH 1921, New Garden, Chester County, PA - Groundwater Depth 1974-current', 'CZO Dataset Component', '', '', 'download', 'download')\n",
      "('http://nwis.waterdata.usgs.gov/pa/nwis/gwlevels?site_no=400242075484301&amp;agency_cd=USGS&amp;format=rdb', 'CH 2273, West Brandywine, Chester County, PA - Groundwater Depth 1975-current', 'CZO Dataset Component', '', '', 'download', 'download')\n",
      "('http://nwis.waterdata.usgs.gov/pa/nwis/gwlevels?site_no=400325075332501&amp;agency_cd=USGS&amp;format=rdb', 'CH 2313, East Whiteland, Chester County, PA - Groundwater Depth 1967-current', 'CZO Dataset Component', '', '', 'download', 'download')\n",
      "('http://nwis.waterdata.usgs.gov/pa/nwis/gwlevels?site_no=400847075414701&amp;agency_cd=USGS&amp;format=rdb', 'CH 2328, East Nantmeal, Chester County, PA - Groundwater Depth 1975-current', 'CZO Dataset Component', '', '', 'download', 'download')\n",
      "('http://nwis.waterdata.usgs.gov/pa/nwis/gwlevels?site_no=400039075335201&amp;agency_cd=USGS&amp;format=rdb', 'CH 2457, East Goshen, Chester County, PA - Groundwater Depth 1982-current', 'CZO Dataset Component', '', '', 'download', 'download')\n",
      "('http://nwis.waterdata.usgs.gov/pa/nwis/gwlevels?site_no=400456075320301&amp;agency_cd=USGS&amp;format=rdb', 'CH 2561,Charlestown, Chester County, PA - Groundwater Depth 1983-current', 'CZO Dataset Component', '', '', 'download', 'download')\n",
      "('http://nwis.waterdata.usgs.gov/pa/nwis/gwlevels?site_no=395225075422001&agency_cd=USGS&format=rdb', 'CH 2584, East Marlborough, Chester County, PA - Groundwater Depth 1983-current', 'CZO Dataset Component', '', '', 'download', 'download')\n",
      "('http://nwis.waterdata.usgs.gov/pa/nwis/gwlevels?site_no=394624075444001&agency_cd=USGS&format=rdb', 'CH 2663, New Garden, Chester County, PA - Groundwater Depth 1984-current', 'CZO Dataset Component', '', '', 'download', 'download')\n",
      "('http://nwis.waterdata.usgs.gov/pa/nwis/gwlevels?site_no=400358075311301&agency_cd=USGS&format=rdb', 'CH 3289, Tredyffrin, Chester County, PA - Groundwater Depth 1988-current', 'CZO Dataset Component', '', '', 'download', 'download')\n",
      "('http://nwis.waterdata.usgs.gov/pa/nwis/gwlevels?site_no=395141075525401&agency_cd=USGS&format=rdb', 'CH 5422, Londonderry, Chester County, PA - Groundwater Depth 2000-current', 'CZO Dataset Component', '', '', 'download', 'download')\n",
      "('http://nwis.waterdata.usgs.gov/pa/nwis/gwlevels?site_no=401405075400301&agency_cd=USGS&format=rdb', 'CH 6513, North Coventry, Chester County, PA - Groundwater Depth 2002-current', 'CZO Dataset Component', '', '', 'download', 'download')\n",
      "('http://nwis.waterdata.usgs.gov/pa/nwis/gwlevels?site_no=395201075363001&agency_cd=USGS&format=rdb', 'CH 6516, Pennsbury, Chester County, PA - Groundwater Depth 2001-current', 'CZO Dataset Component', '', '', 'download', 'download')\n",
      "('http://nwis.waterdata.usgs.gov/pa/nwis/gwlevels?site_no=400247075532401&agency_cd=USGS&format=rdb', 'CH 6517, West Caln, Chester County, PA - Groundwater Depth 2001-current', 'CZO Dataset Component', '', '', 'download', 'download')\n",
      "('http://nwis.waterdata.usgs.gov/pa/nwis/gwlevels?site_no=394903075581901&agency_cd=USGS&format=rdb', 'CH 6518, Lower Oxford, Chester County, PA - Groundwater Depth 2001-current', 'CZO Dataset Component', '', '', 'download', 'download')\n",
      "('http://nwis.waterdata.usgs.gov/pa/nwis/gwlevels?site_no=400411075445901&agency_cd=USGS&format=rdb', 'CH 7007, Wallace, Chester County, PA - Groundwater Depth 2005-current', 'CZO Dataset Component', '', '', 'download', 'download')\n",
      "('http://nwis.waterdata.usgs.gov/pa/nwis/gwlevels?site_no=395633075444401&agency_cd=USGS&format=rdb', 'CH 7269, Newlin, Chester County, PA - Groundwater Depth  2008-current', 'CZO Dataset Component', '', '', 'download', 'download')\n",
      "('http://pa.water.usgs.gov/projects/assessments/chesco/ground_water.php', 'Chester County Groundwater Monitoring Network and map', 'External Link', '', '', 'information', 'information')\n",
      "[{'profile': 'nwis_rdb', 'url': 'http://nwis.waterdata.usgs.gov/pa/nwis/gwlevels?site_no=400650075514001&amp;agency_cd=USGS&amp;format=rdb', 'label': 'CH 2, Honey Brook, Chester County, PA - Groundwater Depth 1951-current'}, {'profile': 'nwis_rdb', 'url': 'http://nwis.waterdata.usgs.gov/pa/nwis/gwlevels?site_no=395450075485401&amp;agency_cd=USGS&amp;format=rdb', 'label': 'CH 10, West Marlborough, Chester County, PA - Groundwater Depth 1951-current'}, {'profile': 'nwis_rdb', 'url': 'http://nwis.waterdata.usgs.gov/pa/nwis/gwlevels?site_no=395717075392301&amp;agency_cd=USGS&amp;format=rdb', 'label': 'CH 12, West Bradford, Chester County, PA - Groundwater Depth 1951-current'}, {'profile': 'nwis_rdb', 'url': 'http://nwis.waterdata.usgs.gov/pa/nwis/gwlevels?site_no=394846075444901&amp;agency_cd=USGS&amp;format=rdb', 'label': 'CH 38, New Garden, Chester County, PA - Groundwater Depth 1974-current'}, {'profile': 'nwis_rdb', 'url': 'http://nwis.waterdata.usgs.gov/pa/nwis/gwlevels?site_no=400400075314401&amp;agency_cd=USGS&amp;format=rdb', 'label': 'CH 89, East Whiteland, Chester County, PA - Groundwater Depth 1986-current'}, {'profile': 'nwis_rdb', 'url': 'http://nwis.waterdata.usgs.gov/pa/nwis/gwlevels?site_no=400453075255601&amp;agency_cd=USGS&amp;format=rdb', 'label': 'CH 210, Tredyffrin, Chester County, PA - Groundwater Depth 1978-current'}, {'profile': 'nwis_rdb', 'url': 'http://nwis.waterdata.usgs.gov/pa/nwis/gwlevels?site_no=394457075581601&amp;agency_cd=USGS&amp;format=rdb', 'label': 'CH 254, East Nottingham, Chester County, PA - Groundwater Depth 1987-current'}, {'profile': 'nwis_rdb', 'url': 'http://nwis.waterdata.usgs.gov/pa/nwis/gwlevels?site_no=395701075561601&amp;agency_cd=USGS&amp;format=rdb', 'label': 'CH 1201, West Sadsbury, Chester County, PA - Groundwater Depth 1973-current'}, {'profile': 'nwis_rdb', 'url': 'http://nwis.waterdata.usgs.gov/pa/nwis/gwlevels?site_no=400645075411501&amp;agency_cd=USGS&amp;format=rdb', 'label': 'CH 1247, West Vincent, Chester County, PA - Groundwater Depth 1973-current'}, {'profile': 'nwis_rdb', 'url': 'http://nwis.waterdata.usgs.gov/pa/nwis/gwlevels?site_no=395540075332601&amp;agency_cd=USGS&amp;format=rdb', 'label': 'CH 1387, Thornbury, Chester County, PA - Groundwater Depth 1974-current'}, {'profile': 'nwis_rdb', 'url': 'http://nwis.waterdata.usgs.gov/pa/nwis/gwlevels?site_no=400956075391501&amp;agency_cd=USGS&amp;format=rdb', 'label': 'CH 1571, East Vincent, Chester County, PA - Groundwater Depth 1974-current'}, {'profile': 'nwis_rdb', 'url': 'http://nwis.waterdata.usgs.gov/pa/nwis/gwlevels?site_no=394757075432101&amp;agency_cd=USGS&amp;format=rdb', 'label': 'CH 1921, New Garden, Chester County, PA - Groundwater Depth 1974-current'}, {'profile': 'nwis_rdb', 'url': 'http://nwis.waterdata.usgs.gov/pa/nwis/gwlevels?site_no=400242075484301&amp;agency_cd=USGS&amp;format=rdb', 'label': 'CH 2273, West Brandywine, Chester County, PA - Groundwater Depth 1975-current'}, {'profile': 'nwis_rdb', 'url': 'http://nwis.waterdata.usgs.gov/pa/nwis/gwlevels?site_no=400325075332501&amp;agency_cd=USGS&amp;format=rdb', 'label': 'CH 2313, East Whiteland, Chester County, PA - Groundwater Depth 1967-current'}, {'profile': 'nwis_rdb', 'url': 'http://nwis.waterdata.usgs.gov/pa/nwis/gwlevels?site_no=400847075414701&amp;agency_cd=USGS&amp;format=rdb', 'label': 'CH 2328, East Nantmeal, Chester County, PA - Groundwater Depth 1975-current'}, {'profile': 'nwis_rdb', 'url': 'http://nwis.waterdata.usgs.gov/pa/nwis/gwlevels?site_no=400039075335201&amp;agency_cd=USGS&amp;format=rdb', 'label': 'CH 2457, East Goshen, Chester County, PA - Groundwater Depth 1982-current'}, {'profile': 'nwis_rdb', 'url': 'http://nwis.waterdata.usgs.gov/pa/nwis/gwlevels?site_no=400456075320301&amp;agency_cd=USGS&amp;format=rdb', 'label': 'CH 2561,Charlestown, Chester County, PA - Groundwater Depth 1983-current'}, {'profile': 'nwis_rdb', 'url': 'http://nwis.waterdata.usgs.gov/pa/nwis/gwlevels?site_no=395225075422001&agency_cd=USGS&format=rdb', 'label': 'CH 2584, East Marlborough, Chester County, PA - Groundwater Depth 1983-current'}, {'profile': 'nwis_rdb', 'url': 'http://nwis.waterdata.usgs.gov/pa/nwis/gwlevels?site_no=394624075444001&agency_cd=USGS&format=rdb', 'label': 'CH 2663, New Garden, Chester County, PA - Groundwater Depth 1984-current'}, {'profile': 'nwis_rdb', 'url': 'http://nwis.waterdata.usgs.gov/pa/nwis/gwlevels?site_no=400358075311301&agency_cd=USGS&format=rdb', 'label': 'CH 3289, Tredyffrin, Chester County, PA - Groundwater Depth 1988-current'}, {'profile': 'nwis_rdb', 'url': 'http://nwis.waterdata.usgs.gov/pa/nwis/gwlevels?site_no=395141075525401&agency_cd=USGS&format=rdb', 'label': 'CH 5422, Londonderry, Chester County, PA - Groundwater Depth 2000-current'}, {'profile': 'nwis_rdb', 'url': 'http://nwis.waterdata.usgs.gov/pa/nwis/gwlevels?site_no=401405075400301&agency_cd=USGS&format=rdb', 'label': 'CH 6513, North Coventry, Chester County, PA - Groundwater Depth 2002-current'}, {'profile': 'nwis_rdb', 'url': 'http://nwis.waterdata.usgs.gov/pa/nwis/gwlevels?site_no=395201075363001&agency_cd=USGS&format=rdb', 'label': 'CH 6516, Pennsbury, Chester County, PA - Groundwater Depth 2001-current'}, {'profile': 'nwis_rdb', 'url': 'http://nwis.waterdata.usgs.gov/pa/nwis/gwlevels?site_no=400247075532401&agency_cd=USGS&format=rdb', 'label': 'CH 6517, West Caln, Chester County, PA - Groundwater Depth 2001-current'}, {'profile': 'nwis_rdb', 'url': 'http://nwis.waterdata.usgs.gov/pa/nwis/gwlevels?site_no=394903075581901&agency_cd=USGS&format=rdb', 'label': 'CH 6518, Lower Oxford, Chester County, PA - Groundwater Depth 2001-current'}, {'profile': 'nwis_rdb', 'url': 'http://nwis.waterdata.usgs.gov/pa/nwis/gwlevels?site_no=400411075445901&agency_cd=USGS&format=rdb', 'label': 'CH 7007, Wallace, Chester County, PA - Groundwater Depth 2005-current'}, {'profile': 'nwis_rdb', 'url': 'http://nwis.waterdata.usgs.gov/pa/nwis/gwlevels?site_no=395633075444401&agency_cd=USGS&format=rdb', 'label': 'CH 7269, Newlin, Chester County, PA - Groundwater Depth  2008-current'}]\n"
     ]
    }
   ],
   "source": [
    "#iterate through digital transfer options and set up dispatch object\n",
    "# dispatch list is a list of 'options' consisting of \n",
    "# {an application profile (string, from EC resource registry) that the disptcher will use to identify target notebooks, \n",
    "#   the URL for the information resource input to the target for that profile}\n",
    "# e.g. dispatchlist = [{\"profile\":\"profile1\",\"url\":\"url1\"}, {\"profile\":\"profile2\",\"url\":\"url2\"}]\n",
    "\n",
    "dispatchlist = []\n",
    "\n",
    "for  elt in tree.getiterator(\"{http://www.isotc211.org/2005/gmd}MD_DigitalTransferOptions\"):\n",
    "    # only want OnlineResources that are in distribution//MD_DigitalTransferOptions\n",
    "    #  TBD-- figure out what to do with CI_OnlineResource inside SV_OperationMetadata\n",
    "    #print elt.text\n",
    "#iterate through CI_OnlineResource elements\n",
    "    for onlineres in elt.getiterator(\"{http://www.isotc211.org/2005/gmd}CI_OnlineResource\"):\n",
    "        if (onlineres.find(\"gmd:linkage/gmd:URL\",namespaces=NSMAP) is not None):\n",
    "            theURL=onlineres.find(\"gmd:linkage/gmd:URL\",namespaces=NSMAP).text\n",
    "        else:\n",
    "            continue #don't bother if there's no URL!\n",
    "        \n",
    "        if (onlineres.find(\"gmd:name/gco:CharacterString\",namespaces=NSMAP) is not None):\n",
    "            thename=onlineres.find(\"gmd:name/gco:CharacterString\",namespaces=NSMAP).text\n",
    "        else:\n",
    "            thename=''\n",
    "        \n",
    "        if (onlineres.find(\"gmd:description/gco:CharacterString\",namespaces=NSMAP) is not None):\n",
    "            thedescription=onlineres.find(\"gmd:description/gco:CharacterString\",namespaces=NSMAP).text\n",
    "        else:\n",
    "            thedescription=''\n",
    "            \n",
    "        if (onlineres.find(\"gmd:protocol/gco:CharacterString\",namespaces=NSMAP) is not None):\n",
    "            theprotocol=onlineres.find(\"gmd:protocol/gco:CharacterString\",namespaces=NSMAP).text\n",
    "        else:\n",
    "            theprotocol=''\n",
    "        \n",
    "        if (onlineres.find(\"gmd:applicationProfile/gco:CharacterString\",namespaces=NSMAP) is not None):\n",
    "            theappprofile=onlineres.find(\"gmd:applicationProfile/gco:CharacterString\",namespaces=NSMAP).text\n",
    "        else:\n",
    "            theappprofile=''\n",
    "            \n",
    "        if (onlineres.find(\"gmd:function/gmd:CI_OnLineFunctionCode\",namespaces=NSMAP) is not None):\n",
    "            thefunctioncode=onlineres.find(\"gmd:function/gmd:CI_OnLineFunctionCode\",namespaces=NSMAP).get(\"codeListValue\")\n",
    "        else:\n",
    "            thefunctioncode=''\n",
    "            \n",
    "        if (onlineres.find(\"gmd:function/gmd:CI_OnLineFunctionCode\",namespaces=NSMAP) is not None):    \n",
    "            thefunctiontext=onlineres.find(\"gmd:function/gmd:CI_OnLineFunctionCode\",namespaces=NSMAP).text\n",
    "        else:\n",
    "            thefunctiontext=''\n",
    "            \n",
    "        print(theURL,thename,thedescription,theprotocol,theappprofile,thefunctioncode,thefunctiontext)\n",
    "        \n",
    "        # series of tests to determine what application profiles are applicable for this online resource\n",
    "        #check for OGC WFS Web feature service\n",
    "        if (theprotocol.lower().find('wfs')>-1 or\n",
    "           theURL.lower().find('service=wfs')>-1):       \n",
    "            # append to dispatchlist\n",
    "            # wfs disptacher gets the base URL for the service\n",
    "            #check if service is responding\n",
    "            tryurl=theURL.split('?')[0] + '?service=wfs&request=getCapabilities'\n",
    "            if testurl(tryurl):\n",
    "                dispatchlist.append({\"profile\":\"wfsclient\",\"url\":theURL.split('?')[0]})\n",
    "            \n",
    "        #check for OGC WMS; open in QGIS, ArcGIS, or OpenLayers web client\n",
    "        if (theprotocol.lower().find('wms')>-1 or\n",
    "           (theURL.lower().find('service=wms')>-1 and theURL.lower().find('request=kml')==-1) ):\n",
    "            #kml test is because of GeoServer handling of kml response for wms\n",
    "            # append to dispatchlist\n",
    "            # wms disptacher gets the base URL for the service\n",
    "            tryurl=theURL.split('?')[0] + '?service=wms&request=getCapabilities'\n",
    "            if testurl(tryurl):\n",
    "                dispatchlist.append({\"profile\":\"wmsclient\",\"url\":theURL.split('?')[0]})\n",
    "            \n",
    "        # KML client-- open in GoogleEarth or ?OpenLayers? kml client\n",
    "        if (thedescription.lower().find('kml download')>-1 or\n",
    "           (theURL.lower().find('request=kml')>-1 and theURL.lower().find('mode=download')>-1) or\n",
    "           theURL.lower().find('.kml')>-1 or theURL.lower().find('.kmz')>-1):\n",
    "            #kml test for GeoServer handling of kml response for wms\n",
    "            # append to dispatchlist\n",
    "            # wfs disptacher gets the base URL for the service\n",
    "            if testurl(theURL):\n",
    "                dispatchlist.append({\"profile\":\"kmlclient\",\"url\":theURL})\n",
    "            \n",
    "        # other http URL-- check if the URL works\n",
    "        if ((theURL.lower().find('.html')>-1 ) \n",
    "            or  (theprotocol.lower().find('http')>-1)):\n",
    "            #kml test for GeoServer handling of kml response for wms\n",
    "            # append to dispatchlist\n",
    "            # wfs disptacher gets the base URL for the service\n",
    "            if testurl(theURL):\n",
    "                r = requests.get(theURL)\n",
    "                if (r.headers['Content-Type'].find('html')>-1):\n",
    "                    dispatchlist.append({\"profile\":\"webbrowser\",\"url\":theURL,\n",
    "                                       \"label\":thename })\n",
    "                    \n",
    "        # nwis rdb data\n",
    "        if ((theURL.lower().find('/nwis')>-1 ) \n",
    "            and  (theURL.lower().find('format=rdb')>-1)):\n",
    "            #kml test for GeoServer handling of kml response for wms\n",
    "            # append to dispatchlist\n",
    "            # wfs disptacher gets the base URL for the service\n",
    "            if testurl(theURL):\n",
    "                dispatchlist.append({\"profile\":\"nwis_rdb\",\"url\":theURL,\n",
    "                                       \"label\":thename })\n",
    "            \n",
    "print(dispatchlist)"
   ]
  },
  {
   "cell_type": "markdown",
   "metadata": {},
   "source": [
    "Call the dispatcher with the dispatchlist\n",
    "The dispatcher will need to access registry with mapping from application profile values to endpoints that will 'open' the url associated with that profile in the dispatch option.\n",
    "\n",
    "In the long run, the dispatcher should be a separate component accessed via URL; start with it hard wired here.\n",
    "\n"
   ]
  },
  {
   "cell_type": "code",
   "execution_count": 17,
   "metadata": {},
   "outputs": [
    {
     "name": "stdout",
     "output_type": "stream",
     "text": [
      "To inspect data for CH 2, Honey Brook, Chester County, PA - Groundwater Depth 1951-current, click here: http://localhost:8889/notebooks/DispatchTesting/NWIS-explore2.ipynb?dataurl=http://nwis.waterdata.usgs.gov/pa/nwis/gwlevels?site_no=400650075514001&amp;agency_cd=USGS&amp;format=rdb\n",
      "To inspect data for CH 10, West Marlborough, Chester County, PA - Groundwater Depth 1951-current, click here: http://localhost:8889/notebooks/DispatchTesting/NWIS-explore2.ipynb?dataurl=http://nwis.waterdata.usgs.gov/pa/nwis/gwlevels?site_no=395450075485401&amp;agency_cd=USGS&amp;format=rdb\n",
      "To inspect data for CH 12, West Bradford, Chester County, PA - Groundwater Depth 1951-current, click here: http://localhost:8889/notebooks/DispatchTesting/NWIS-explore2.ipynb?dataurl=http://nwis.waterdata.usgs.gov/pa/nwis/gwlevels?site_no=395717075392301&amp;agency_cd=USGS&amp;format=rdb\n",
      "To inspect data for CH 38, New Garden, Chester County, PA - Groundwater Depth 1974-current, click here: http://localhost:8889/notebooks/DispatchTesting/NWIS-explore2.ipynb?dataurl=http://nwis.waterdata.usgs.gov/pa/nwis/gwlevels?site_no=394846075444901&amp;agency_cd=USGS&amp;format=rdb\n",
      "To inspect data for CH 89, East Whiteland, Chester County, PA - Groundwater Depth 1986-current, click here: http://localhost:8889/notebooks/DispatchTesting/NWIS-explore2.ipynb?dataurl=http://nwis.waterdata.usgs.gov/pa/nwis/gwlevels?site_no=400400075314401&amp;agency_cd=USGS&amp;format=rdb\n",
      "To inspect data for CH 210, Tredyffrin, Chester County, PA - Groundwater Depth 1978-current, click here: http://localhost:8889/notebooks/DispatchTesting/NWIS-explore2.ipynb?dataurl=http://nwis.waterdata.usgs.gov/pa/nwis/gwlevels?site_no=400453075255601&amp;agency_cd=USGS&amp;format=rdb\n",
      "To inspect data for CH 254, East Nottingham, Chester County, PA - Groundwater Depth 1987-current, click here: http://localhost:8889/notebooks/DispatchTesting/NWIS-explore2.ipynb?dataurl=http://nwis.waterdata.usgs.gov/pa/nwis/gwlevels?site_no=394457075581601&amp;agency_cd=USGS&amp;format=rdb\n",
      "To inspect data for CH 1201, West Sadsbury, Chester County, PA - Groundwater Depth 1973-current, click here: http://localhost:8889/notebooks/DispatchTesting/NWIS-explore2.ipynb?dataurl=http://nwis.waterdata.usgs.gov/pa/nwis/gwlevels?site_no=395701075561601&amp;agency_cd=USGS&amp;format=rdb\n",
      "To inspect data for CH 1247, West Vincent, Chester County, PA - Groundwater Depth 1973-current, click here: http://localhost:8889/notebooks/DispatchTesting/NWIS-explore2.ipynb?dataurl=http://nwis.waterdata.usgs.gov/pa/nwis/gwlevels?site_no=400645075411501&amp;agency_cd=USGS&amp;format=rdb\n",
      "To inspect data for CH 1387, Thornbury, Chester County, PA - Groundwater Depth 1974-current, click here: http://localhost:8889/notebooks/DispatchTesting/NWIS-explore2.ipynb?dataurl=http://nwis.waterdata.usgs.gov/pa/nwis/gwlevels?site_no=395540075332601&amp;agency_cd=USGS&amp;format=rdb\n",
      "To inspect data for CH 1571, East Vincent, Chester County, PA - Groundwater Depth 1974-current, click here: http://localhost:8889/notebooks/DispatchTesting/NWIS-explore2.ipynb?dataurl=http://nwis.waterdata.usgs.gov/pa/nwis/gwlevels?site_no=400956075391501&amp;agency_cd=USGS&amp;format=rdb\n",
      "To inspect data for CH 1921, New Garden, Chester County, PA - Groundwater Depth 1974-current, click here: http://localhost:8889/notebooks/DispatchTesting/NWIS-explore2.ipynb?dataurl=http://nwis.waterdata.usgs.gov/pa/nwis/gwlevels?site_no=394757075432101&amp;agency_cd=USGS&amp;format=rdb\n",
      "To inspect data for CH 2273, West Brandywine, Chester County, PA - Groundwater Depth 1975-current, click here: http://localhost:8889/notebooks/DispatchTesting/NWIS-explore2.ipynb?dataurl=http://nwis.waterdata.usgs.gov/pa/nwis/gwlevels?site_no=400242075484301&amp;agency_cd=USGS&amp;format=rdb\n",
      "To inspect data for CH 2313, East Whiteland, Chester County, PA - Groundwater Depth 1967-current, click here: http://localhost:8889/notebooks/DispatchTesting/NWIS-explore2.ipynb?dataurl=http://nwis.waterdata.usgs.gov/pa/nwis/gwlevels?site_no=400325075332501&amp;agency_cd=USGS&amp;format=rdb\n",
      "To inspect data for CH 2328, East Nantmeal, Chester County, PA - Groundwater Depth 1975-current, click here: http://localhost:8889/notebooks/DispatchTesting/NWIS-explore2.ipynb?dataurl=http://nwis.waterdata.usgs.gov/pa/nwis/gwlevels?site_no=400847075414701&amp;agency_cd=USGS&amp;format=rdb\n",
      "To inspect data for CH 2457, East Goshen, Chester County, PA - Groundwater Depth 1982-current, click here: http://localhost:8889/notebooks/DispatchTesting/NWIS-explore2.ipynb?dataurl=http://nwis.waterdata.usgs.gov/pa/nwis/gwlevels?site_no=400039075335201&amp;agency_cd=USGS&amp;format=rdb\n",
      "To inspect data for CH 2561,Charlestown, Chester County, PA - Groundwater Depth 1983-current, click here: http://localhost:8889/notebooks/DispatchTesting/NWIS-explore2.ipynb?dataurl=http://nwis.waterdata.usgs.gov/pa/nwis/gwlevels?site_no=400456075320301&amp;agency_cd=USGS&amp;format=rdb\n",
      "To inspect data for CH 2584, East Marlborough, Chester County, PA - Groundwater Depth 1983-current, click here: http://localhost:8889/notebooks/DispatchTesting/NWIS-explore2.ipynb?dataurl=http://nwis.waterdata.usgs.gov/pa/nwis/gwlevels?site_no=395225075422001&agency_cd=USGS&format=rdb\n",
      "To inspect data for CH 2663, New Garden, Chester County, PA - Groundwater Depth 1984-current, click here: http://localhost:8889/notebooks/DispatchTesting/NWIS-explore2.ipynb?dataurl=http://nwis.waterdata.usgs.gov/pa/nwis/gwlevels?site_no=394624075444001&agency_cd=USGS&format=rdb\n",
      "To inspect data for CH 3289, Tredyffrin, Chester County, PA - Groundwater Depth 1988-current, click here: http://localhost:8889/notebooks/DispatchTesting/NWIS-explore2.ipynb?dataurl=http://nwis.waterdata.usgs.gov/pa/nwis/gwlevels?site_no=400358075311301&agency_cd=USGS&format=rdb\n",
      "To inspect data for CH 5422, Londonderry, Chester County, PA - Groundwater Depth 2000-current, click here: http://localhost:8889/notebooks/DispatchTesting/NWIS-explore2.ipynb?dataurl=http://nwis.waterdata.usgs.gov/pa/nwis/gwlevels?site_no=395141075525401&agency_cd=USGS&format=rdb\n",
      "To inspect data for CH 6513, North Coventry, Chester County, PA - Groundwater Depth 2002-current, click here: http://localhost:8889/notebooks/DispatchTesting/NWIS-explore2.ipynb?dataurl=http://nwis.waterdata.usgs.gov/pa/nwis/gwlevels?site_no=401405075400301&agency_cd=USGS&format=rdb\n",
      "To inspect data for CH 6516, Pennsbury, Chester County, PA - Groundwater Depth 2001-current, click here: http://localhost:8889/notebooks/DispatchTesting/NWIS-explore2.ipynb?dataurl=http://nwis.waterdata.usgs.gov/pa/nwis/gwlevels?site_no=395201075363001&agency_cd=USGS&format=rdb\n",
      "To inspect data for CH 6517, West Caln, Chester County, PA - Groundwater Depth 2001-current, click here: http://localhost:8889/notebooks/DispatchTesting/NWIS-explore2.ipynb?dataurl=http://nwis.waterdata.usgs.gov/pa/nwis/gwlevels?site_no=400247075532401&agency_cd=USGS&format=rdb\n",
      "To inspect data for CH 6518, Lower Oxford, Chester County, PA - Groundwater Depth 2001-current, click here: http://localhost:8889/notebooks/DispatchTesting/NWIS-explore2.ipynb?dataurl=http://nwis.waterdata.usgs.gov/pa/nwis/gwlevels?site_no=394903075581901&agency_cd=USGS&format=rdb\n",
      "To inspect data for CH 7007, Wallace, Chester County, PA - Groundwater Depth 2005-current, click here: http://localhost:8889/notebooks/DispatchTesting/NWIS-explore2.ipynb?dataurl=http://nwis.waterdata.usgs.gov/pa/nwis/gwlevels?site_no=400411075445901&agency_cd=USGS&format=rdb\n",
      "To inspect data for CH 7269, Newlin, Chester County, PA - Groundwater Depth  2008-current, click here: http://localhost:8889/notebooks/DispatchTesting/NWIS-explore2.ipynb?dataurl=http://nwis.waterdata.usgs.gov/pa/nwis/gwlevels?site_no=395633075444401&agency_cd=USGS&format=rdb\n"
     ]
    }
   ],
   "source": [
    "#Simple dispatcher\n",
    "for option in dispatchlist:\n",
    "    if (option['profile']=='wfsclient'):\n",
    "        #offer links for apps that consume generic WFS\n",
    "        #print('got wfs')\n",
    "        wfsurl=base_url+ 'WFSprocessor.ipynb?endpoint='+option['url']\n",
    "        print('To inspect the Dataset contents via OGC Web Feature Service interface, click here: %s' % wfsurl)\n",
    "    if (option['profile']=='webbrowser'):\n",
    "        #offer links for apps that consume generic WFS\n",
    "        print('To display %s in browser, click here: %s' % (option['label'],option['url']))\n",
    "    if (option['profile']=='nwis_rdb'):\n",
    "        #offer links for apps that consume generic WFS\n",
    "        nwisgdburl=base_url+ 'NWIS-explore2.ipynb?dataurl='+option['url']\n",
    "        print('To inspect data for %s, click here: %s' % (option['label'],nwisgdburl))\n",
    "        "
   ]
  },
  {
   "cell_type": "code",
   "execution_count": null,
   "metadata": {
    "collapsed": true
   },
   "outputs": [],
   "source": []
  }
 ],
 "metadata": {
  "kernelspec": {
   "display_name": "py36",
   "language": "python",
   "name": "py36"
  },
  "language_info": {
   "codemirror_mode": {
    "name": "ipython",
    "version": 2
   },
   "file_extension": ".py",
   "mimetype": "text/x-python",
   "name": "python",
   "nbconvert_exporter": "python",
   "pygments_lexer": "ipython2",
   "version": "2.7.13"
  }
 },
 "nbformat": 4,
 "nbformat_minor": 2
}
