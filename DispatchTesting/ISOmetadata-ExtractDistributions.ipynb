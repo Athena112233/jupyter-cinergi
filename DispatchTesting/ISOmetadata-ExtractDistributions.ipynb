{
 "cells": [
  {
   "cell_type": "markdown",
   "metadata": {},
   "source": [
    "# Extract Distribution information from ISO 19139 metadata\n",
    "\n",
    "This notebook is opened with a documentID used to pull an ISO XML record from the CINERGI catalog;\n",
    "The record is parsed to extract distribution information and generate a dispatchList object\n",
    "\n",
    "The dispatch list object gets passed to a dispatcher that accesses mapping between endpoint applications and application profiles in the dispatchList.\n"
   ]
  },
  {
   "cell_type": "code",
   "execution_count": 4,
   "metadata": {},
   "outputs": [
    {
     "data": {
      "application/javascript": [
       "function getQueryStringValue (key)\n",
       "{  \n",
       "    return unescape(window.location.search.replace(new RegExp(\"^(?:.*[&\\\\?]\" + escape(key).replace(/[\\.\\+\\*]/g, \"\\\\$&\") + \"(?:\\\\=([^&]*))?)?.*$\", \"i\"), \"$1\"));\n",
       "}\n",
       "IPython.notebook.kernel.execute(\"documentID='\".concat(getQueryStringValue(\"documentId\")).concat(\"'\"));\n",
       "IPython.notebook.kernel.execute(\"user='\".concat(getQueryStringValue(\"user\")).concat(\"'\"));\n",
       "IPython.notebook.kernel.execute(\"full_notebook_url='\" + window.location + \"'\"); "
      ],
      "text/plain": [
       "<IPython.core.display.Javascript object>"
      ]
     },
     "metadata": {},
     "output_type": "display_data"
    }
   ],
   "source": [
    "%%javascript\n",
    "function getQueryStringValue (key)\n",
    "{  \n",
    "    return unescape(window.location.search.replace(new RegExp(\"^(?:.*[&\\\\?]\" + escape(key).replace(/[\\.\\+\\*]/g, \"\\\\$&\") + \"(?:\\\\=([^&]*))?)?.*$\", \"i\"), \"$1\"));\n",
    "}\n",
    "IPython.notebook.kernel.execute(\"documentID='\".concat(getQueryStringValue(\"documentId\")).concat(\"'\"));\n",
    "IPython.notebook.kernel.execute(\"user='\".concat(getQueryStringValue(\"user\")).concat(\"'\"));\n",
    "IPython.notebook.kernel.execute(\"full_notebook_url='\" + window.location + \"'\"); "
   ]
  },
  {
   "cell_type": "code",
   "execution_count": 6,
   "metadata": {},
   "outputs": [],
   "source": [
    "# use hardwired values for testing\n",
    "\n",
    "\n",
    "catalogURL = \"http://cinergi.sdsc.edu/geoportal/\"\n",
    "if (len(documentID)==0):\n",
    "    #documentID=\"e3619c5df2644204b67f51f48525a0b1\"\n",
    "    documentID=\"4db8156abb6d4119aa5c35aa39514b42\""
   ]
  },
  {
   "cell_type": "code",
   "execution_count": 7,
   "metadata": {},
   "outputs": [
    {
     "name": "stdout",
     "output_type": "stream",
     "text": [
      "User:  \n",
      "DocumentID:  4db8156abb6d4119aa5c35aa39514b42\n",
      "full notebook url partition ('http://suave-jupyterhub.com/user/zeppelin-v/notebooks/DispatchTesting/', 'ISOmetadata-ExtractDistributions.ipynb', '')\n",
      "full notebook url http://suave-jupyterhub.com/user/zeppelin-v/notebooks/DispatchTesting/ISOmetadata-ExtractDistributions.ipynb\n"
     ]
    }
   ],
   "source": [
    "url_partitioned = full_notebook_url.partition('ISOmetadata-ExtractDistributions.ipynb')\n",
    "base_url = url_partitioned[0];\n",
    "\n",
    "print(\"User: \",user)\n",
    "print(\"DocumentID: \", documentID)\n",
    "print(\"full notebook url partition\", url_partitioned)\n",
    "print(\"full notebook url\", full_notebook_url)"
   ]
  },
  {
   "cell_type": "code",
   "execution_count": 8,
   "metadata": {},
   "outputs": [
    {
     "name": "stdout",
     "output_type": "stream",
     "text": [
      "metadata URL:  http://cinergi.sdsc.edu/geoportal/rest/metadata/item/4db8156abb6d4119aa5c35aa39514b42/xml\n"
     ]
    }
   ],
   "source": [
    "\n",
    "#import xmltodict\n",
    "import requests\n",
    "import json\n",
    "from lxml import etree  #supposed to be better than xml.etree\n",
    "from io import StringIO,BytesIO\n",
    "\n",
    "#get the url to retrieve xml record from catalog\n",
    "metadataURLx=catalogURL + 'rest/metadata/item/' + documentID + '/xml'\n",
    "\n",
    "print (\"metadata URL: \", metadataURLx)\n",
    "\n",
    "#get the xml record\n",
    "the_page = requests.get(metadataURLx)\n"
   ]
  },
  {
   "cell_type": "code",
   "execution_count": 9,
   "metadata": {},
   "outputs": [],
   "source": [
    "# use this to generate JSON representation of the metadata record\n",
    "#the_isojson = json.loads(json.dumps(xmltodict.parse(the_page.text)))\n",
    "\n",
    "#print(the_isojson.keys())\n",
    "#print(the_isojson[\"gmi:MI_Metadata\"])"
   ]
  },
  {
   "cell_type": "code",
   "execution_count": 10,
   "metadata": {},
   "outputs": [],
   "source": [
    "#set up namespace map for ISO metadata\n",
    "NSMAP = {\"gmi\":\"http://www.isotc211.org/2005/gmi\" ,\n",
    "    \"gco\":\"http://www.isotc211.org/2005/gco\" ,\n",
    "    \"gmd\":\"http://www.isotc211.org/2005/gmd\" ,\n",
    "    \"gml\":\"http://www.opengis.net/gml\" ,\n",
    "    \"gmx\":\"http://www.isotc211.org/2005/gmx\" ,\n",
    "    \"gts\":\"http://www.isotc211.org/2005/gts\" ,\n",
    "    \"srv\":\"http://www.isotc211.org/2005/srv\" ,\n",
    "    \"xlink\":\"http://www.w3.org/1999/xlink\"}"
   ]
  },
  {
   "cell_type": "code",
   "execution_count": 11,
   "metadata": {},
   "outputs": [
    {
     "name": "stdout",
     "output_type": "stream",
     "text": [
      "1.0\n",
      "[<Element {http://www.isotc211.org/2005/gmd}MD_DigitalTransferOptions at 0x7f1af0e33f88>]\n"
     ]
    }
   ],
   "source": [
    "#root = etree.fromstring(the_page.text)\n",
    "\n",
    "#tree is an element tree\n",
    "tree = etree.parse(metadataURLx)\n",
    "#root = etree.tostring(tree.getroot())\n",
    "root = tree.getroot()\n",
    "docinfo = tree.docinfo\n",
    "print(docinfo.xml_version)\n",
    "print(tree.findall(\"//gmd:MD_DigitalTransferOptions\",namespaces=NSMAP))\n",
    "\n"
   ]
  },
  {
   "cell_type": "code",
   "execution_count": 12,
   "metadata": {},
   "outputs": [
    {
     "name": "stdout",
     "output_type": "stream",
     "text": [
      "https://www.sciencebase.gov/catalog/item/5032ab9de4b0d64661a77224 ScienceBase Item Summary Page Link to the ScienceBase Item Summary page for the item described by this metadata record WWW:LINK-1.0-http--link Web Browser information information\n",
      "https://www.sciencebase.gov/catalogMaps/mapping/ows/5032ab9de4b0d64661a77224?mode=download&request=kml&service=wms&layers=WYSagegrouse_currentdistribution KML Service KML Download KML Web Browser information information\n",
      "https://www.sciencebase.gov/catalogMaps/mapping/ows/5032ab9de4b0d64661a77224?service=wms&request=getcapabilities&version=1.3.0 ScienceBase WMS Service OGC Service Capabilities URL OGC:WMS Web Browser information information\n",
      "https://www.sciencebase.gov/catalogMaps/mapping/ows/5032ab9de4b0d64661a77224?service=wfs&request=getcapabilities&version=1.0.0 ScienceBase WFS Service OGC Service Capabilities URL OGC:WFS Web Browser information information\n",
      "https://www.sciencebase.gov/catalog/file/get/5032ab9de4b0d64661a77224 Download Attached Files Download Link WWW:LINK-1.0-http--link Web Browser information information\n",
      "[{'profile': 'kmlclient', 'url': 'https://www.sciencebase.gov/catalogMaps/mapping/ows/5032ab9de4b0d64661a77224?mode=download&request=kml&service=wms&layers=WYSagegrouse_currentdistribution'}, {'profile': 'kmlclient', 'url': 'https://www.sciencebase.gov/catalogMaps/mapping/ows/5032ab9de4b0d64661a77224?mode=download&request=kml&service=wms&layers=WYSagegrouse_currentdistribution'}, {'profile': 'wmsclient', 'url': 'https://www.sciencebase.gov/catalogMaps/mapping/ows/5032ab9de4b0d64661a77224'}, {'profile': 'wfsclient', 'url': 'https://www.sciencebase.gov/catalogMaps/mapping/ows/5032ab9de4b0d64661a77224'}]\n"
     ]
    }
   ],
   "source": [
    "#iterate through digital transfer options and set up dispatch object\n",
    "# dispatch list is a list of 'options' consisting of \n",
    "# {an application profile (string, from EC resource registry) that the disptcher will use to identify target notebooks, \n",
    "#   the URL for the information resource input to the target for that profile}\n",
    "# e.g. dispatchlist = [{\"profile\":\"profile1\",\"url\":\"url1\"}, {\"profile\":\"profile2\",\"url\":\"url2\"}]\n",
    "\n",
    "dispatchlist = []\n",
    "\n",
    "for  elt in tree.getiterator(\"{http://www.isotc211.org/2005/gmd}MD_DigitalTransferOptions\"):\n",
    "    # only want OnlineResources that are in distribution//MD_DigitalTransferOptions\n",
    "    #  TBD-- figure out what to do with CI_OnlineResource inside SV_OperationMetadata\n",
    "    #print elt.text\n",
    "#iterate through CI_OnlineResource elements\n",
    "    for onlineres in elt.getiterator(\"{http://www.isotc211.org/2005/gmd}CI_OnlineResource\"):\n",
    "        if (onlineres.find(\"gmd:linkage/gmd:URL\",namespaces=NSMAP) is not None):\n",
    "            theURL=onlineres.find(\"gmd:linkage/gmd:URL\",namespaces=NSMAP).text\n",
    "        else:\n",
    "            continue #don't bother if there's no URL!\n",
    "        \n",
    "        if (onlineres.find(\"gmd:name/gco:CharacterString\",namespaces=NSMAP) is not None):\n",
    "            thename=onlineres.find(\"gmd:name/gco:CharacterString\",namespaces=NSMAP).text\n",
    "        else:\n",
    "            thename=''\n",
    "        \n",
    "        if (onlineres.find(\"gmd:description/gco:CharacterString\",namespaces=NSMAP) is not None):\n",
    "            thedescription=onlineres.find(\"gmd:description/gco:CharacterString\",namespaces=NSMAP).text\n",
    "        else:\n",
    "            thedescription=''\n",
    "            \n",
    "        if (onlineres.find(\"gmd:protocol/gco:CharacterString\",namespaces=NSMAP) is not None):\n",
    "            theprotocol=onlineres.find(\"gmd:protocol/gco:CharacterString\",namespaces=NSMAP).text\n",
    "        else:\n",
    "            theprotocol=''\n",
    "        \n",
    "        if (onlineres.find(\"gmd:applicationProfile/gco:CharacterString\",namespaces=NSMAP) is not None):\n",
    "            theappprofile=onlineres.find(\"gmd:applicationProfile/gco:CharacterString\",namespaces=NSMAP).text\n",
    "        else:\n",
    "            theappprofile=''\n",
    "            \n",
    "        if (onlineres.find(\"gmd:function/gmd:CI_OnLineFunctionCode\",namespaces=NSMAP) is not None):\n",
    "            thefunctioncode=onlineres.find(\"gmd:function/gmd:CI_OnLineFunctionCode\",namespaces=NSMAP).get(\"codeListValue\")\n",
    "        else:\n",
    "            thefunctioncode=''\n",
    "            \n",
    "        if (onlineres.find(\"gmd:function/gmd:CI_OnLineFunctionCode\",namespaces=NSMAP) is not None):    \n",
    "            thefunctiontext=onlineres.find(\"gmd:function/gmd:CI_OnLineFunctionCode\",namespaces=NSMAP).text\n",
    "        else:\n",
    "            thefunctiontext=''\n",
    "            \n",
    "        print(theURL,thename,thedescription,theprotocol,theappprofile,thefunctioncode,thefunctiontext)\n",
    "        \n",
    "        # series of tests to determine what application profiles are applicable for this online resource\n",
    "        #check for OGC WFS Web feature service\n",
    "        if (theprotocol.lower().find('wfs')>-1 or\n",
    "           theURL.lower().find('service=wfs')>-1):       \n",
    "            # append to dispatchlist\n",
    "            # wfs disptacher gets the base URL for the service\n",
    "            dispatchlist.append({\"profile\":\"wfsclient\",\"url\":theURL.split('?')[0]})\n",
    "            \n",
    "        #check for OGC WMS; open in QGIS, ArcGIS, or OpenLayers web client\n",
    "        if (theprotocol.lower().find('wms')>-1 or\n",
    "           (theURL.lower().find('service=wms')>-1 and theURL.lower().find('request=kml')==-1) ):\n",
    "            #kml test is because of GeoServer handling of kml response for wms\n",
    "            # append to dispatchlist\n",
    "            # wfs disptacher gets the base URL for the service\n",
    "            dispatchlist.append({\"profile\":\"wmsclient\",\"url\":theURL.split('?')[0]})\n",
    "            \n",
    "        # KML client-- open in GoogleEarth or ?OpenLayers? kml client\n",
    "        if (thedescription.lower().find('kml download')>-1 or\n",
    "           (theURL.lower().find('request=kml')>-1 and theURL.lower().find('mode=download')>-1) or\n",
    "           theURL.lower().find('.kml')>-1 or theURL.lower().find('.kmz')>-1):\n",
    "            #kml test for GeoServer handling of kml response for wms\n",
    "            # append to dispatchlist\n",
    "            # wfs disptacher gets the base URL for the service\n",
    "            dispatchlist.append({\"profile\":\"kmlclient\",\"url\":theURL})\n",
    "            \n",
    "        # other http URL-- check if the URL works\n",
    "        if (thedescription.lower().find('kml download')>-1 or\n",
    "           (theURL.lower().find('request=kml')>-1 and theURL.lower().find('mode=download')>-1) or\n",
    "           theURL.lower().find('.kml')>-1 or theURL.lower().find('.kmz')>-1):\n",
    "            #kml test for GeoServer handling of kml response for wms\n",
    "            # append to dispatchlist\n",
    "            # wfs disptacher gets the base URL for the service\n",
    "            dispatchlist.append({\"profile\":\"kmlclient\",\"url\":theURL})\n",
    "            \n",
    "print(dispatchlist)"
   ]
  },
  {
   "cell_type": "markdown",
   "metadata": {},
   "source": [
    "Call the dispatcher with the dispatchlist\n",
    "The dispatcher will need to access registry with mapping from application profile values to endpoints that will 'open' the url associated with that profile in the dispatch option.\n",
    "\n",
    "In the long run, the dispatcher should be a separate component accessed via URL; start with it hard wired here.\n",
    "\n"
   ]
  },
  {
   "cell_type": "code",
   "execution_count": 13,
   "metadata": {},
   "outputs": [
    {
     "name": "stdout",
     "output_type": "stream",
     "text": [
      "got wfs\n"
     ]
    }
   ],
   "source": [
    "for option in dispatchlist:\n",
    "    if (option['profile']=='wfsclient'):\n",
    "        #offer links for apps that consume generic WFS\n",
    "        print('got wfs')"
   ]
  },
  {
   "cell_type": "code",
   "execution_count": null,
   "metadata": {},
   "outputs": [],
   "source": []
  }
 ],
 "metadata": {
  "kernelspec": {
   "display_name": "Python 3",
   "language": "python",
   "name": "python3"
  },
  "language_info": {
   "codemirror_mode": {
    "name": "ipython",
    "version": 3
   },
   "file_extension": ".py",
   "mimetype": "text/x-python",
   "name": "python",
   "nbconvert_exporter": "python",
   "pygments_lexer": "ipython3",
   "version": "3.5.2"
  }
 },
 "nbformat": 4,
 "nbformat_minor": 2
}
