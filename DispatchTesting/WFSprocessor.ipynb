{
 "cells": [
  {
   "cell_type": "markdown",
   "metadata": {},
   "source": [
    "# Process OGC Web Feature Service\n",
    "\n",
    "This notebook uses an endpoint URL, passed either as an 'endpoint' parameter when the notebook is called, or assigned in cell 5.\n",
    "\n"
   ]
  },
  {
   "cell_type": "code",
   "execution_count": 1,
   "metadata": {},
   "outputs": [
    {
     "ename": "SystemExit",
     "evalue": "ERROR: cannot find GDAL/OGR modules",
     "output_type": "error",
     "traceback": [
      "An exception has occurred, use %tb to see the full traceback.\n",
      "\u001b[0;31mSystemExit\u001b[0m\u001b[0;31m:\u001b[0m ERROR: cannot find GDAL/OGR modules\n"
     ]
    },
    {
     "name": "stderr",
     "output_type": "stream",
     "text": [
      "/usr/local/lib/python3.5/dist-packages/IPython/core/interactiveshell.py:2971: UserWarning: To exit: use 'exit', 'quit', or Ctrl-D.\n",
      "  warn(\"To exit: use 'exit', 'quit', or Ctrl-D.\", stacklevel=1)\n"
     ]
    }
   ],
   "source": [
    "import sys\n",
    "try:\n",
    "    from osgeo import ogr, osr, gdal\n",
    "except:\n",
    "    sys.exit('ERROR: cannot find GDAL/OGR modules')\n",
    "    \n",
    "from ipywidgets import interact, interactive, fixed, interact_manual\n",
    "import ipywidgets as widgets\n",
    "import requests\n",
    "\n",
    "#from owslib.wfs import WebFeatureService"
   ]
  },
  {
   "cell_type": "code",
   "execution_count": 7,
   "metadata": {},
   "outputs": [],
   "source": [
    "import numpy as np\n",
    "import pandas as pd\n",
    "import json\n",
    "from pandas.io.json import json_normalize\n",
    "#import xmltodict"
   ]
  },
  {
   "cell_type": "code",
   "execution_count": 8,
   "metadata": {},
   "outputs": [
    {
     "data": {
      "application/javascript": [
       "//check if there is an endpoint parameter in the notebook call\n",
       "\n",
       "function getQueryStringValue (key)\n",
       "{  \n",
       "    return unescape(window.location.search.replace(new RegExp(\"^(?:.*[&\\\\?]\" + escape(key).replace(/[\\.\\+\\*]/g, \"\\\\$&\") + \"(?:\\\\=([^&]*))?)?.*$\", \"i\"), \"$1\"));\n",
       "}\n",
       "IPython.notebook.kernel.execute(\"endpoint='\".concat(getQueryStringValue(\"endpoint\")).concat(\"'\"));\n",
       "IPython.notebook.kernel.execute(\"full_notebook_url='\" + window.location + \"'\"); "
      ],
      "text/plain": [
       "<IPython.core.display.Javascript object>"
      ]
     },
     "metadata": {},
     "output_type": "display_data"
    }
   ],
   "source": [
    "%%javascript\n",
    "//check if there is an endpoint parameter in the notebook call\n",
    "\n",
    "function getQueryStringValue (key)\n",
    "{  \n",
    "    return unescape(window.location.search.replace(new RegExp(\"^(?:.*[&\\\\?]\" + escape(key).replace(/[\\.\\+\\*]/g, \"\\\\$&\") + \"(?:\\\\=([^&]*))?)?.*$\", \"i\"), \"$1\"));\n",
    "}\n",
    "IPython.notebook.kernel.execute(\"endpoint='\".concat(getQueryStringValue(\"endpoint\")).concat(\"'\"));\n",
    "IPython.notebook.kernel.execute(\"full_notebook_url='\" + window.location + \"'\"); "
   ]
  },
  {
   "cell_type": "code",
   "execution_count": 9,
   "metadata": {},
   "outputs": [
    {
     "name": "stdout",
     "output_type": "stream",
     "text": [
      "Got endpoint parameter: https://www.sciencebase.gov/catalogMaps/mapping/ows/5032ab9de4b0d64661a77224\n"
     ]
    }
   ],
   "source": [
    "url_partitioned = full_notebook_url.partition('ISOmetadata-ExtractDistributions.ipynb')\n",
    "base_url = url_partitioned[0];\n",
    "\n",
    "if(endpoint is not None and len(endpoint)>0):\n",
    "    print('Got endpoint parameter:',endpoint)\n",
    "else: \n",
    "    # some USGS ScienceBase Geoserver WFS endpoints:\n",
    "    #endpoint='https://www.sciencebase.gov/catalogMaps/mapping/ows/5342c54be4b0aa151574a8dc'\n",
    "    #endpoint='https://www.sciencebase.gov/catalogMaps/mapping/ows/5342c5fce4b0aa151574a8ed'\n",
    "    #endpoint='https://www.sciencebase.gov/catalogMaps/mapping/ows/4f4e49cfe4b07f02db5da90e'\n",
    "\n",
    "    # some NGDS end points\n",
    "    endpoint='http://services.azgs.az.gov/arcgis/services/aasggeothermal/CAaqWellChemistry/MapServer/WFSServer'\n",
    "    #endpoint='http://services.azgs.az.gov/arcgis/services/aasggeothermal/AZActiveFaults/MapServer/WFSServer'\n",
    "\n",
    "    #EarthChem\n",
    "    #endpoint='http://ecp.iedadata.org/wfs/ows?service=wfs'\n",
    "\n",
    "    #smu thermal conductivity, geoserver\n",
    "    #endpoint='http://geothermal.smu.edu:9000/geoserver/aasg-thermalconductivity/ows'\n",
    "\n",
    "    #NOAA Watch/warning polygons\n",
    "    #endpoint = 'https://idpgis.ncep.noaa.gov/arcgis/services/NWS_Forecasts_Guidance_Warnings/watch_warn_adv/MapServer/WFSServer'\n",
    "    print('Assign endpoint:', endpoint)\n",
    "# limit the number of features that will be processed\n",
    "maxfeatures=500000"
   ]
  },
  {
   "cell_type": "code",
   "execution_count": 10,
   "metadata": {},
   "outputs": [
    {
     "ename": "NameError",
     "evalue": "name 'ogr' is not defined",
     "output_type": "error",
     "traceback": [
      "\u001b[0;31m---------------------------------------------------------------------------\u001b[0m",
      "\u001b[0;31mNameError\u001b[0m                                 Traceback (most recent call last)",
      "\u001b[0;32m<ipython-input-10-a5e0781248d6>\u001b[0m in \u001b[0;36m<module>\u001b[0;34m()\u001b[0m\n\u001b[1;32m      2\u001b[0m \u001b[0mdriverName\u001b[0m \u001b[0;34m=\u001b[0m \u001b[0;34m\"WFS\"\u001b[0m\u001b[0;34m\u001b[0m\u001b[0m\n\u001b[1;32m      3\u001b[0m \u001b[0;31m# Set the driver (optional)\u001b[0m\u001b[0;34m\u001b[0m\u001b[0;34m\u001b[0m\u001b[0m\n\u001b[0;32m----> 4\u001b[0;31m \u001b[0mwfs_drv\u001b[0m \u001b[0;34m=\u001b[0m \u001b[0mogr\u001b[0m\u001b[0;34m.\u001b[0m\u001b[0mGetDriverByName\u001b[0m\u001b[0;34m(\u001b[0m\u001b[0mdriverName\u001b[0m\u001b[0;34m)\u001b[0m\u001b[0;34m\u001b[0m\u001b[0m\n\u001b[0m\u001b[1;32m      5\u001b[0m \u001b[0;34m\u001b[0m\u001b[0m\n\u001b[1;32m      6\u001b[0m \u001b[0;32mif\u001b[0m \u001b[0mwfs_drv\u001b[0m \u001b[0;32mis\u001b[0m \u001b[0;32mNone\u001b[0m\u001b[0;34m:\u001b[0m\u001b[0;34m\u001b[0m\u001b[0m\n",
      "\u001b[0;31mNameError\u001b[0m: name 'ogr' is not defined"
     ]
    }
   ],
   "source": [
    "## Shapefile available?\n",
    "driverName = \"WFS\"\n",
    "# Set the driver (optional)\n",
    "wfs_drv = ogr.GetDriverByName(driverName)\n",
    "\n",
    "if wfs_drv is None:\n",
    "    print (\"%s driver not available.\\n\" % driverName)\n",
    "else:\n",
    "    print  (\"%s driver IS available.\\n\" % driverName)"
   ]
  },
  {
   "cell_type": "code",
   "execution_count": 114,
   "metadata": {
    "collapsed": true
   },
   "outputs": [],
   "source": [
    "# !set GDAL_DATA=E:\\EPrograms\\Anaconda\\Library\\share\\gdal\n",
    "# !set GDAL_DATA"
   ]
  },
  {
   "cell_type": "code",
   "execution_count": 115,
   "metadata": {},
   "outputs": [],
   "source": [
    "# Speeds up querying WFS capabilities for services with alot of layers\n",
    "gdal.SetConfigOption('OGR_WFS_LOAD_MULTIPLE_LAYER_DEFN', 'NO')\n",
    "\n",
    "# Set config for paging. Works on WFS 2.0 services and WFS 1.0 and 1.1 with some other services.\n",
    "gdal.SetConfigOption('OGR_WFS_PAGING_ALLOWED', 'YES')\n",
    "gdal.SetConfigOption('OGR_WFS_PAGE_SIZE', '10000')\n",
    "\n",
    "\n",
    "#test that service is up with getcapabilities request\n",
    "\n",
    "capurl=endpoint + '?service=wfs&request=getCapabilities'\n",
    "r = requests.head(capurl)\n",
    "if (r.status_code != requests.codes.ok):\n",
    "    print('ERROR: service not responding')\n",
    "else:\n",
    "    # Open the webservice\n",
    "    wfs_ds = wfs_drv.Open('WFS:' + endpoint)\n",
    "    #wfs_ds = wfs_drv.Open('http://ecp.iedadata.org/wfs/ows?service=wfs')\n",
    "    if wfs_ds is None:\n",
    "        print('ERROR: can not open WFS datasource')\n"
   ]
  },
  {
   "cell_type": "code",
   "execution_count": 116,
   "metadata": {},
   "outputs": [
    {
     "name": "stdout",
     "output_type": "stream",
     "text": [
      "Layer: aasg:RadiogenicHeatProduction, Features: 2319, SR: GEOGCS[\"NAD27\",DATUM[\"North_American_Datum_1927\",S...\n",
      "('feature count: ', 2319)\n"
     ]
    }
   ],
   "source": [
    "# iterate over available layers\n",
    "for i in range(wfs_ds.GetLayerCount()):\n",
    "    layer = wfs_ds.GetLayerByIndex(i)\n",
    "    srs = layer.GetSpatialRef()\n",
    "    print ('Layer: %s, Features: %s, SR: %s...' % (layer.GetName(), layer.GetFeatureCount(), srs.ExportToWkt()[0:50]))\n",
    "\n",
    "    # iterate over features\n",
    "    #fcount = 1\n",
    "    #feat = layer.GetNextFeature()\n",
    "    #while feat is not None:\n",
    "    #    feat = layer.GetNextFeature()\n",
    "    #    fcount = fcount + 1\n",
    "        # do something more..\n",
    "    #feat = None\n",
    "    print ('feature count: ',layer.GetFeatureCount())"
   ]
  },
  {
   "cell_type": "markdown",
   "metadata": {},
   "source": [
    "#gdal call to get the capabilities document; change to type 'code' cell and import xmltodict to run this\n",
    "caps=wfs_ds.GetLayerByName('WFSGetCapabilities')\n",
    "#print the number of feature types reported in the capabilities document\n",
    "print(caps.GetFeatureCount())\n",
    "\n",
    "for feat in caps:\n",
    "    jsonwrap= json.loads(feat.ExportToJson())\n",
    "    \n",
    "capsxml=jsonwrap['properties']['content']\n",
    "capsjson=xmltodict.parse(capsxml)\n",
    "capsjson=json.dumps(capsjson, indent=2)\n",
    "#json dump of the capabilities document\n",
    "#print(capsjson)"
   ]
  },
  {
   "cell_type": "markdown",
   "metadata": {},
   "source": [
    "Want to let user pick the layer to work with."
   ]
  },
  {
   "cell_type": "code",
   "execution_count": 118,
   "metadata": {},
   "outputs": [
    {
     "data": {
      "application/vnd.jupyter.widget-view+json": {
       "model_id": "01ec28f212d54e329f888a623ab40aa0",
       "version_major": 2,
       "version_minor": 0
      },
      "text/plain": [
       "interactive(children=(Dropdown(description=u'feat_menu', options=('aasg:RadiogenicHeatProduction',), value='aaâ€¦"
      ]
     },
     "metadata": {},
     "output_type": "display_data"
    }
   ],
   "source": [
    "\n",
    "feat_list={}\n",
    "for i in range(wfs_ds.GetLayerCount()):\n",
    "    layer = wfs_ds.GetLayerByIndex(i)\n",
    "    feat_list[layer.GetName()] = layer.GetName()\n",
    "\n",
    "\n",
    "def f(feat_menu):\n",
    "    return feat_menu\n",
    "# out = interact(f, feat_menu=nb_menu);\n",
    "out = interact(f, feat_menu=feat_list.keys());\n",
    "\n",
    "#print(\"interact out: \", out)"
   ]
  },
  {
   "cell_type": "raw",
   "metadata": {},
   "source": [
    "# response to http://gis.stackexchange.com/questions/77974/how-to-convert-gml-to-geojson-using-python-and-ogr-with-geometry-transformation/77999#77999\n",
    "# geo_interface  ******************************************************\n",
    "# this is for testing approach from\n",
    "# https://github.com/mlaloux/Python-geo_interface-applications/blob/master/ogr_gml_to_geojson.py\n",
    "\n",
    "import json\n",
    "# json features\n",
    "    # iterate over features\n",
    "feat = layer.GetNextFeature()\n",
    "while feat is not None:\n",
    "    #print (json.loads(feat.ExportToJson()))\n",
    "    feat = layer.GetNextFeature()\n",
    "feat = None\n",
    "\n",
    "# write the GeoJSON file\n",
    "# with open(\"test.geojson\", \"w\") as outfile:\n",
    "#    json.dump(my_layer,outfile)\n",
    "    "
   ]
  },
  {
   "cell_type": "code",
   "execution_count": 119,
   "metadata": {},
   "outputs": [
    {
     "name": "stdout",
     "output_type": "stream",
     "text": [
      "('chosen layer:', 'aasg:RadiogenicHeatProduction')\n"
     ]
    }
   ],
   "source": [
    "# Get a specific layer\n",
    "\n",
    "chosenlayer= feat_list[out.widget.result]\n",
    "if len(chosenlayer)==0:\n",
    "    chosenlayer=wfs_ds.GetLayerByIndex(1).GetName()\n",
    "\n",
    "layer = wfs_ds.GetLayerByName(chosenlayer)\n",
    "\n",
    "print('chosen layer:',chosenlayer)\n",
    "\n",
    "if not layer:\n",
    "    sys.exit('ERROR: can not find layer in service')\n",
    "else:\n",
    "    pass"
   ]
  },
  {
   "cell_type": "code",
   "execution_count": 120,
   "metadata": {},
   "outputs": [
    {
     "name": "stdout",
     "output_type": "stream",
     "text": [
      "('size:', 51000)\n",
      "('done timed cell,', 1000, 'features in result set')\n",
      "Wall time: 1.97 s\n"
     ]
    }
   ],
   "source": [
    "%%time\n",
    "count = 0\n",
    "tdata = []\n",
    "#feat = layer.GetNextFeature()\n",
    "#print (json.loads(feat.ExportToJson()))\n",
    "#while count < 10:\n",
    "#while feat is not None:\n",
    "\n",
    "#print(layer.GetFeatureCount())\n",
    "#feat=layer.GetNextFeature()\n",
    "#print(feat)\n",
    "\n",
    "if (layer.GetFeatureCount()==1):\n",
    "    feat=layer.GetFeature(1)\n",
    "    jtemp=feat.ExportToJson()\n",
    "    print('J temp:',jtemp)\n",
    "    tdata.append(json.loads(jtemp))   \n",
    "else:\n",
    "    feat = layer.GetNextFeature()\n",
    "    while feat is not None:\n",
    "    #for feat in layer:\n",
    "        #print (json.loads(feat.ExportToJson()))\n",
    "        tdata.append(json.loads(feat.ExportToJson()))\n",
    "        feat = layer.GetNextFeature()\n",
    "        count = count + 1\n",
    "        if count > maxfeatures:\n",
    "            break\n",
    "feat = None\n",
    "\n",
    "#print (tdata)\n",
    "dataframe=json_normalize(tdata)\n",
    "print('size:',dataframe.size)\n",
    "\n",
    "#dataframe\n",
    "print('done timed cell,',count,'features in result set')"
   ]
  },
  {
   "cell_type": "code",
   "execution_count": null,
   "metadata": {
    "collapsed": true
   },
   "outputs": [],
   "source": []
  },
  {
   "cell_type": "markdown",
   "metadata": {},
   "source": [
    "Problem with json_normalize:  \n",
    "This appears to be a bug in the latest version of pandas: https://github.com/pandas-dev/pandas/issues/21158\n",
    "Running pandas '0.23.0', error arises due to condition case when null value occurs on the nesting level greater than 0. It seems to have been changed around two months ago that seems to have made it's way into 0.23.0 release two weeks ago:\n",
    "\n",
    "https://github.com/pandas-dev/pandas/commit/01882ba5b4c21b0caf2e6b9279fb01967aa5d650#diff-9c654764f5f21c8e9d58d9ebf14de86d\n",
    "\n",
    "When I use python verion 3.6.3 :: Anaconda Inc. and pandas version 0.20.3 I do not see this issue and json_normalize is able to work properly. \n",
    "\n",
    "2018-06-28 SMR rolled pandas back to 0.20.3 in the py36 kernel env.\n"
   ]
  },
  {
   "cell_type": "markdown",
   "metadata": {},
   "source": [
    "Now get a list of the attributes of the feature type"
   ]
  },
  {
   "cell_type": "raw",
   "metadata": {},
   "source": [
    "    lyrDefn = layer.GetLayerDefn()\n",
    "    for i in range( lyrDefn.GetFieldCount() ):\n",
    "        fieldName =  lyrDefn.GetFieldDefn(i).GetName()\n",
    "        fieldTypeCode = lyrDefn.GetFieldDefn(i).GetType()\n",
    "        fieldType = lyrDefn.GetFieldDefn(i).GetFieldTypeName(fieldTypeCode)\n",
    "        fieldWidth = lyrDefn.GetFieldDefn(i).GetWidth()\n",
    "        GetPrecision = lyrDefn.GetFieldDefn(i).GetPrecision()\n",
    "\n",
    "        print (fieldName + \" - \" + fieldType+ \" \" + str(fieldWidth) + \" \" + str(GetPrecision))"
   ]
  },
  {
   "cell_type": "markdown",
   "metadata": {},
   "source": [
    "Do some data summarization with pandas"
   ]
  },
  {
   "cell_type": "code",
   "execution_count": 121,
   "metadata": {
    "collapsed": true
   },
   "outputs": [],
   "source": [
    "#dataframe.dtypes"
   ]
  },
  {
   "cell_type": "code",
   "execution_count": 122,
   "metadata": {
    "collapsed": true
   },
   "outputs": [],
   "source": [
    "#for value in dataframe['properties.K_mgL']:\n",
    "#    if value != None:\n",
    "#        print (value)"
   ]
  },
  {
   "cell_type": "code",
   "execution_count": 123,
   "metadata": {},
   "outputs": [
    {
     "name": "stdout",
     "output_type": "stream",
     "text": [
      "1000 features analyzed.\n",
      "field:HeatProduction_mWm3, count:1000, mean:2.05; max:78.00; min:0.01\n",
      "field:LatDegree, count:1000, mean:51.99; max:82.31; min:43.45\n",
      "field:LongDegree, count:1000, mean:-102.26; max:-51.20; min:-133.45\n",
      "field:Potassium, count:1000, mean:2.43; max:7.38; min:0.00\n",
      "field:SampleDepth_m, count:1000, mean:240.53; max:5700.00; min:0.00\n",
      "field:SampleMass_kg, count:1000, mean:0.33; max:0.33; min:0.33\n",
      "field:Thorium, count:1000, mean:10.95; max:119.00; min:0.00\n",
      "field:Uranium, count:1000, mean:3.83; max:73.60; min:0.00\n",
      "\n",
      "The following fields contain no data:\n",
      "['ElevationDatum_m', 'FeatureOfInterestURI', 'Laboratory', 'LaboratoryURI', 'MetadataURI', 'Notes', 'OverburdenThickness_m', 'PLSS_Meridians', 'Range', 'SampleCollectionDate', 'SampleCureDuration', 'SampleDensity_g-cc', 'SectionPart', 'Section_', 'TectonicProvince', 'UncertaintyDensity']\n"
     ]
    }
   ],
   "source": [
    "print('%s features analyzed.' % len(dataframe.index))\n",
    "\n",
    "for col in dataframe.columns:\n",
    "    #print(col)\n",
    "    if (dataframe[col].count() > 0) and  (dataframe[col].dtype=='float64'):\n",
    "        mean=dataframe[col].mean()\n",
    "        max=dataframe[col].max()\n",
    "        min=dataframe[col].min()\n",
    "        print('field:%s, count:%s, mean:%s; max:%s; min:%s' \n",
    "              % (str(col.split('.')[1]), dataframe[col].count(), \"{:.2f}\".format(mean), \n",
    "                 \"{:.2f}\".format(max), \"{:.2f}\".format(min)))\n",
    "    \n",
    "    if (dataframe[col].count() > 0) and  (type(dataframe[col][1]) is str):\n",
    "        # and  (type(dataframe[col][1])=='str')\n",
    "        #for item in dataframe[col].unique():\n",
    "        #    print (item)\n",
    "        #print (type(dataframe[col][1]))\n",
    "        if len(dataframe.index)==len(dataframe[col].unique()):\n",
    "            print(col,'is text field, all values unique')\n",
    "            print('  ')\n",
    "        elif (len(dataframe[col].unique()) > 50):\n",
    "            print(col,'appears to be a text field, there are',len(dataframe[col].unique()),'unique values.' )\n",
    "            print('  ')\n",
    "        else:\n",
    "            print (col,'has', len(dataframe[col].unique()), 'unique values.')\n",
    "            print(dataframe[col].unique())\n",
    "            print('  ')\n",
    " \n",
    "emptyfields = []\n",
    "print('\\nThe following fields contain no data:')\n",
    "for col in dataframe.columns:            \n",
    "    if (dataframe[col].count() == 0):\n",
    "        emptyfields.append(str(col.split('.')[1]))       \n",
    "print(emptyfields)\n",
    "        "
   ]
  },
  {
   "cell_type": "code",
   "execution_count": 124,
   "metadata": {},
   "outputs": [
    {
     "data": {
      "text/html": [
       "<div>\n",
       "<style>\n",
       "    .dataframe thead tr:only-child th {\n",
       "        text-align: right;\n",
       "    }\n",
       "\n",
       "    .dataframe thead th {\n",
       "        text-align: left;\n",
       "    }\n",
       "\n",
       "    .dataframe tbody tr th {\n",
       "        vertical-align: top;\n",
       "    }\n",
       "</style>\n",
       "<table border=\"1\" class=\"dataframe\">\n",
       "  <thead>\n",
       "    <tr style=\"text-align: right;\">\n",
       "      <th></th>\n",
       "      <th>id</th>\n",
       "      <th>properties.HeatProduction_mWm3</th>\n",
       "      <th>properties.LatDegree</th>\n",
       "      <th>properties.LongDegree</th>\n",
       "      <th>properties.OBJECTID</th>\n",
       "      <th>properties.Potassium</th>\n",
       "      <th>properties.SampleDepth_m</th>\n",
       "      <th>properties.SampleMass_kg</th>\n",
       "      <th>properties.Thorium</th>\n",
       "      <th>properties.Uranium</th>\n",
       "    </tr>\n",
       "  </thead>\n",
       "  <tbody>\n",
       "    <tr>\n",
       "      <th>count</th>\n",
       "      <td>1000.000000</td>\n",
       "      <td>1000.000000</td>\n",
       "      <td>1000.000000</td>\n",
       "      <td>1000.000000</td>\n",
       "      <td>1000.000000</td>\n",
       "      <td>1000.000000</td>\n",
       "      <td>1000.000000</td>\n",
       "      <td>1.000000e+03</td>\n",
       "      <td>1000.000000</td>\n",
       "      <td>1000.000000</td>\n",
       "    </tr>\n",
       "    <tr>\n",
       "      <th>mean</th>\n",
       "      <td>500.500000</td>\n",
       "      <td>2.051910</td>\n",
       "      <td>51.988359</td>\n",
       "      <td>-102.258600</td>\n",
       "      <td>500.500000</td>\n",
       "      <td>2.432120</td>\n",
       "      <td>240.525650</td>\n",
       "      <td>3.300000e-01</td>\n",
       "      <td>10.948860</td>\n",
       "      <td>3.831630</td>\n",
       "    </tr>\n",
       "    <tr>\n",
       "      <th>std</th>\n",
       "      <td>288.819436</td>\n",
       "      <td>3.193779</td>\n",
       "      <td>7.059343</td>\n",
       "      <td>21.635126</td>\n",
       "      <td>288.819436</td>\n",
       "      <td>1.521545</td>\n",
       "      <td>354.043679</td>\n",
       "      <td>6.664671e-16</td>\n",
       "      <td>12.735285</td>\n",
       "      <td>5.205746</td>\n",
       "    </tr>\n",
       "    <tr>\n",
       "      <th>min</th>\n",
       "      <td>1.000000</td>\n",
       "      <td>0.010000</td>\n",
       "      <td>43.454000</td>\n",
       "      <td>-133.447000</td>\n",
       "      <td>1.000000</td>\n",
       "      <td>0.000000</td>\n",
       "      <td>0.000000</td>\n",
       "      <td>3.300000e-01</td>\n",
       "      <td>0.000000</td>\n",
       "      <td>0.000000</td>\n",
       "    </tr>\n",
       "    <tr>\n",
       "      <th>25%</th>\n",
       "      <td>250.750000</td>\n",
       "      <td>0.590000</td>\n",
       "      <td>49.110000</td>\n",
       "      <td>-121.555000</td>\n",
       "      <td>250.750000</td>\n",
       "      <td>1.097500</td>\n",
       "      <td>10.750000</td>\n",
       "      <td>3.300000e-01</td>\n",
       "      <td>2.330000</td>\n",
       "      <td>0.960000</td>\n",
       "    </tr>\n",
       "    <tr>\n",
       "      <th>50%</th>\n",
       "      <td>500.500000</td>\n",
       "      <td>1.230000</td>\n",
       "      <td>49.900000</td>\n",
       "      <td>-102.420000</td>\n",
       "      <td>500.500000</td>\n",
       "      <td>2.250000</td>\n",
       "      <td>159.100000</td>\n",
       "      <td>3.300000e-01</td>\n",
       "      <td>6.330000</td>\n",
       "      <td>1.960000</td>\n",
       "    </tr>\n",
       "    <tr>\n",
       "      <th>75%</th>\n",
       "      <td>750.250000</td>\n",
       "      <td>2.520000</td>\n",
       "      <td>52.829750</td>\n",
       "      <td>-85.486000</td>\n",
       "      <td>750.250000</td>\n",
       "      <td>3.730000</td>\n",
       "      <td>340.125000</td>\n",
       "      <td>3.300000e-01</td>\n",
       "      <td>14.962500</td>\n",
       "      <td>4.432500</td>\n",
       "    </tr>\n",
       "    <tr>\n",
       "      <th>max</th>\n",
       "      <td>1000.000000</td>\n",
       "      <td>78.000000</td>\n",
       "      <td>82.307000</td>\n",
       "      <td>-51.200000</td>\n",
       "      <td>1000.000000</td>\n",
       "      <td>7.380000</td>\n",
       "      <td>5700.000000</td>\n",
       "      <td>3.300000e-01</td>\n",
       "      <td>119.000000</td>\n",
       "      <td>73.600000</td>\n",
       "    </tr>\n",
       "  </tbody>\n",
       "</table>\n",
       "</div>"
      ],
      "text/plain": [
       "                id  properties.HeatProduction_mWm3  properties.LatDegree  \\\n",
       "count  1000.000000                     1000.000000           1000.000000   \n",
       "mean    500.500000                        2.051910             51.988359   \n",
       "std     288.819436                        3.193779              7.059343   \n",
       "min       1.000000                        0.010000             43.454000   \n",
       "25%     250.750000                        0.590000             49.110000   \n",
       "50%     500.500000                        1.230000             49.900000   \n",
       "75%     750.250000                        2.520000             52.829750   \n",
       "max    1000.000000                       78.000000             82.307000   \n",
       "\n",
       "       properties.LongDegree  properties.OBJECTID  properties.Potassium  \\\n",
       "count            1000.000000          1000.000000           1000.000000   \n",
       "mean             -102.258600           500.500000              2.432120   \n",
       "std                21.635126           288.819436              1.521545   \n",
       "min              -133.447000             1.000000              0.000000   \n",
       "25%              -121.555000           250.750000              1.097500   \n",
       "50%              -102.420000           500.500000              2.250000   \n",
       "75%               -85.486000           750.250000              3.730000   \n",
       "max               -51.200000          1000.000000              7.380000   \n",
       "\n",
       "       properties.SampleDepth_m  properties.SampleMass_kg  properties.Thorium  \\\n",
       "count               1000.000000              1.000000e+03         1000.000000   \n",
       "mean                 240.525650              3.300000e-01           10.948860   \n",
       "std                  354.043679              6.664671e-16           12.735285   \n",
       "min                    0.000000              3.300000e-01            0.000000   \n",
       "25%                   10.750000              3.300000e-01            2.330000   \n",
       "50%                  159.100000              3.300000e-01            6.330000   \n",
       "75%                  340.125000              3.300000e-01           14.962500   \n",
       "max                 5700.000000              3.300000e-01          119.000000   \n",
       "\n",
       "       properties.Uranium  \n",
       "count         1000.000000  \n",
       "mean             3.831630  \n",
       "std              5.205746  \n",
       "min              0.000000  \n",
       "25%              0.960000  \n",
       "50%              1.960000  \n",
       "75%              4.432500  \n",
       "max             73.600000  "
      ]
     },
     "execution_count": 124,
     "metadata": {},
     "output_type": "execute_result"
    }
   ],
   "source": [
    " dataframe.describe()\n"
   ]
  },
  {
   "cell_type": "code",
   "execution_count": null,
   "metadata": {
    "collapsed": true
   },
   "outputs": [],
   "source": []
  }
 ],
 "metadata": {
  "kernelspec": {
   "display_name": "Python 3",
   "language": "python",
   "name": "python3"
  },
  "language_info": {
   "codemirror_mode": {
    "name": "ipython",
    "version": 3
   },
   "file_extension": ".py",
   "mimetype": "text/x-python",
   "name": "python",
   "nbconvert_exporter": "python",
   "pygments_lexer": "ipython3",
   "version": "3.5.2"
  }
 },
 "nbformat": 4,
 "nbformat_minor": 2
}
