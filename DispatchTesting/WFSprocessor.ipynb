{
 "cells": [
  {
   "cell_type": "markdown",
   "metadata": {},
   "source": [
    "# Process OGC Web Feature Service\n",
    "\n",
    "This notebook uses an endpoint URL, passed either as an 'endpoint' parameter when the notebook is called, or assigned in cell 5.\n",
    "\n"
   ]
  },
  {
   "cell_type": "code",
   "execution_count": 82,
   "metadata": {
    "collapsed": true
   },
   "outputs": [],
   "source": [
    "import sys\n",
    "try:\n",
    "    from osgeo import ogr, gdal\n",
    "except:\n",
    "    sys.exit('ERROR: cannot find GDAL/OGR modules')\n",
    "    \n",
    "from ipywidgets import interact\n",
    "\n",
    "import requests\n",
    "import json\n",
    "from pandas.io.json import json_normalize\n",
    "maxfeatures=500000\n",
    "\n",
    "#import numpy as np\n",
    "#import pandas as pd\n",
    "#import xmltodict\n",
    "#from ipywidgets import interactive, fixed, interact_manual\n",
    "#import ipywidgets as widgets"
   ]
  },
  {
   "cell_type": "code",
   "execution_count": null,
   "metadata": {
    "collapsed": true
   },
   "outputs": [],
   "source": [
    "\n",
    "\n"
   ]
  },
  {
   "cell_type": "markdown",
   "metadata": {},
   "source": [
    "#for some reason the env variable is not getting set when the book is first opened, have to set manually\n",
    "#WFS driver doesn't work\n",
    "set GDAL_DATA=E:\\EPrograms\\Anaconda\\envs\\py36\\Library\\share\\gdal"
   ]
  },
  {
   "cell_type": "code",
   "execution_count": 83,
   "metadata": {},
   "outputs": [
    {
     "data": {
      "application/javascript": [
       "//check if there is an endpoint parameter in the notebook call\n",
       "\n",
       "function getQueryStringValue (key)\n",
       "{  \n",
       "    return unescape(window.location.search.replace(new RegExp(\"^(?:.*[&\\\\?]\" + escape(key).replace(/[\\.\\+\\*]/g, \"\\\\$&\") + \"(?:\\\\=([^&]*))?)?.*$\", \"i\"), \"$1\"));\n",
       "}\n",
       "IPython.notebook.kernel.execute(\"endpoint='\".concat(getQueryStringValue(\"endpoint\")).concat(\"'\"));\n",
       "IPython.notebook.kernel.execute(\"full_notebook_url='\" + window.location + \"'\"); "
      ],
      "text/plain": [
       "<IPython.core.display.Javascript object>"
      ]
     },
     "metadata": {},
     "output_type": "display_data"
    }
   ],
   "source": [
    "%%javascript\n",
    "//check if there is an endpoint parameter in the notebook call\n",
    "\n",
    "function getQueryStringValue (key)\n",
    "{  \n",
    "    return unescape(window.location.search.replace(new RegExp(\"^(?:.*[&\\\\?]\" + escape(key).replace(/[\\.\\+\\*]/g, \"\\\\$&\") + \"(?:\\\\=([^&]*))?)?.*$\", \"i\"), \"$1\"));\n",
    "}\n",
    "IPython.notebook.kernel.execute(\"endpoint='\".concat(getQueryStringValue(\"endpoint\")).concat(\"'\"));\n",
    "IPython.notebook.kernel.execute(\"full_notebook_url='\" + window.location + \"'\"); "
   ]
  },
  {
   "cell_type": "code",
   "execution_count": 84,
   "metadata": {
    "collapsed": true
   },
   "outputs": [],
   "source": [
    "def the_envelope(geom):\n",
    "    (minX, maxX, minY, maxY) = geom.GetEnvelope()\n",
    "    # calculate a bounding box geometry for the given geometry argument\n",
    "    # Create ring\n",
    "    ring = ogr.Geometry(ogr.wkbLinearRing)\n",
    "    ring.AddPoint(minX, minY)\n",
    "    ring.AddPoint(maxX, minY)\n",
    "    ring.AddPoint(maxX, maxY)\n",
    "    ring.AddPoint(minX, maxY)\n",
    "    ring.AddPoint(minX, minY)\n",
    "\n",
    "    # Create polygon\n",
    "    poly_envelope = ogr.Geometry(ogr.wkbPolygon)\n",
    "    poly_envelope.AddGeometry(ring)\n",
    "    return poly_envelope"
   ]
  },
  {
   "cell_type": "code",
   "execution_count": 85,
   "metadata": {
    "collapsed": true
   },
   "outputs": [],
   "source": [
    "def testurl(theurl):\n",
    "    #try HEAD first in case the response document is big\n",
    "    r = requests.head(theurl)\n",
    "    if (r.status_code != requests.codes.ok):\n",
    "        #check GET in case is an incomplete http implementation\n",
    "        r = requests.get(theurl)\n",
    "        if (r.status_code == requests.codes.ok):\n",
    "            return True\n",
    "        else:\n",
    "            return False\n",
    "    else:\n",
    "        return True"
   ]
  },
  {
   "cell_type": "code",
   "execution_count": 86,
   "metadata": {},
   "outputs": [
    {
     "name": "stdout",
     "output_type": "stream",
     "text": [
      "('Got endpoint parameter:', 'https://www.sciencebase.gov/catalogMaps/mapping/ows/514753a5e4b0694ee75b548a')\n"
     ]
    }
   ],
   "source": [
    "url_partitioned = full_notebook_url.partition('ISOmetadata-ExtractDistributions.ipynb')\n",
    "base_url = url_partitioned[0];\n",
    "\n",
    "if(endpoint is not None and len(endpoint)>0):\n",
    "    print('Got endpoint parameter:',endpoint)\n",
    "else: \n",
    "    # some USGS ScienceBase Geoserver WFS endpoints:\n",
    "    #endpoint='https://www.sciencebase.gov/catalogMaps/mapping/ows/5342c54be4b0aa151574a8dc'\n",
    "    #endpoint='https://www.sciencebase.gov/catalogMaps/mapping/ows/5342c5fce4b0aa151574a8ed'\n",
    "    #endpoint='https://www.sciencebase.gov/catalogMaps/mapping/ows/4f4e49cfe4b07f02db5da90e'\n",
    "\n",
    "    # some NGDS end points\n",
    "    endpoint='http://services.azgs.az.gov/arcgis/services/aasggeothermal/CAaqWellChemistry/MapServer/WFSServer'\n",
    "    #endpoint='http://services.azgs.az.gov/arcgis/services/aasggeothermal/AZActiveFaults/MapServer/WFSServer'\n",
    "\n",
    "    #EarthChem\n",
    "    #endpoint='http://ecp.iedadata.org/wfs/ows?service=wfs'\n",
    "\n",
    "    #smu thermal conductivity, geoserver\n",
    "    #endpoint='http://geothermal.smu.edu:9000/geoserver/aasg-thermalconductivity/ows'\n",
    "\n",
    "    #NOAA Watch/warning polygons\n",
    "    #endpoint = 'https://idpgis.ncep.noaa.gov/arcgis/services/NWS_Forecasts_Guidance_Warnings/watch_warn_adv/MapServer/WFSServer'\n",
    "    print('Assign endpoint:', endpoint)\n",
    "# limit the number of features that will be processed\n"
   ]
  },
  {
   "cell_type": "code",
   "execution_count": 87,
   "metadata": {},
   "outputs": [
    {
     "name": "stdout",
     "output_type": "stream",
     "text": [
      "WFS driver IS available.\n",
      "\n"
     ]
    }
   ],
   "source": [
    "## Shapefile available?\n",
    "driverName = \"WFS\"\n",
    "# Set the driver (optional)\n",
    "wfs_drv = ogr.GetDriverByName(driverName)\n",
    "\n",
    "if wfs_drv is None:\n",
    "    print (\"%s driver not available.\\n\" % driverName)\n",
    "else:\n",
    "    print  (\"%s driver IS available.\\n\" % driverName)"
   ]
  },
  {
   "cell_type": "code",
   "execution_count": 88,
   "metadata": {
    "collapsed": true
   },
   "outputs": [],
   "source": [
    "# !set GDAL_DATA=E:\\EPrograms\\Anaconda\\Library\\share\\gdal\n",
    "# !set GDAL_DATA"
   ]
  },
  {
   "cell_type": "code",
   "execution_count": 89,
   "metadata": {
    "collapsed": true
   },
   "outputs": [],
   "source": [
    "# Speeds up querying WFS capabilities for services with alot of layers\n",
    "gdal.SetConfigOption('OGR_WFS_LOAD_MULTIPLE_LAYER_DEFN', 'NO')\n",
    "\n",
    "# Set config for paging. Works on WFS 2.0 services and WFS 1.0 and 1.1 with some other services.\n",
    "gdal.SetConfigOption('OGR_WFS_PAGING_ALLOWED', 'YES')\n",
    "gdal.SetConfigOption('OGR_WFS_PAGE_SIZE', '10000')\n",
    "\n",
    "\n",
    "#test that service is up with getcapabilities request\n",
    "\n",
    "capurl=endpoint + '?service=wfs&request=getCapabilities'\n",
    "\n",
    "if testurl(capurl):\n",
    "    # Open the webservice\n",
    "    wfs_ds = wfs_drv.Open('WFS:' + endpoint)\n",
    "    #wfs_ds = wfs_drv.Open('http://ecp.iedadata.org/wfs/ows?service=wfs')\n",
    "    if wfs_ds is None:\n",
    "        print('ERROR: can not open WFS datasource')\n",
    "else:\n",
    "    print('ERROR: service not responding')\n"
   ]
  },
  {
   "cell_type": "code",
   "execution_count": 90,
   "metadata": {},
   "outputs": [
    {
     "name": "stdout",
     "output_type": "stream",
     "text": [
      "Layer: sb:footprint, Features: 1, SR: GEOGCS[\"WGS 84\",DATUM[\"WGS_1984\",SPHEROID[\"WGS 84\"...\n",
      "('feature count: ', 1)\n",
      "Layer: sb:pgv, Features: 4, SR: GEOGCS[\"WGS 84\",DATUM[\"WGS_1984\",SPHEROID[\"WGS 84\"...\n",
      "('feature count: ', 4)\n"
     ]
    }
   ],
   "source": [
    "# iterate over available layers\n",
    "for i in range(wfs_ds.GetLayerCount()):\n",
    "    layer = wfs_ds.GetLayerByIndex(i)\n",
    "    srs = layer.GetSpatialRef()\n",
    "    print ('Layer: %s, Features: %s, SR: %s...' % (layer.GetName(), layer.GetFeatureCount(), srs.ExportToWkt()[0:50]))\n",
    "\n",
    "    # iterate over features\n",
    "    #fcount = 1\n",
    "    #feat = layer.GetNextFeature()\n",
    "    #while feat is not None:\n",
    "    #    feat = layer.GetNextFeature()\n",
    "    #    fcount = fcount + 1\n",
    "        # do something more..\n",
    "    #feat = None\n",
    "    print ('feature count: ',layer.GetFeatureCount())"
   ]
  },
  {
   "cell_type": "markdown",
   "metadata": {},
   "source": [
    "#gdal call to get the capabilities document\n",
    "caps=wfs_ds.GetLayerByName('WFSGetCapabilities')\n",
    "#print the number of feature types reported in the capabilities document\n",
    "print(caps.GetFeatureCount())\n",
    "\n",
    "for feat in caps:\n",
    "    jsonwrap= json.loads(feat.ExportToJson())\n",
    "    \n",
    "capsxml=jsonwrap['properties']['content']\n",
    "capsjson=xmltodict.parse(capsxml)\n",
    "capsjson=json.dumps(capsjson, indent=2)\n",
    "#print(capsjson)"
   ]
  },
  {
   "cell_type": "markdown",
   "metadata": {},
   "source": [
    "Want to let user pick the layer to work with."
   ]
  },
  {
   "cell_type": "code",
   "execution_count": 91,
   "metadata": {},
   "outputs": [
    {
     "data": {
      "application/vnd.jupyter.widget-view+json": {
       "model_id": "cf10e1e6707941ef8eb848b84c1be1d0",
       "version_major": 2,
       "version_minor": 0
      },
      "text/plain": [
       "interactive(children=(Dropdown(description=u'feat_menu', options=('sb:pgv', 'sb:footprint'), value='sb:pgv'), â€¦"
      ]
     },
     "metadata": {},
     "output_type": "display_data"
    }
   ],
   "source": [
    "\n",
    "feat_list={}\n",
    "for i in range(wfs_ds.GetLayerCount()):\n",
    "    layer = wfs_ds.GetLayerByIndex(i)\n",
    "    feat_list[layer.GetName()] = layer.GetName()\n",
    "\n",
    "\n",
    "def f(feat_menu):\n",
    "    return feat_menu\n",
    "# out = interact(f, feat_menu=nb_menu);\n",
    "out = interact(f, feat_menu=feat_list.keys());\n",
    "\n",
    "#print(\"interact out: \", out)"
   ]
  },
  {
   "cell_type": "code",
   "execution_count": 92,
   "metadata": {},
   "outputs": [
    {
     "name": "stdout",
     "output_type": "stream",
     "text": [
      "('chosen layer:', 'sb:pgv')\n"
     ]
    }
   ],
   "source": [
    "# Get a specific layer\n",
    "\n",
    "chosenlayer= feat_list[out.widget.result]\n",
    "if len(chosenlayer)==0:\n",
    "    chosenlayer=wfs_ds.GetLayerByIndex(1).GetName()\n",
    "\n",
    "layer = wfs_ds.GetLayerByName(chosenlayer)\n",
    "\n",
    "print('chosen layer:',chosenlayer)\n",
    "\n",
    "if not layer:\n",
    "    sys.exit('ERROR: can not find layer in service')\n",
    "else:\n",
    "    pass"
   ]
  },
  {
   "cell_type": "code",
   "execution_count": 93,
   "metadata": {},
   "outputs": [
    {
     "data": {
      "text/plain": [
       "4"
      ]
     },
     "execution_count": 93,
     "metadata": {},
     "output_type": "execute_result"
    }
   ],
   "source": [
    "layer.GetFeatureCount()"
   ]
  },
  {
   "cell_type": "code",
   "execution_count": 94,
   "metadata": {},
   "outputs": [
    {
     "name": "stdout",
     "output_type": "stream",
     "text": [
      "<osgeo.ogr.Feature; proxy of <Swig Object of type 'OGRFeatureShadow *' at 0x0000000011B11FC0> >\n",
      "feature: MULTISURFACE\n",
      "replace geometry with bounding box\n",
      "feature: MULTISURFACE\n",
      "replace geometry with bounding box\n",
      "feature: MULTISURFACE\n",
      "replace geometry with bounding box\n",
      "feature: MULTISURFACE\n",
      "replace geometry with bounding box\n",
      "('size:', 44)\n",
      "done timed cell, 4 features in result set\n",
      "Wall time: 2.15 s\n"
     ]
    }
   ],
   "source": [
    "%%time\n",
    "count = 0\n",
    "tdata = []\n",
    "\n",
    "if (layer.GetFeatureCount()>0):\n",
    "    feat=layer.GetFeature(1)\n",
    "    print(feat)\n",
    "#    jtemp=feat.GetGeometryRef().ExportToJson()\n",
    "#    print('J temp:',jtemp)\n",
    "#    tdata.append(json.loads(jtemp))   \n",
    "#else:\n",
    "#feat = layer.GetNextFeature()\n",
    "\n",
    "#while feat is not None:\n",
    "    for feat in layer:\n",
    "        print('feature: %s' % feat.geometry().GetGeometryName())\n",
    "        #ExportToJson doesn't work with some geometries (e.g .MULTISURFACE(??), \n",
    "        # in that case, replace with bounding box     \n",
    "        try:\n",
    "            temp=feat.ExportToJson()\n",
    "        except:\n",
    "            msenvelope=the_envelope( feat.geometry())\n",
    "            #print('BoundingBox: %s' % msenvelope)\n",
    "            print('replace geometry with bounding box')\n",
    "            feat.SetGeometry(msenvelope)\n",
    "        tdata.append(json.loads(feat.ExportToJson()))\n",
    "        #feat = layer.GetNextFeature()\n",
    "        count = count + 1\n",
    "        #avoid getting hung on very long responses, maxsfeatures set in \n",
    "        if count > maxfeatures:\n",
    "            break\n",
    "feat = None\n",
    "\n",
    "#print (tdata)\n",
    "dataframe=json_normalize(tdata)\n",
    "print('size:',dataframe.size)\n",
    "\n",
    "#dataframe\n",
    "print('done timed cell, %s features in result set' % count)"
   ]
  },
  {
   "cell_type": "markdown",
   "metadata": {},
   "source": [
    "Problem with json_normalize:  \n",
    "This appears to be a bug in the latest version of pandas: https://github.com/pandas-dev/pandas/issues/21158\n",
    "Running pandas '0.23.0', error arises due to condition case when null value occurs on the nesting level greater than 0. It seems to have been changed around two months ago that seems to have made it's way into 0.23.0 release two weeks ago:\n",
    "\n",
    "https://github.com/pandas-dev/pandas/commit/01882ba5b4c21b0caf2e6b9279fb01967aa5d650#diff-9c654764f5f21c8e9d58d9ebf14de86d\n",
    "\n",
    "When I use python verion 3.6.3 :: Anaconda Inc. and pandas version 0.20.3 I do not see this issue and json_normalize is able to work properly. \n",
    "\n",
    "2018-06-28 SMR rolled pandas back to 0.20.3 in the py36 kernel env.\n"
   ]
  },
  {
   "cell_type": "markdown",
   "metadata": {},
   "source": [
    "Now get a list of the attributes of the feature type"
   ]
  },
  {
   "cell_type": "markdown",
   "metadata": {},
   "source": [
    "    #example function to get field definitions from gdal\n",
    "    #these are more informative than the pandas dataframe definitions\n",
    "    lyrDefn = layer.GetLayerDefn()\n",
    "    for i in range( lyrDefn.GetFieldCount() ):\n",
    "        fieldName =  lyrDefn.GetFieldDefn(i).GetName()\n",
    "        fieldTypeCode = lyrDefn.GetFieldDefn(i).GetType()\n",
    "        fieldType = lyrDefn.GetFieldDefn(i).GetFieldTypeName(fieldTypeCode)\n",
    "        fieldWidth = lyrDefn.GetFieldDefn(i).GetWidth()\n",
    "        GetPrecision = lyrDefn.GetFieldDefn(i).GetPrecision()\n",
    "\n",
    "        print (fieldName + \" - \" + fieldType+ \" \" + str(fieldWidth) + \" \" + str(GetPrecision))"
   ]
  },
  {
   "cell_type": "markdown",
   "metadata": {},
   "source": [
    "Do some data summarization with pandas"
   ]
  },
  {
   "cell_type": "markdown",
   "metadata": {},
   "source": [
    "#easy pandas way to get the field types\n",
    "#dataframe.dtypes"
   ]
  },
  {
   "cell_type": "code",
   "execution_count": 95,
   "metadata": {},
   "outputs": [
    {
     "name": "stdout",
     "output_type": "stream",
     "text": [
      "coordinates has no ogr definition\n",
      "type has no ogr definition\n",
      "AREA - Real 0 0\n",
      "GRID_CODE - Integer64 0 0\n",
      "PERIMETER - Real 0 0\n",
      "PGAPOL_ - Integer64 0 0\n",
      "PGAPOL_ID - Integer64 0 0\n",
      "VALUE - Real 0 0\n",
      "gml_id - String 0 0\n"
     ]
    }
   ],
   "source": [
    "#for value in dataframe['properties.K_mgL']:\n",
    "#    if value != None:\n",
    "#        print (value)\n",
    "lyrDefn = layer.GetLayerDefn()\n",
    "\n",
    "for col in dataframe.columns:\n",
    "    if (col.find('.')>-1):\n",
    "        field=str(col.split('.')[1])\n",
    "        #print('col: %s, field: %s' % (col, field))\n",
    "        fielddef = lyrDefn.GetFieldDefn(lyrDefn.GetFieldIndex(field))\n",
    "        if (fielddef is not None):\n",
    "            fieldTypeCode = fielddef.GetType()\n",
    "            fieldType = fielddef.GetFieldTypeName(fieldTypeCode)\n",
    "            fieldWidth = fielddef.GetWidth()\n",
    "            GetPrecision = fielddef.GetPrecision()       \n",
    "            print (field + \" - \" + fieldType+ \" \" + str(fieldWidth) + \" \" + str(GetPrecision))\n",
    "        else:\n",
    "            print(field + ' has no ogr definition')\n",
    "\n",
    "            \n",
    "def findfieldtype(pcol):\n",
    "    if (pcol.find('.')>-1):\n",
    "        field=str(pcol.split('.')[1])\n",
    "    else:\n",
    "        field=str(pcol)\n",
    "    fielddef = lyrDefn.GetFieldDefn(lyrDefn.GetFieldIndex(field))\n",
    "    if (fielddef is not None):\n",
    "        thetype= fielddef.GetFieldTypeName(fielddef.GetType())\n",
    "    else:\n",
    "        thetype='xxxx'\n",
    "    return thetype"
   ]
  },
  {
   "cell_type": "code",
   "execution_count": 77,
   "metadata": {},
   "outputs": [
    {
     "name": "stdout",
     "output_type": "stream",
     "text": [
      "4 features analyzed.\n",
      "field:AREA, count:4, mean:0.00; max:0.00; min:0.00\n",
      "field:GRID_CODE, count:4: max:1.00; min:1.00\n",
      "field:PERIMETER, count:4, mean:0.00; max:0.00; min:0.00\n",
      "field:PGAPOL_, count:4: max:5.00; min:2.00\n",
      "field:PGAPOL_ID, count:4: max:4.00; min:1.00\n",
      "field:VALUE, count:4, mean:1.00; max:1.00; min:1.00\n",
      "gml_id is a text field, all values are unique\n",
      "  \n",
      "\n",
      "The following fields contain no data:\n",
      "[]\n"
     ]
    }
   ],
   "source": [
    "print('%s features analyzed.' % len(dataframe.index))\n",
    "\n",
    "for col in dataframe.columns:\n",
    "    #print(col)\n",
    "    if (col.find('.')>-1):\n",
    "        colname=str(col.split('.')[1])\n",
    "    else:\n",
    "        colname=str(col)\n",
    "        \n",
    "    if (dataframe[col].count() > 0) and  (dataframe[col].dtype=='float64'):\n",
    "        mean=dataframe[col].mean()\n",
    "        max=dataframe[col].max()\n",
    "        min=dataframe[col].min()\n",
    "        print('field:%s, count:%s, mean:%s; max:%s; min:%s' \n",
    "              % (colname, dataframe[col].count(), \"{:.2f}\".format(mean), \n",
    "                 \"{:.2f}\".format(max), \"{:.2f}\".format(min)))\n",
    "    \n",
    "    if (dataframe[col].count() > 0) and  (findfieldtype(col).find('Integer')>-1):\n",
    "        max=dataframe[col].max()\n",
    "        min=dataframe[col].min()\n",
    "        print('field:%s, count:%s: max:%s; min:%s' \n",
    "              % (colname, dataframe[col].count(),  \n",
    "                 \"{:.2f}\".format(max), \"{:.2f}\".format(min)))\n",
    "    \n",
    "    if (dataframe[col].count() > 0) and  (findfieldtype(col)=='String'):\n",
    "        # and  (type(dataframe[col][1])=='str')\n",
    "        #for item in dataframe[col].unique():\n",
    "        #    print (item)\n",
    "        #print (type(dataframe[col][1]))\n",
    "        if len(dataframe.index)==len(dataframe[col].unique()):\n",
    "            print(colname + ' is a text field, all values are unique')\n",
    "            print('  ')\n",
    "        elif (len(dataframe[col].unique()) > 50):\n",
    "            print(colname + ' appears to be a free text field, there are ' + str(len(dataframe[col].unique())) + ' unique values.' )\n",
    "            print('  ')\n",
    "        else:\n",
    "            print (colname +' has '+ str(len(dataframe[col].unique())) + ' unique values.')\n",
    "            for val in dataframe[col].unique(): print(str(val))\n",
    "            print('  ')\n",
    " \n",
    "emptyfields = []\n",
    "print('\\nThe following fields contain no data:')\n",
    "for col in dataframe.columns:            \n",
    "    if (dataframe[col].count() == 0):\n",
    "        emptyfields.append(str(col.split('.')[1]))       \n",
    "print(emptyfields)\n",
    "        "
   ]
  },
  {
   "cell_type": "code",
   "execution_count": 96,
   "metadata": {},
   "outputs": [
    {
     "data": {
      "text/html": [
       "<div>\n",
       "<style>\n",
       "    .dataframe thead tr:only-child th {\n",
       "        text-align: right;\n",
       "    }\n",
       "\n",
       "    .dataframe thead th {\n",
       "        text-align: left;\n",
       "    }\n",
       "\n",
       "    .dataframe tbody tr th {\n",
       "        vertical-align: top;\n",
       "    }\n",
       "</style>\n",
       "<table border=\"1\" class=\"dataframe\">\n",
       "  <thead>\n",
       "    <tr style=\"text-align: right;\">\n",
       "      <th></th>\n",
       "      <th>id</th>\n",
       "      <th>properties.AREA</th>\n",
       "      <th>properties.GRID_CODE</th>\n",
       "      <th>properties.PERIMETER</th>\n",
       "      <th>properties.PGAPOL_</th>\n",
       "      <th>properties.PGAPOL_ID</th>\n",
       "      <th>properties.VALUE</th>\n",
       "    </tr>\n",
       "  </thead>\n",
       "  <tbody>\n",
       "    <tr>\n",
       "      <th>count</th>\n",
       "      <td>4.000000</td>\n",
       "      <td>4.0</td>\n",
       "      <td>4.0</td>\n",
       "      <td>4.0</td>\n",
       "      <td>4.000000</td>\n",
       "      <td>4.000000</td>\n",
       "      <td>4.0</td>\n",
       "    </tr>\n",
       "    <tr>\n",
       "      <th>mean</th>\n",
       "      <td>2.500000</td>\n",
       "      <td>0.0</td>\n",
       "      <td>1.0</td>\n",
       "      <td>0.0</td>\n",
       "      <td>3.500000</td>\n",
       "      <td>2.500000</td>\n",
       "      <td>1.0</td>\n",
       "    </tr>\n",
       "    <tr>\n",
       "      <th>std</th>\n",
       "      <td>1.290994</td>\n",
       "      <td>0.0</td>\n",
       "      <td>0.0</td>\n",
       "      <td>0.0</td>\n",
       "      <td>1.290994</td>\n",
       "      <td>1.290994</td>\n",
       "      <td>0.0</td>\n",
       "    </tr>\n",
       "    <tr>\n",
       "      <th>min</th>\n",
       "      <td>1.000000</td>\n",
       "      <td>0.0</td>\n",
       "      <td>1.0</td>\n",
       "      <td>0.0</td>\n",
       "      <td>2.000000</td>\n",
       "      <td>1.000000</td>\n",
       "      <td>1.0</td>\n",
       "    </tr>\n",
       "    <tr>\n",
       "      <th>25%</th>\n",
       "      <td>1.750000</td>\n",
       "      <td>0.0</td>\n",
       "      <td>1.0</td>\n",
       "      <td>0.0</td>\n",
       "      <td>2.750000</td>\n",
       "      <td>1.750000</td>\n",
       "      <td>1.0</td>\n",
       "    </tr>\n",
       "    <tr>\n",
       "      <th>50%</th>\n",
       "      <td>2.500000</td>\n",
       "      <td>0.0</td>\n",
       "      <td>1.0</td>\n",
       "      <td>0.0</td>\n",
       "      <td>3.500000</td>\n",
       "      <td>2.500000</td>\n",
       "      <td>1.0</td>\n",
       "    </tr>\n",
       "    <tr>\n",
       "      <th>75%</th>\n",
       "      <td>3.250000</td>\n",
       "      <td>0.0</td>\n",
       "      <td>1.0</td>\n",
       "      <td>0.0</td>\n",
       "      <td>4.250000</td>\n",
       "      <td>3.250000</td>\n",
       "      <td>1.0</td>\n",
       "    </tr>\n",
       "    <tr>\n",
       "      <th>max</th>\n",
       "      <td>4.000000</td>\n",
       "      <td>0.0</td>\n",
       "      <td>1.0</td>\n",
       "      <td>0.0</td>\n",
       "      <td>5.000000</td>\n",
       "      <td>4.000000</td>\n",
       "      <td>1.0</td>\n",
       "    </tr>\n",
       "  </tbody>\n",
       "</table>\n",
       "</div>"
      ],
      "text/plain": [
       "             id  properties.AREA  properties.GRID_CODE  properties.PERIMETER  \\\n",
       "count  4.000000              4.0                   4.0                   4.0   \n",
       "mean   2.500000              0.0                   1.0                   0.0   \n",
       "std    1.290994              0.0                   0.0                   0.0   \n",
       "min    1.000000              0.0                   1.0                   0.0   \n",
       "25%    1.750000              0.0                   1.0                   0.0   \n",
       "50%    2.500000              0.0                   1.0                   0.0   \n",
       "75%    3.250000              0.0                   1.0                   0.0   \n",
       "max    4.000000              0.0                   1.0                   0.0   \n",
       "\n",
       "       properties.PGAPOL_  properties.PGAPOL_ID  properties.VALUE  \n",
       "count            4.000000              4.000000               4.0  \n",
       "mean             3.500000              2.500000               1.0  \n",
       "std              1.290994              1.290994               0.0  \n",
       "min              2.000000              1.000000               1.0  \n",
       "25%              2.750000              1.750000               1.0  \n",
       "50%              3.500000              2.500000               1.0  \n",
       "75%              4.250000              3.250000               1.0  \n",
       "max              5.000000              4.000000               1.0  "
      ]
     },
     "execution_count": 96,
     "metadata": {},
     "output_type": "execute_result"
    }
   ],
   "source": [
    " dataframe.describe()\n"
   ]
  },
  {
   "cell_type": "code",
   "execution_count": null,
   "metadata": {
    "collapsed": true
   },
   "outputs": [],
   "source": []
  }
 ],
 "metadata": {
  "kernelspec": {
   "display_name": "py36",
   "language": "python",
   "name": "py36"
  },
  "language_info": {
   "codemirror_mode": {
    "name": "ipython",
    "version": 2
   },
   "file_extension": ".py",
   "mimetype": "text/x-python",
   "name": "python",
   "nbconvert_exporter": "python",
   "pygments_lexer": "ipython2",
   "version": "2.7.13"
  }
 },
 "nbformat": 4,
 "nbformat_minor": 2
}
